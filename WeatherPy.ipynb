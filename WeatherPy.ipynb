{
 "cells": [
  {
   "cell_type": "markdown",
   "id": "52af2fcd",
   "metadata": {},
   "source": [
    "# Random"
   ]
  },
  {
   "cell_type": "code",
   "execution_count": 1,
   "id": "afe14f03",
   "metadata": {},
   "outputs": [],
   "source": [
    "import random"
   ]
  },
  {
   "cell_type": "code",
   "execution_count": 2,
   "id": "a5551ac8",
   "metadata": {},
   "outputs": [
    {
     "data": {
      "text/plain": [
       "0.5579594117881912"
      ]
     },
     "execution_count": 2,
     "metadata": {},
     "output_type": "execute_result"
    }
   ],
   "source": [
    "# random decimal between 0 and 1\n",
    "random.random()"
   ]
  },
  {
   "cell_type": "code",
   "execution_count": 3,
   "id": "5bb5614b",
   "metadata": {},
   "outputs": [
    {
     "data": {
      "text/plain": [
       "-35"
      ]
     },
     "execution_count": 3,
     "metadata": {},
     "output_type": "execute_result"
    }
   ],
   "source": [
    "# random whole number divisible by step-increment within range\n",
    "random.randrange(-90,90,step=5)"
   ]
  },
  {
   "cell_type": "code",
   "execution_count": 4,
   "id": "15c22f46",
   "metadata": {},
   "outputs": [
    {
     "data": {
      "text/plain": [
       "64"
      ]
     },
     "execution_count": 4,
     "metadata": {},
     "output_type": "execute_result"
    }
   ],
   "source": [
    "# random whole number within range\n",
    "random.randint(-90,90)"
   ]
  },
  {
   "cell_type": "code",
   "execution_count": 5,
   "id": "045b842a",
   "metadata": {},
   "outputs": [
    {
     "data": {
      "text/plain": [
       "68.74081983264179"
      ]
     },
     "execution_count": 5,
     "metadata": {},
     "output_type": "execute_result"
    }
   ],
   "source": [
    "# random decimal within range\n",
    "random.uniform(-90,90)"
   ]
  },
  {
   "cell_type": "code",
   "execution_count": 6,
   "id": "62f0d855",
   "metadata": {},
   "outputs": [
    {
     "data": {
      "text/plain": [
       "[-41.77343127280975,\n",
       " -76.78195793881522,\n",
       " 79.31450157457951,\n",
       " -11.157136888363103,\n",
       " -38.18736693301277,\n",
       " 26.634770106586984,\n",
       " -48.77671913255877,\n",
       " -23.33311120098426,\n",
       " 81.01641350916542,\n",
       " -41.471035542014704]"
      ]
     },
     "execution_count": 6,
     "metadata": {},
     "output_type": "execute_result"
    }
   ],
   "source": [
    "# creates a list of 10 random latitude points between -90 and 89\n",
    "\n",
    "x = 1\n",
    "latitudes = []\n",
    "while x < 11:\n",
    "    random_lat = random.randint(-90, 89) + random.random()\n",
    "    latitudes.append(random_lat)\n",
    "    x += 1\n",
    "    \n",
    "latitudes"
   ]
  },
  {
   "cell_type": "code",
   "execution_count": 7,
   "id": "1362dd0f",
   "metadata": {},
   "outputs": [],
   "source": [
    "# Import the NumPy module.\n",
    "import numpy as np"
   ]
  },
  {
   "cell_type": "code",
   "execution_count": 8,
   "id": "6d7b2761",
   "metadata": {},
   "outputs": [
    {
     "data": {
      "text/plain": [
       "array([-76.13104739,  -8.9605106 , -37.09493765, -48.14167605,\n",
       "       -84.19536274, -33.62128709, -15.02282179,  50.12061612,\n",
       "       -49.32255351,  42.00686696,  41.78147304, -24.63843072,\n",
       "       -48.84182618,  20.90964008,   8.19451466, -55.931819  ,\n",
       "        66.9693612 , -82.6654373 ,  57.16469269,  -6.03835975,\n",
       "       -87.04762579,  12.70135193,  29.97168347,   2.89000894,\n",
       "       -35.91767866,  15.54038301,   5.07015265, -57.89706995,\n",
       "       -85.87757971, -85.34689809, -12.80743398, -19.54820252,\n",
       "        65.87435626, -47.66452957, -79.62427023,  83.96526188,\n",
       "       -53.62123912,   6.1674973 ,  71.73292506, -13.58318718,\n",
       "        64.55501369, -72.25233376,  -6.06498659,  -7.84792422,\n",
       "        43.81563231,  60.9681126 ,  13.56413904, -68.56539115,\n",
       "        71.90952633,   2.47104509])"
      ]
     },
     "execution_count": 8,
     "metadata": {},
     "output_type": "execute_result"
    }
   ],
   "source": [
    "# creates (size) array of random decimals within range\n",
    "np.random.uniform(-90,90, size=50)"
   ]
  },
  {
   "cell_type": "code",
   "execution_count": 9,
   "id": "a202320f",
   "metadata": {},
   "outputs": [],
   "source": [
    "# Import timeit.\n",
    "import timeit"
   ]
  },
  {
   "cell_type": "code",
   "execution_count": 10,
   "id": "332878b4",
   "metadata": {},
   "outputs": [
    {
     "name": "stdout",
     "output_type": "stream",
     "text": [
      "22.9 µs ± 1.52 µs per loop (mean ± std. dev. of 7 runs, 10000 loops each)\n"
     ]
    }
   ],
   "source": [
    "%timeit np.random.uniform(-90.000, 90.000, size=1500)"
   ]
  },
  {
   "cell_type": "code",
   "execution_count": 11,
   "id": "fcd5ef8d",
   "metadata": {},
   "outputs": [
    {
     "name": "stdout",
     "output_type": "stream",
     "text": [
      "3.25 ms ± 458 µs per loop (mean ± std. dev. of 7 runs, 100 loops each)\n"
     ]
    }
   ],
   "source": [
    "def latitudes(size):\n",
    "    latitudes = []\n",
    "    x = 0\n",
    "    while x < (size):\n",
    "        random_lat = random.randint(-90, 90) + random.random()\n",
    "        latitudes.append(random_lat)\n",
    "        x += 1\n",
    "    return latitudes\n",
    "\n",
    "# Call the function with 1500.\n",
    "%timeit latitudes(1500)"
   ]
  },
  {
   "cell_type": "markdown",
   "id": "9a55fdaa",
   "metadata": {},
   "source": [
    "# Create Lat and Long combinations"
   ]
  },
  {
   "cell_type": "code",
   "execution_count": 12,
   "id": "ab4ba457",
   "metadata": {},
   "outputs": [],
   "source": [
    "# Import the dependencies.\n",
    "import pandas as pd\n",
    "import matplotlib.pyplot as plt\n",
    "import numpy as np"
   ]
  },
  {
   "cell_type": "code",
   "execution_count": 13,
   "id": "dc924b97",
   "metadata": {},
   "outputs": [
    {
     "data": {
      "text/plain": [
       "<zip at 0x1c068e17488>"
      ]
     },
     "execution_count": 13,
     "metadata": {},
     "output_type": "execute_result"
    }
   ],
   "source": [
    "# Create a set of random latitude and longitude combinations.\n",
    "lats = np.random.uniform(low=-90.000, high=90.000, size=1500)\n",
    "lngs = np.random.uniform(low=-180.000, high=180.000, size=1500)\n",
    "lat_lngs = zip(lats, lngs)\n",
    "lat_lngs"
   ]
  },
  {
   "cell_type": "markdown",
   "id": "3e3e4204",
   "metadata": {},
   "source": [
    "# Practice"
   ]
  },
  {
   "cell_type": "code",
   "execution_count": 14,
   "id": "27e9854e",
   "metadata": {},
   "outputs": [],
   "source": [
    "# Create a practice set of random latitude and longitude combinations.\n",
    "lats = [25.12903645, 25.92017388, 26.62509167, -59.98969384, 37.30571269]\n",
    "lngs = [-67.59741259, 11.09532135, 74.84233102, -76.89176677, -61.13376282]\n",
    "lat_lngs = zip(lats, lngs)"
   ]
  },
  {
   "cell_type": "code",
   "execution_count": 15,
   "id": "26417903",
   "metadata": {},
   "outputs": [],
   "source": [
    "# Add the latitudes and longitudes to a list.\n",
    "coordinates = list(lat_lngs)"
   ]
  },
  {
   "cell_type": "code",
   "execution_count": 16,
   "id": "bc6ae860",
   "metadata": {},
   "outputs": [
    {
     "name": "stdout",
     "output_type": "stream",
     "text": [
      "25.12903645 -67.59741259\n",
      "25.92017388 11.09532135\n",
      "26.62509167 74.84233102\n",
      "-59.98969384 -76.89176677\n",
      "37.30571269 -61.13376282\n"
     ]
    }
   ],
   "source": [
    "# Use the print() function to display the latitude and longitude combinations.\n",
    "for coordinate in coordinates:\n",
    "    print(coordinate[0], coordinate[1])"
   ]
  },
  {
   "cell_type": "markdown",
   "id": "0ff5fda7",
   "metadata": {},
   "source": [
    "# API Practice"
   ]
  },
  {
   "cell_type": "code",
   "execution_count": 17,
   "id": "6655ce8f",
   "metadata": {},
   "outputs": [],
   "source": [
    "# Use the citipy module to determine city based on latitude and longitude.\n",
    "from citipy import citipy"
   ]
  },
  {
   "cell_type": "code",
   "execution_count": 18,
   "id": "f727067e",
   "metadata": {},
   "outputs": [
    {
     "name": "stdout",
     "output_type": "stream",
     "text": [
      "cockburn town tc\n",
      "gat ly\n",
      "parvatsar in\n",
      "punta arenas cl\n",
      "saint george bm\n"
     ]
    }
   ],
   "source": [
    "# Use the print() function to display the latitude and longitude combinations.\n",
    "for coordinate in coordinates:\n",
    "    print(citipy.nearest_city(coordinate[0], coordinate[1]).city_name,\n",
    "          citipy.nearest_city(coordinate[0], coordinate[1]).country_code)"
   ]
  },
  {
   "cell_type": "markdown",
   "id": "dc48d0b3",
   "metadata": {},
   "source": [
    "# Make an API Call"
   ]
  },
  {
   "cell_type": "code",
   "execution_count": 2,
   "id": "9fb7629b",
   "metadata": {},
   "outputs": [],
   "source": [
    "weather_api_key=\"84e1c688221197e1cbe08170c34b34ae\""
   ]
  },
  {
   "cell_type": "code",
   "execution_count": 4,
   "id": "6f173b15",
   "metadata": {},
   "outputs": [],
   "source": [
    "# Import the requests library.\n",
    "import requests\n",
    "\n",
    "# Import the API key.\n",
    "#from config import weather_api_key"
   ]
  },
  {
   "cell_type": "code",
   "execution_count": 5,
   "id": "5f189a10",
   "metadata": {},
   "outputs": [],
   "source": [
    "# Starting URL for Weather Map API Call.\n",
    "url = \"http://api.openweathermap.org/data/2.5/weather?units=Imperial&APPID=\" + weather_api_key"
   ]
  },
  {
   "cell_type": "code",
   "execution_count": 6,
   "id": "d2b269b8",
   "metadata": {},
   "outputs": [
    {
     "name": "stdout",
     "output_type": "stream",
     "text": [
      "http://api.openweathermap.org/data/2.5/weather?units=Imperial&APPID=84e1c688221197e1cbe08170c34b34ae&q=Austin\n"
     ]
    }
   ],
   "source": [
    "# Create an endpoint URL for a city.\n",
    "city_url = url + \"&q=\" + \"Austin\"\n",
    "print(city_url)"
   ]
  },
  {
   "cell_type": "code",
   "execution_count": 7,
   "id": "998b8fbf",
   "metadata": {},
   "outputs": [],
   "source": [
    "\n",
    "weather_response = requests.get(city_url)\n",
    "weather_json = weather_response.json()"
   ]
  },
  {
   "cell_type": "code",
   "execution_count": 8,
   "id": "048b4ffd",
   "metadata": {},
   "outputs": [
    {
     "data": {
      "text/plain": [
       "dict_keys(['coord', 'weather', 'base', 'main', 'visibility', 'wind', 'clouds', 'dt', 'sys', 'timezone', 'id', 'name', 'cod'])"
      ]
     },
     "execution_count": 8,
     "metadata": {},
     "output_type": "execute_result"
    }
   ],
   "source": [
    "weather_json.keys()"
   ]
  },
  {
   "cell_type": "code",
   "execution_count": 9,
   "id": "33e02702",
   "metadata": {},
   "outputs": [
    {
     "data": {
      "text/plain": [
       "{'temp': 70.29,\n",
       " 'feels_like': 71.1,\n",
       " 'temp_min': 67.71,\n",
       " 'temp_max': 72.84,\n",
       " 'pressure': 1018,\n",
       " 'humidity': 87}"
      ]
     },
     "execution_count": 9,
     "metadata": {},
     "output_type": "execute_result"
    }
   ],
   "source": [
    "weather_json.get(\"main\")"
   ]
  },
  {
   "cell_type": "code",
   "execution_count": 25,
   "id": "9f354b0c",
   "metadata": {},
   "outputs": [
    {
     "data": {
      "text/plain": [
       "<Response [200]>"
      ]
     },
     "execution_count": 25,
     "metadata": {},
     "output_type": "execute_result"
    }
   ],
   "source": [
    "# Make a 'Get' request for the city weather.\n",
    "city_weather = requests.get(city_url)\n",
    "city_weather"
   ]
  },
  {
   "cell_type": "code",
   "execution_count": 26,
   "id": "8f7cb053",
   "metadata": {},
   "outputs": [
    {
     "data": {
      "text/plain": [
       "200"
      ]
     },
     "execution_count": 26,
     "metadata": {},
     "output_type": "execute_result"
    }
   ],
   "source": [
    "#status code\n",
    "city_weather.status_code"
   ]
  },
  {
   "cell_type": "code",
   "execution_count": 27,
   "id": "4ad58dce",
   "metadata": {},
   "outputs": [
    {
     "data": {
      "text/plain": [
       "<Response [404]>"
      ]
     },
     "execution_count": 27,
     "metadata": {},
     "output_type": "execute_result"
    }
   ],
   "source": [
    "# Create an endpoint URL for a city. ERROR 404\n",
    "city_url = url + \"&q=\" + \"Bston\"\n",
    "city_weather = requests.get(city_url)\n",
    "city_weather"
   ]
  },
  {
   "cell_type": "code",
   "execution_count": 28,
   "id": "2f1eac4e",
   "metadata": {},
   "outputs": [
    {
     "data": {
      "text/plain": [
       "<Response [200]>"
      ]
     },
     "execution_count": 28,
     "metadata": {},
     "output_type": "execute_result"
    }
   ],
   "source": [
    "# Create an endpoint URL for a city. FIXED\n",
    "city_url = url + \"&q=\" + \"Boston\"\n",
    "city_weather = requests.get(city_url)\n",
    "city_weather"
   ]
  },
  {
   "cell_type": "code",
   "execution_count": 29,
   "id": "c775910b",
   "metadata": {},
   "outputs": [
    {
     "data": {
      "text/plain": [
       "'{\"coord\":{\"lon\":-71.0598,\"lat\":42.3584},\"weather\":[{\"id\":800,\"main\":\"Clear\",\"description\":\"clear sky\",\"icon\":\"01d\"}],\"base\":\"stations\",\"main\":{\"temp\":85.03,\"feels_like\":89.29,\"temp_min\":73.65,\"temp_max\":92.79,\"pressure\":1015,\"humidity\":60},\"visibility\":10000,\"wind\":{\"speed\":4,\"deg\":135,\"gust\":7},\"clouds\":{\"all\":2},\"dt\":1653229311,\"sys\":{\"type\":2,\"id\":2013408,\"country\":\"US\",\"sunrise\":1653210996,\"sunset\":1653264332},\"timezone\":-14400,\"id\":4930956,\"name\":\"Boston\",\"cod\":200}'"
      ]
     },
     "execution_count": 29,
     "metadata": {},
     "output_type": "execute_result"
    }
   ],
   "source": [
    "# Get the text of the 'Get' request.\n",
    "city_weather.text"
   ]
  },
  {
   "cell_type": "code",
   "execution_count": 30,
   "id": "110daa5d",
   "metadata": {},
   "outputs": [
    {
     "data": {
      "text/plain": [
       "{'coord': {'lon': -71.0598, 'lat': 42.3584},\n",
       " 'weather': [{'id': 800,\n",
       "   'main': 'Clear',\n",
       "   'description': 'clear sky',\n",
       "   'icon': '01d'}],\n",
       " 'base': 'stations',\n",
       " 'main': {'temp': 85.03,\n",
       "  'feels_like': 89.29,\n",
       "  'temp_min': 73.65,\n",
       "  'temp_max': 92.79,\n",
       "  'pressure': 1015,\n",
       "  'humidity': 60},\n",
       " 'visibility': 10000,\n",
       " 'wind': {'speed': 4, 'deg': 135, 'gust': 7},\n",
       " 'clouds': {'all': 2},\n",
       " 'dt': 1653229311,\n",
       " 'sys': {'type': 2,\n",
       "  'id': 2013408,\n",
       "  'country': 'US',\n",
       "  'sunrise': 1653210996,\n",
       "  'sunset': 1653264332},\n",
       " 'timezone': -14400,\n",
       " 'id': 4930956,\n",
       " 'name': 'Boston',\n",
       " 'cod': 200}"
      ]
     },
     "execution_count": 30,
     "metadata": {},
     "output_type": "execute_result"
    }
   ],
   "source": [
    "# Get the JSON text of the 'Get' request.\n",
    "city_weather.json()"
   ]
  },
  {
   "cell_type": "markdown",
   "id": "608bccc4",
   "metadata": {},
   "source": [
    "# Handle Request Errors"
   ]
  },
  {
   "cell_type": "code",
   "execution_count": 31,
   "id": "ee43a346",
   "metadata": {},
   "outputs": [
    {
     "name": "stdout",
     "output_type": "stream",
     "text": [
      "City Weather found.\n"
     ]
    }
   ],
   "source": [
    "# Create an endpoint URL for a city.\n",
    "city_url = url + \"&q=\" + \"Boston\"\n",
    "city_weather = requests.get(city_url)\n",
    "if city_weather.status_code == 200:\n",
    "    print(f\"City Weather found.\")\n",
    "else:\n",
    "    print(f\"City weather not found.\")"
   ]
  },
  {
   "cell_type": "markdown",
   "id": "c03a5ccc",
   "metadata": {},
   "source": [
    "# Parse a Response"
   ]
  },
  {
   "cell_type": "code",
   "execution_count": 32,
   "id": "7a8ec2b5",
   "metadata": {},
   "outputs": [
    {
     "data": {
      "text/plain": [
       "{'coord': {'lon': -71.0598, 'lat': 42.3584},\n",
       " 'weather': [{'id': 800,\n",
       "   'main': 'Clear',\n",
       "   'description': 'clear sky',\n",
       "   'icon': '01d'}],\n",
       " 'base': 'stations',\n",
       " 'main': {'temp': 85.03,\n",
       "  'feels_like': 89.29,\n",
       "  'temp_min': 73.65,\n",
       "  'temp_max': 92.79,\n",
       "  'pressure': 1015,\n",
       "  'humidity': 60},\n",
       " 'visibility': 10000,\n",
       " 'wind': {'speed': 4, 'deg': 135, 'gust': 7},\n",
       " 'clouds': {'all': 2},\n",
       " 'dt': 1653229311,\n",
       " 'sys': {'type': 2,\n",
       "  'id': 2013408,\n",
       "  'country': 'US',\n",
       "  'sunrise': 1653210996,\n",
       "  'sunset': 1653264332},\n",
       " 'timezone': -14400,\n",
       " 'id': 4930956,\n",
       " 'name': 'Boston',\n",
       " 'cod': 200}"
      ]
     },
     "execution_count": 32,
     "metadata": {},
     "output_type": "execute_result"
    }
   ],
   "source": [
    "# Create an endpoint URL for a city.\n",
    "city_url = url + \"&q=\" + \"Boston\"\n",
    "city_weather = requests.get(city_url)\n",
    "city_weather.json()"
   ]
  },
  {
   "cell_type": "code",
   "execution_count": 33,
   "id": "a64e042c",
   "metadata": {},
   "outputs": [],
   "source": [
    "# Get the JSON data.\n",
    "boston_data = city_weather.json()"
   ]
  },
  {
   "cell_type": "code",
   "execution_count": 34,
   "id": "3bbe389a",
   "metadata": {},
   "outputs": [
    {
     "data": {
      "text/plain": [
       "42.3584"
      ]
     },
     "execution_count": 34,
     "metadata": {},
     "output_type": "execute_result"
    }
   ],
   "source": [
    "boston_data['coord']['lat']"
   ]
  },
  {
   "cell_type": "code",
   "execution_count": 35,
   "id": "f23377f0",
   "metadata": {},
   "outputs": [
    {
     "data": {
      "text/plain": [
       "92.79"
      ]
     },
     "execution_count": 35,
     "metadata": {},
     "output_type": "execute_result"
    }
   ],
   "source": [
    "boston_data['main']['temp_max']"
   ]
  },
  {
   "cell_type": "code",
   "execution_count": 36,
   "id": "21ab3ac0",
   "metadata": {},
   "outputs": [
    {
     "name": "stdout",
     "output_type": "stream",
     "text": [
      "42.3584 -71.0598 92.79 60 2 4\n"
     ]
    }
   ],
   "source": [
    "lat = boston_data[\"coord\"][\"lat\"]\n",
    "lng = boston_data[\"coord\"][\"lon\"]\n",
    "max_temp = boston_data[\"main\"][\"temp_max\"]\n",
    "humidity = boston_data[\"main\"][\"humidity\"]\n",
    "clouds = boston_data[\"clouds\"][\"all\"]\n",
    "wind = boston_data[\"wind\"][\"speed\"]\n",
    "\n",
    "print(lat, lng, max_temp, humidity, clouds, wind)"
   ]
  },
  {
   "cell_type": "markdown",
   "id": "31298f45",
   "metadata": {},
   "source": [
    "# Convert the Date Timestamp"
   ]
  },
  {
   "cell_type": "code",
   "execution_count": 37,
   "id": "d3679e84",
   "metadata": {},
   "outputs": [
    {
     "data": {
      "text/plain": [
       "'2022-05-22 14:21:51'"
      ]
     },
     "execution_count": 37,
     "metadata": {},
     "output_type": "execute_result"
    }
   ],
   "source": [
    "# Import the datetime module from the datetime library.\n",
    "from datetime import datetime\n",
    "\n",
    "# Get the date from the JSON file.\n",
    "date = boston_data[\"dt\"]\n",
    "\n",
    "# Convert the UTC date to a date format with year, month, day, hours, minutes, and seconds.\n",
    "datetime.utcfromtimestamp(date).strftime('%Y-%m-%d %H:%M:%S')"
   ]
  },
  {
   "cell_type": "markdown",
   "id": "8b743044",
   "metadata": {},
   "source": [
    "# More"
   ]
  },
  {
   "cell_type": "code",
   "execution_count": null,
   "id": "4ced4c8c",
   "metadata": {},
   "outputs": [],
   "source": []
  },
  {
   "cell_type": "markdown",
   "id": "57e6fae8",
   "metadata": {},
   "source": [
    "# Get City Weather Data"
   ]
  },
  {
   "cell_type": "code",
   "execution_count": 11,
   "id": "6ea37920",
   "metadata": {},
   "outputs": [],
   "source": [
    "# Import the time library and the datetime module from the datetime library \n",
    "# Import the dependencies.\n",
    "import os  ## needed to change dir to import keys from different folder\n",
    "import requests  ## needed for web crawls \n",
    "import pandas as pd\n",
    "import matplotlib.pyplot as plt\n",
    "import numpy as np\n",
    "from citipy import citipy\n",
    "from datetime import datetime\n",
    "import time"
   ]
  },
  {
   "cell_type": "code",
   "execution_count": 12,
   "id": "3744cecb",
   "metadata": {},
   "outputs": [],
   "source": [
    "#from config import weather_api_key"
   ]
  },
  {
   "cell_type": "code",
   "execution_count": 13,
   "id": "1344c72a",
   "metadata": {},
   "outputs": [
    {
     "data": {
      "text/plain": [
       "<zip at 0x19faeb06c88>"
      ]
     },
     "execution_count": 13,
     "metadata": {},
     "output_type": "execute_result"
    }
   ],
   "source": [
    "# Create a set of random latitude and longitude combinations.\n",
    "# chain np and random \n",
    "lats = np.random.uniform(low=-90.000, high=90.000, size=1500)\n",
    "lngs = np.random.uniform(low=-180.000, high=180.000, size=1500)\n",
    "lat_lngs = zip(lats, lngs) ## packs both variables into a tupled zip file\n",
    "lat_lngs # show me the zip file"
   ]
  },
  {
   "cell_type": "code",
   "execution_count": 14,
   "id": "9212f310",
   "metadata": {},
   "outputs": [],
   "source": [
    "# add longs and lats to a coordinates list\n",
    "coordinates = list(lat_lngs) #write the zip file into a list, so you can work with it"
   ]
  },
  {
   "cell_type": "code",
   "execution_count": 16,
   "id": "882dcfb9",
   "metadata": {},
   "outputs": [
    {
     "data": {
      "text/plain": [
       "593"
      ]
     },
     "execution_count": 16,
     "metadata": {},
     "output_type": "execute_result"
    }
   ],
   "source": [
    "# Create a list for holding the cities.\n",
    "cities = []\n",
    "# Identify the nearest city for each latitude and longitude combination.\n",
    "for coordinate in coordinates:\n",
    "    city = citipy.nearest_city(coordinate[0], coordinate[1]).city_name\n",
    "\n",
    "    # If the city is unique, then we will add it to the cities list.\n",
    "    if city not in cities:\n",
    "        cities.append(city)\n",
    "# Print the city count to confirm sufficient count.\n",
    "len(cities)"
   ]
  },
  {
   "cell_type": "code",
   "execution_count": 17,
   "id": "80a72d30",
   "metadata": {},
   "outputs": [
    {
     "name": "stdout",
     "output_type": "stream",
     "text": [
      "Beginning Data Retrieval     \n",
      "-----------------------------\n"
     ]
    }
   ],
   "source": [
    "# Create an empty list to hold the weather data.\n",
    "city_data = []\n",
    "\n",
    "# Print the beginning of the logging.\n",
    "print(\"Beginning Data Retrieval     \")\n",
    "print(\"-----------------------------\")\n",
    "\n",
    "# Create counters.\n",
    "record_count = 1\n",
    "set_count = 1"
   ]
  },
  {
   "cell_type": "code",
   "execution_count": 20,
   "id": "65822574",
   "metadata": {
    "scrolled": true
   },
   "outputs": [
    {
     "name": "stdout",
     "output_type": "stream",
     "text": [
      "Processing Record 1 of Set 1 | turayf\n",
      "Processing Record 2 of Set 1 | constitucion\n",
      "Processing Record 3 of Set 1 | aswan\n",
      "Processing Record 4 of Set 1 | ancud\n",
      "Processing Record 5 of Set 1 | berberati\n",
      "Processing Record 6 of Set 1 | helong\n",
      "Processing Record 7 of Set 1 | butaritari\n",
      "Processing Record 8 of Set 1 | puerto ayora\n",
      "Processing Record 9 of Set 1 | dikson\n",
      "Processing Record 10 of Set 1 | rikitea\n",
      "Processing Record 11 of Set 1 | tilichiki\n",
      "Processing Record 12 of Set 1 | burewala\n",
      "Processing Record 13 of Set 1 | voznesenye\n",
      "Processing Record 14 of Set 1 | alofi\n",
      "Processing Record 15 of Set 1 | beneditinos\n",
      "Processing Record 16 of Set 1 | zhoukou\n",
      "Processing Record 17 of Set 1 | yellowknife\n",
      "Processing Record 18 of Set 1 | busselton\n",
      "Processing Record 19 of Set 1 | ushuaia\n",
      "Processing Record 20 of Set 1 | tongliao\n",
      "Processing Record 21 of Set 1 | hithadhoo\n",
      "Processing Record 22 of Set 1 | chabahar\n",
      "Processing Record 23 of Set 1 | mataura\n",
      "Processing Record 24 of Set 1 | vozhega\n",
      "Processing Record 25 of Set 1 | redondela\n",
      "Processing Record 26 of Set 1 | taolanaro\n",
      "City not found. Skipping...\n",
      "Processing Record 27 of Set 1 | kuche\n",
      "City not found. Skipping...\n",
      "Processing Record 28 of Set 1 | liling\n",
      "Processing Record 29 of Set 1 | bardiyah\n",
      "Processing Record 30 of Set 1 | eureka\n",
      "Processing Record 31 of Set 1 | vaini\n",
      "Processing Record 32 of Set 1 | bairiki\n",
      "Processing Record 33 of Set 1 | hunza\n",
      "City not found. Skipping...\n",
      "Processing Record 34 of Set 1 | manama\n",
      "Processing Record 35 of Set 1 | cape town\n",
      "Processing Record 36 of Set 1 | iquitos\n",
      "Processing Record 37 of Set 1 | belushya guba\n",
      "City not found. Skipping...\n",
      "Processing Record 38 of Set 1 | cabo san lucas\n",
      "Processing Record 39 of Set 1 | avarua\n",
      "Processing Record 40 of Set 1 | narsaq\n",
      "Processing Record 41 of Set 1 | kegayli\n",
      "City not found. Skipping...\n",
      "Processing Record 42 of Set 1 | bredasdorp\n",
      "Processing Record 43 of Set 1 | pevek\n",
      "Processing Record 44 of Set 1 | ahipara\n",
      "Processing Record 45 of Set 1 | port elizabeth\n",
      "Processing Record 46 of Set 1 | mar del plata\n",
      "Processing Record 47 of Set 1 | te anau\n",
      "Processing Record 48 of Set 1 | talnakh\n",
      "Processing Record 49 of Set 1 | nenjiang\n",
      "Processing Record 50 of Set 1 | castro\n",
      "Processing Record 1 of Set 2 | marzuq\n",
      "Processing Record 2 of Set 2 | punta arenas\n",
      "Processing Record 3 of Set 2 | hambantota\n",
      "Processing Record 4 of Set 2 | port alfred\n",
      "Processing Record 5 of Set 2 | lincoln\n",
      "Processing Record 6 of Set 2 | hobyo\n",
      "Processing Record 7 of Set 2 | kapaa\n",
      "Processing Record 8 of Set 2 | guerrero negro\n",
      "Processing Record 9 of Set 2 | tautira\n",
      "Processing Record 10 of Set 2 | vao\n",
      "Processing Record 11 of Set 2 | upernavik\n",
      "Processing Record 12 of Set 2 | goderich\n",
      "Processing Record 13 of Set 2 | bluff\n",
      "Processing Record 14 of Set 2 | yulara\n",
      "Processing Record 15 of Set 2 | estelle\n",
      "Processing Record 16 of Set 2 | puerto carreno\n",
      "Processing Record 17 of Set 2 | thompson\n",
      "Processing Record 18 of Set 2 | mount gambier\n",
      "Processing Record 19 of Set 2 | bethel\n",
      "Processing Record 20 of Set 2 | kanye\n",
      "Processing Record 21 of Set 2 | batagay-alyta\n",
      "Processing Record 22 of Set 2 | halalo\n",
      "City not found. Skipping...\n",
      "Processing Record 23 of Set 2 | severo-yeniseyskiy\n",
      "Processing Record 24 of Set 2 | apatity\n",
      "Processing Record 25 of Set 2 | fairbanks\n",
      "Processing Record 26 of Set 2 | bedele\n",
      "Processing Record 27 of Set 2 | puerto del rosario\n",
      "Processing Record 28 of Set 2 | khingansk\n",
      "Processing Record 29 of Set 2 | conde\n",
      "Processing Record 30 of Set 2 | tiksi\n",
      "Processing Record 31 of Set 2 | new norfolk\n",
      "Processing Record 32 of Set 2 | fortuna\n",
      "Processing Record 33 of Set 2 | umzimvubu\n",
      "City not found. Skipping...\n",
      "Processing Record 34 of Set 2 | svetlaya\n",
      "Processing Record 35 of Set 2 | seddon\n",
      "Processing Record 36 of Set 2 | hobart\n",
      "Processing Record 37 of Set 2 | puerto colombia\n",
      "Processing Record 38 of Set 2 | bambous virieux\n",
      "Processing Record 39 of Set 2 | umea\n",
      "Processing Record 40 of Set 2 | coulihaut\n",
      "City not found. Skipping...\n",
      "Processing Record 41 of Set 2 | bilibino\n",
      "Processing Record 42 of Set 2 | toliary\n",
      "City not found. Skipping...\n",
      "Processing Record 43 of Set 2 | sayyan\n",
      "Processing Record 44 of Set 2 | lolua\n",
      "City not found. Skipping...\n",
      "Processing Record 45 of Set 2 | tuktoyaktuk\n",
      "Processing Record 46 of Set 2 | georgetown\n",
      "Processing Record 47 of Set 2 | tolcsva\n",
      "Processing Record 48 of Set 2 | masvingo\n",
      "Processing Record 49 of Set 2 | atuona\n",
      "Processing Record 50 of Set 2 | verkhoyansk\n",
      "Processing Record 1 of Set 3 | abu samrah\n",
      "Processing Record 2 of Set 3 | mahebourg\n",
      "Processing Record 3 of Set 3 | tsihombe\n",
      "City not found. Skipping...\n",
      "Processing Record 4 of Set 3 | port shepstone\n",
      "Processing Record 5 of Set 3 | kodiak\n",
      "Processing Record 6 of Set 3 | provideniya\n",
      "Processing Record 7 of Set 3 | pangnirtung\n",
      "Processing Record 8 of Set 3 | ulladulla\n",
      "Processing Record 9 of Set 3 | mackay\n",
      "Processing Record 10 of Set 3 | nikolskoye\n",
      "Processing Record 11 of Set 3 | east london\n",
      "Processing Record 12 of Set 3 | simbahan\n",
      "Processing Record 13 of Set 3 | xuddur\n",
      "Processing Record 14 of Set 3 | nome\n",
      "Processing Record 15 of Set 3 | sitka\n",
      "Processing Record 16 of Set 3 | caravelas\n",
      "Processing Record 17 of Set 3 | beyneu\n",
      "Processing Record 18 of Set 3 | altay\n",
      "Processing Record 19 of Set 3 | tumannyy\n",
      "City not found. Skipping...\n",
      "Processing Record 20 of Set 3 | hilo\n",
      "Processing Record 21 of Set 3 | codrington\n",
      "Processing Record 22 of Set 3 | maniitsoq\n",
      "Processing Record 23 of Set 3 | barbar\n",
      "City not found. Skipping...\n",
      "Processing Record 24 of Set 3 | kavieng\n",
      "Processing Record 25 of Set 3 | illapel\n",
      "Processing Record 26 of Set 3 | malanje\n",
      "Processing Record 27 of Set 3 | hermanus\n",
      "Processing Record 28 of Set 3 | yatou\n",
      "Processing Record 29 of Set 3 | zhanaozen\n",
      "Processing Record 30 of Set 3 | lethem\n",
      "Processing Record 31 of Set 3 | mys shmidta\n",
      "City not found. Skipping...\n",
      "Processing Record 32 of Set 3 | beloha\n",
      "Processing Record 33 of Set 3 | albany\n",
      "Processing Record 34 of Set 3 | sorland\n",
      "Processing Record 35 of Set 3 | tasiilaq\n",
      "Processing Record 36 of Set 3 | margate\n",
      "Processing Record 37 of Set 3 | saint-francois\n",
      "Processing Record 38 of Set 3 | goundi\n",
      "Processing Record 39 of Set 3 | saldanha\n",
      "Processing Record 40 of Set 3 | never\n",
      "Processing Record 41 of Set 3 | mokobeng\n",
      "Processing Record 42 of Set 3 | san cristobal\n",
      "Processing Record 43 of Set 3 | burgeo\n",
      "Processing Record 44 of Set 3 | dubrovka\n",
      "Processing Record 45 of Set 3 | saskylakh\n",
      "Processing Record 46 of Set 3 | port lincoln\n",
      "Processing Record 47 of Set 3 | vila franca do campo\n",
      "Processing Record 48 of Set 3 | luderitz\n",
      "Processing Record 49 of Set 3 | nizhneyansk\n",
      "City not found. Skipping...\n",
      "Processing Record 50 of Set 3 | belmonte\n",
      "Processing Record 1 of Set 4 | vaitupu\n",
      "City not found. Skipping...\n",
      "Processing Record 2 of Set 4 | grand gaube\n",
      "Processing Record 3 of Set 4 | narva-joesuu\n",
      "Processing Record 4 of Set 4 | khatanga\n",
      "Processing Record 5 of Set 4 | lompoc\n",
      "Processing Record 6 of Set 4 | montes claros\n",
      "Processing Record 7 of Set 4 | severo-kurilsk\n",
      "Processing Record 8 of Set 4 | svetlyy\n",
      "Processing Record 9 of Set 4 | pangody\n",
      "Processing Record 10 of Set 4 | port blair\n",
      "Processing Record 11 of Set 4 | cervo\n",
      "Processing Record 12 of Set 4 | huacho\n",
      "Processing Record 13 of Set 4 | cauquenes\n",
      "Processing Record 14 of Set 4 | christiana\n",
      "Processing Record 15 of Set 4 | fort nelson\n",
      "Processing Record 16 of Set 4 | kiunga\n",
      "Processing Record 17 of Set 4 | kruisfontein\n",
      "Processing Record 18 of Set 4 | cherskiy\n",
      "Processing Record 19 of Set 4 | luwuk\n",
      "Processing Record 20 of Set 4 | arraial do cabo\n",
      "Processing Record 21 of Set 4 | ribeira grande\n",
      "Processing Record 22 of Set 4 | qaanaaq\n",
      "Processing Record 23 of Set 4 | vallenar\n",
      "Processing Record 24 of Set 4 | rosarito\n",
      "Processing Record 25 of Set 4 | meulaboh\n",
      "Processing Record 26 of Set 4 | gomel\n",
      "Processing Record 27 of Set 4 | lata\n",
      "Processing Record 28 of Set 4 | eyl\n",
      "Processing Record 29 of Set 4 | bolungarvik\n",
      "City not found. Skipping...\n",
      "Processing Record 30 of Set 4 | northam\n",
      "Processing Record 31 of Set 4 | letlhakane\n",
      "Processing Record 32 of Set 4 | birao\n",
      "Processing Record 33 of Set 4 | wiarton\n",
      "Processing Record 34 of Set 4 | hirara\n",
      "Processing Record 35 of Set 4 | paraiso\n",
      "Processing Record 36 of Set 4 | tecoanapa\n",
      "Processing Record 37 of Set 4 | kenai\n",
      "Processing Record 38 of Set 4 | shaygino\n"
     ]
    },
    {
     "name": "stdout",
     "output_type": "stream",
     "text": [
      "Processing Record 39 of Set 4 | noumea\n",
      "Processing Record 40 of Set 4 | carnarvon\n",
      "Processing Record 41 of Set 4 | illoqqortoormiut\n",
      "City not found. Skipping...\n",
      "Processing Record 42 of Set 4 | ous\n",
      "Processing Record 43 of Set 4 | namatanai\n",
      "Processing Record 44 of Set 4 | lorengau\n",
      "Processing Record 45 of Set 4 | doda\n",
      "Processing Record 46 of Set 4 | jalingo\n",
      "Processing Record 47 of Set 4 | mao\n",
      "Processing Record 48 of Set 4 | mahibadhoo\n",
      "Processing Record 49 of Set 4 | plettenberg bay\n",
      "Processing Record 50 of Set 4 | hasaki\n",
      "Processing Record 1 of Set 5 | tabou\n",
      "Processing Record 2 of Set 5 | mana\n",
      "Processing Record 3 of Set 5 | ambulu\n",
      "Processing Record 4 of Set 5 | ojinaga\n",
      "Processing Record 5 of Set 5 | lebu\n",
      "Processing Record 6 of Set 5 | bonavista\n",
      "Processing Record 7 of Set 5 | namibe\n",
      "Processing Record 8 of Set 5 | chadiza\n",
      "Processing Record 9 of Set 5 | gat\n",
      "Processing Record 10 of Set 5 | santo antonio do ica\n",
      "Processing Record 11 of Set 5 | san quintin\n",
      "Processing Record 12 of Set 5 | westport\n",
      "Processing Record 13 of Set 5 | neuquen\n",
      "Processing Record 14 of Set 5 | asau\n",
      "Processing Record 15 of Set 5 | barrow\n",
      "Processing Record 16 of Set 5 | sao gabriel da cachoeira\n",
      "Processing Record 17 of Set 5 | chokurdakh\n",
      "Processing Record 18 of Set 5 | siirt\n",
      "Processing Record 19 of Set 5 | clyde river\n",
      "Processing Record 20 of Set 5 | ilulissat\n",
      "Processing Record 21 of Set 5 | antrim\n",
      "Processing Record 22 of Set 5 | kisanga\n",
      "Processing Record 23 of Set 5 | teahupoo\n",
      "Processing Record 24 of Set 5 | grand centre\n",
      "City not found. Skipping...\n",
      "Processing Record 25 of Set 5 | iqaluit\n",
      "Processing Record 26 of Set 5 | uwayl\n",
      "City not found. Skipping...\n",
      "Processing Record 27 of Set 5 | lae\n",
      "Processing Record 28 of Set 5 | kaitangata\n",
      "Processing Record 29 of Set 5 | buala\n",
      "Processing Record 30 of Set 5 | lavrentiya\n",
      "Processing Record 31 of Set 5 | karratha\n",
      "Processing Record 32 of Set 5 | kihei\n",
      "Processing Record 33 of Set 5 | zhangye\n",
      "Processing Record 34 of Set 5 | amderma\n",
      "City not found. Skipping...\n",
      "Processing Record 35 of Set 5 | sechura\n",
      "Processing Record 36 of Set 5 | borshchiv\n",
      "Processing Record 37 of Set 5 | samarai\n",
      "Processing Record 38 of Set 5 | sur\n",
      "Processing Record 39 of Set 5 | yumen\n",
      "Processing Record 40 of Set 5 | xingyi\n",
      "Processing Record 41 of Set 5 | victoria\n",
      "Processing Record 42 of Set 5 | longyearbyen\n",
      "Processing Record 43 of Set 5 | bolzano\n",
      "Processing Record 44 of Set 5 | kusti\n",
      "Processing Record 45 of Set 5 | verkhnevilyuysk\n",
      "Processing Record 46 of Set 5 | jamestown\n",
      "Processing Record 47 of Set 5 | miri\n",
      "Processing Record 48 of Set 5 | berbera\n",
      "Processing Record 49 of Set 5 | najran\n",
      "Processing Record 50 of Set 5 | saint george\n",
      "Processing Record 1 of Set 6 | bengkulu\n",
      "Processing Record 2 of Set 6 | coihaique\n",
      "Processing Record 3 of Set 6 | tshela\n",
      "Processing Record 4 of Set 6 | kidal\n",
      "Processing Record 5 of Set 6 | chumikan\n",
      "Processing Record 6 of Set 6 | zubtsov\n",
      "Processing Record 7 of Set 6 | fort-shevchenko\n",
      "Processing Record 8 of Set 6 | sinnamary\n",
      "Processing Record 9 of Set 6 | ukiah\n",
      "Processing Record 10 of Set 6 | faya\n",
      "Processing Record 11 of Set 6 | portland\n",
      "Processing Record 12 of Set 6 | arman\n",
      "Processing Record 13 of Set 6 | barra patuca\n",
      "Processing Record 14 of Set 6 | raduzhnyy\n",
      "Processing Record 15 of Set 6 | bathsheba\n",
      "Processing Record 16 of Set 6 | souillac\n",
      "Processing Record 17 of Set 6 | ambon\n",
      "Processing Record 18 of Set 6 | barentsburg\n",
      "City not found. Skipping...\n",
      "Processing Record 19 of Set 6 | aktash\n",
      "Processing Record 20 of Set 6 | dunedin\n",
      "Processing Record 21 of Set 6 | grand river south east\n",
      "City not found. Skipping...\n",
      "Processing Record 22 of Set 6 | salalah\n",
      "Processing Record 23 of Set 6 | benguela\n",
      "Processing Record 24 of Set 6 | ksenyevka\n",
      "City not found. Skipping...\n",
      "Processing Record 25 of Set 6 | prince rupert\n",
      "Processing Record 26 of Set 6 | san ramon\n",
      "Processing Record 27 of Set 6 | varhaug\n",
      "Processing Record 28 of Set 6 | bhanpuri\n",
      "Processing Record 29 of Set 6 | okhotsk\n",
      "Processing Record 30 of Set 6 | maimon\n",
      "City not found. Skipping...\n",
      "Processing Record 31 of Set 6 | banff\n",
      "Processing Record 32 of Set 6 | lasa\n",
      "Processing Record 33 of Set 6 | urucara\n",
      "Processing Record 34 of Set 6 | yorkton\n",
      "Processing Record 35 of Set 6 | ndjole\n",
      "Processing Record 36 of Set 6 | forbes\n",
      "Processing Record 37 of Set 6 | inderborskiy\n",
      "City not found. Skipping...\n",
      "Processing Record 38 of Set 6 | kahului\n",
      "Processing Record 39 of Set 6 | patacamaya\n",
      "Processing Record 40 of Set 6 | husavik\n",
      "Processing Record 41 of Set 6 | naron\n",
      "Processing Record 42 of Set 6 | christchurch\n",
      "Processing Record 43 of Set 6 | palmer\n",
      "Processing Record 44 of Set 6 | tigre\n",
      "Processing Record 45 of Set 6 | sorong\n",
      "Processing Record 46 of Set 6 | skovde\n",
      "City not found. Skipping...\n",
      "Processing Record 47 of Set 6 | castro verde\n",
      "Processing Record 48 of Set 6 | price\n",
      "Processing Record 49 of Set 6 | colac\n",
      "Processing Record 50 of Set 6 | charters towers\n",
      "Processing Record 1 of Set 7 | seydi\n",
      "Processing Record 2 of Set 7 | rio gallegos\n",
      "Processing Record 3 of Set 7 | poum\n",
      "Processing Record 4 of Set 7 | vaitape\n",
      "Processing Record 5 of Set 7 | obluche\n",
      "City not found. Skipping...\n",
      "Processing Record 6 of Set 7 | warrnambool\n",
      "Processing Record 7 of Set 7 | saint-philippe\n",
      "Processing Record 8 of Set 7 | sarangani\n",
      "Processing Record 9 of Set 7 | baykit\n",
      "Processing Record 10 of Set 7 | salinopolis\n",
      "Processing Record 11 of Set 7 | geraldton\n",
      "Processing Record 12 of Set 7 | sambava\n",
      "Processing Record 13 of Set 7 | alice springs\n",
      "Processing Record 14 of Set 7 | honggang\n",
      "Processing Record 15 of Set 7 | hue\n",
      "Processing Record 16 of Set 7 | ulaangom\n",
      "Processing Record 17 of Set 7 | turka\n",
      "Processing Record 18 of Set 7 | mehamn\n",
      "Processing Record 19 of Set 7 | idenao\n",
      "Processing Record 20 of Set 7 | yaan\n",
      "Processing Record 21 of Set 7 | mbumi\n",
      "Processing Record 22 of Set 7 | viligili\n",
      "City not found. Skipping...\n",
      "Processing Record 23 of Set 7 | nanortalik\n",
      "Processing Record 24 of Set 7 | pisco\n",
      "Processing Record 25 of Set 7 | ostrovnoy\n",
      "Processing Record 26 of Set 7 | vanavara\n",
      "Processing Record 27 of Set 7 | srandakan\n",
      "Processing Record 28 of Set 7 | lagoa\n",
      "Processing Record 29 of Set 7 | nouadhibou\n",
      "Processing Record 30 of Set 7 | baboua\n",
      "City not found. Skipping...\n",
      "Processing Record 31 of Set 7 | concordia\n",
      "Processing Record 32 of Set 7 | monte alto\n",
      "Processing Record 33 of Set 7 | pakxan\n",
      "Processing Record 34 of Set 7 | wanning\n",
      "Processing Record 35 of Set 7 | vanimo\n",
      "Processing Record 36 of Set 7 | marsaxlokk\n",
      "Processing Record 37 of Set 7 | saint anthony\n",
      "Processing Record 38 of Set 7 | ico\n",
      "Processing Record 39 of Set 7 | margherita di savoia\n",
      "Processing Record 40 of Set 7 | inhambane\n",
      "Processing Record 41 of Set 7 | terra rica\n",
      "Processing Record 42 of Set 7 | coronel mariduena\n",
      "City not found. Skipping...\n",
      "Processing Record 43 of Set 7 | atakpame\n",
      "Processing Record 44 of Set 7 | carmen\n",
      "Processing Record 45 of Set 7 | octeville\n",
      "Processing Record 46 of Set 7 | sentyabrskiy\n",
      "City not found. Skipping...\n",
      "Processing Record 47 of Set 7 | ondorhaan\n",
      "City not found. Skipping...\n",
      "Processing Record 48 of Set 7 | romny\n",
      "Processing Record 49 of Set 7 | mmabatho\n",
      "Processing Record 50 of Set 7 | lydenburg\n",
      "Processing Record 1 of Set 8 | evensk\n",
      "Processing Record 2 of Set 8 | torre-pacheco\n",
      "Processing Record 3 of Set 8 | mount darwin\n",
      "Processing Record 4 of Set 8 | mount isa\n",
      "Processing Record 5 of Set 8 | gaeta\n",
      "Processing Record 6 of Set 8 | soyo\n",
      "Processing Record 7 of Set 8 | unye\n",
      "City not found. Skipping...\n",
      "Processing Record 8 of Set 8 | olafsvik\n",
      "Processing Record 9 of Set 8 | tual\n",
      "Processing Record 10 of Set 8 | kansanshi\n",
      "Processing Record 11 of Set 8 | kernersville\n",
      "Processing Record 12 of Set 8 | montepuez\n",
      "Processing Record 13 of Set 8 | komatipoort\n",
      "Processing Record 14 of Set 8 | vostok\n",
      "Processing Record 15 of Set 8 | antalaha\n",
      "Processing Record 16 of Set 8 | ust-kamchatsk\n",
      "City not found. Skipping...\n",
      "Processing Record 17 of Set 8 | havre-saint-pierre\n",
      "Processing Record 18 of Set 8 | raudeberg\n",
      "Processing Record 19 of Set 8 | flinders\n",
      "Processing Record 20 of Set 8 | brenham\n",
      "Processing Record 21 of Set 8 | turukhansk\n",
      "Processing Record 22 of Set 8 | tara\n",
      "Processing Record 23 of Set 8 | esperance\n",
      "Processing Record 24 of Set 8 | novouralsk\n",
      "Processing Record 25 of Set 8 | sumbawa\n",
      "City not found. Skipping...\n",
      "Processing Record 26 of Set 8 | kutum\n"
     ]
    },
    {
     "name": "stdout",
     "output_type": "stream",
     "text": [
      "Processing Record 27 of Set 8 | hokitika\n",
      "Processing Record 28 of Set 8 | henties bay\n",
      "Processing Record 29 of Set 8 | avera\n",
      "Processing Record 30 of Set 8 | bereda\n",
      "Processing Record 31 of Set 8 | licata\n",
      "Processing Record 32 of Set 8 | mildura\n",
      "Processing Record 33 of Set 8 | kamenka\n",
      "Processing Record 34 of Set 8 | asyut\n",
      "Processing Record 35 of Set 8 | aybak\n",
      "City not found. Skipping...\n",
      "Processing Record 36 of Set 8 | yarim\n",
      "Processing Record 37 of Set 8 | anloga\n",
      "Processing Record 38 of Set 8 | tanabe\n",
      "Processing Record 39 of Set 8 | houma\n",
      "Processing Record 40 of Set 8 | adrar\n",
      "Processing Record 41 of Set 8 | landang\n",
      "City not found. Skipping...\n",
      "Processing Record 42 of Set 8 | cepu\n",
      "Processing Record 43 of Set 8 | klaksvik\n",
      "Processing Record 44 of Set 8 | boyolangu\n",
      "Processing Record 45 of Set 8 | terrak\n",
      "Processing Record 46 of Set 8 | yermekeyevo\n",
      "Processing Record 47 of Set 8 | lang suan\n",
      "Processing Record 48 of Set 8 | shiyan\n",
      "Processing Record 49 of Set 8 | cockburn town\n",
      "Processing Record 50 of Set 8 | eslamshahr\n",
      "Processing Record 1 of Set 9 | milos\n",
      "Processing Record 2 of Set 9 | batagay\n",
      "Processing Record 3 of Set 9 | vila do maio\n",
      "Processing Record 4 of Set 9 | labuhan\n",
      "Processing Record 5 of Set 9 | tiznit\n",
      "Processing Record 6 of Set 9 | eilenburg\n",
      "Processing Record 7 of Set 9 | verkhnyaya toyma\n",
      "Processing Record 8 of Set 9 | turbat\n",
      "Processing Record 9 of Set 9 | bambanglipuro\n",
      "Processing Record 10 of Set 9 | macaboboni\n",
      "City not found. Skipping...\n",
      "Processing Record 11 of Set 9 | balikpapan\n",
      "Processing Record 12 of Set 9 | curup\n",
      "Processing Record 13 of Set 9 | gayeri\n",
      "Processing Record 14 of Set 9 | funadhoo\n",
      "Processing Record 15 of Set 9 | carballo\n",
      "Processing Record 16 of Set 9 | attawapiskat\n",
      "City not found. Skipping...\n",
      "Processing Record 17 of Set 9 | trelew\n",
      "Processing Record 18 of Set 9 | hay river\n",
      "Processing Record 19 of Set 9 | marystown\n",
      "Processing Record 20 of Set 9 | sorvag\n",
      "City not found. Skipping...\n",
      "Processing Record 21 of Set 9 | makaha\n",
      "Processing Record 22 of Set 9 | ponta do sol\n",
      "Processing Record 23 of Set 9 | daru\n",
      "Processing Record 24 of Set 9 | tezu\n",
      "Processing Record 25 of Set 9 | gombong\n",
      "Processing Record 26 of Set 9 | eden\n",
      "Processing Record 27 of Set 9 | sergeyevka\n",
      "Processing Record 28 of Set 9 | katherine\n",
      "Processing Record 29 of Set 9 | brae\n",
      "Processing Record 30 of Set 9 | iwanai\n",
      "Processing Record 31 of Set 9 | middlebury\n",
      "Processing Record 32 of Set 9 | rajpipla\n",
      "Processing Record 33 of Set 9 | chuy\n",
      "Processing Record 34 of Set 9 | bontang\n",
      "Processing Record 35 of Set 9 | shubarkuduk\n",
      "Processing Record 36 of Set 9 | pacific grove\n",
      "Processing Record 37 of Set 9 | inta\n",
      "Processing Record 38 of Set 9 | ixtapa\n",
      "Processing Record 39 of Set 9 | katangli\n",
      "Processing Record 40 of Set 9 | gusau\n",
      "Processing Record 41 of Set 9 | hofn\n",
      "Processing Record 42 of Set 9 | faanui\n",
      "Processing Record 43 of Set 9 | cayenne\n",
      "Processing Record 44 of Set 9 | leshukonskoye\n",
      "Processing Record 45 of Set 9 | tessalit\n",
      "Processing Record 46 of Set 9 | chifeng\n",
      "Processing Record 47 of Set 9 | bonthe\n",
      "Processing Record 48 of Set 9 | isangel\n",
      "Processing Record 49 of Set 9 | andenes\n",
      "Processing Record 50 of Set 9 | patitirion\n",
      "Processing Record 1 of Set 10 | copiapo\n",
      "Processing Record 2 of Set 10 | touros\n",
      "Processing Record 3 of Set 10 | sidi ali\n",
      "Processing Record 4 of Set 10 | hohhot\n",
      "Processing Record 5 of Set 10 | port hedland\n",
      "Processing Record 6 of Set 10 | paita\n",
      "Processing Record 7 of Set 10 | zima\n",
      "Processing Record 8 of Set 10 | mbuji-mayi\n",
      "Processing Record 9 of Set 10 | quatre cocos\n",
      "Processing Record 10 of Set 10 | ramanuj ganj\n",
      "Processing Record 11 of Set 10 | vila velha\n",
      "Processing Record 12 of Set 10 | kerouane\n",
      "Processing Record 13 of Set 10 | linhares\n",
      "Processing Record 14 of Set 10 | biltine\n",
      "Processing Record 15 of Set 10 | morant bay\n",
      "Processing Record 16 of Set 10 | pontiac\n",
      "Processing Record 17 of Set 10 | airai\n",
      "Processing Record 18 of Set 10 | la palma\n",
      "Processing Record 19 of Set 10 | cimislia\n",
      "Processing Record 20 of Set 10 | sao filipe\n",
      "Processing Record 21 of Set 10 | la ronge\n",
      "Processing Record 22 of Set 10 | basco\n",
      "Processing Record 23 of Set 10 | umm kaddadah\n",
      "Processing Record 24 of Set 10 | pochutla\n",
      "Processing Record 25 of Set 10 | lubango\n",
      "Processing Record 26 of Set 10 | zhaoyuan\n",
      "Processing Record 27 of Set 10 | valparaiso\n",
      "Processing Record 28 of Set 10 | beringovskiy\n",
      "Processing Record 29 of Set 10 | puerto escondido\n",
      "Processing Record 30 of Set 10 | ca mau\n",
      "Processing Record 31 of Set 10 | aklavik\n",
      "Processing Record 32 of Set 10 | samusu\n",
      "City not found. Skipping...\n",
      "Processing Record 33 of Set 10 | barcelos\n",
      "Processing Record 34 of Set 10 | nichinan\n",
      "Processing Record 35 of Set 10 | jibuti\n",
      "Processing Record 36 of Set 10 | nha trang\n",
      "Processing Record 37 of Set 10 | lazaro cardenas\n",
      "Processing Record 38 of Set 10 | limbang\n",
      "Processing Record 39 of Set 10 | eskasem\n",
      "City not found. Skipping...\n",
      "Processing Record 40 of Set 10 | arua\n",
      "Processing Record 41 of Set 10 | medvezhyegorsk\n",
      "Processing Record 42 of Set 10 | kramat\n",
      "Processing Record 43 of Set 10 | shingu\n",
      "Processing Record 44 of Set 10 | banjar\n",
      "Processing Record 45 of Set 10 | tambacounda\n",
      "Processing Record 46 of Set 10 | aksha\n",
      "Processing Record 47 of Set 10 | omboue\n",
      "Processing Record 48 of Set 10 | zonguldak\n",
      "Processing Record 49 of Set 10 | lyubim\n",
      "Processing Record 50 of Set 10 | katsuura\n",
      "Processing Record 1 of Set 11 | wilmington island\n",
      "Processing Record 2 of Set 11 | torbay\n",
      "Processing Record 3 of Set 11 | tura\n",
      "Processing Record 4 of Set 11 | alghero\n",
      "Processing Record 5 of Set 11 | cruzeiro do sul\n",
      "Processing Record 6 of Set 11 | nantucket\n",
      "Processing Record 7 of Set 11 | north bend\n",
      "Processing Record 8 of Set 11 | kavaratti\n",
      "Processing Record 9 of Set 11 | loralai\n",
      "Processing Record 10 of Set 11 | danielskuil\n",
      "Processing Record 11 of Set 11 | sept-iles\n",
      "Processing Record 12 of Set 11 | ephrata\n",
      "Processing Record 13 of Set 11 | kasongo-lunda\n",
      "Processing Record 14 of Set 11 | makakilo city\n",
      "Processing Record 15 of Set 11 | ishigaki\n",
      "Processing Record 16 of Set 11 | mokolo\n",
      "Processing Record 17 of Set 11 | baracoa\n",
      "Processing Record 18 of Set 11 | point fortin\n",
      "Processing Record 19 of Set 11 | maskinonge\n",
      "Processing Record 20 of Set 11 | saint-augustin\n",
      "Processing Record 21 of Set 11 | lluta\n",
      "Processing Record 22 of Set 11 | barranca\n",
      "Processing Record 23 of Set 11 | ouro preto do oeste\n",
      "Processing Record 24 of Set 11 | vila\n",
      "Processing Record 25 of Set 11 | udachnyy\n",
      "Processing Record 26 of Set 11 | saint john\n",
      "Processing Record 27 of Set 11 | linping\n",
      "Processing Record 28 of Set 11 | rudbar\n",
      "Processing Record 29 of Set 11 | bud\n",
      "Processing Record 30 of Set 11 | sabang\n",
      "Processing Record 31 of Set 11 | rio grande city\n",
      "Processing Record 32 of Set 11 | shakhovskaya\n",
      "Processing Record 33 of Set 11 | kamenskoye\n",
      "City not found. Skipping...\n",
      "Processing Record 34 of Set 11 | grindavik\n",
      "Processing Record 35 of Set 11 | miraflores\n",
      "Processing Record 36 of Set 11 | port-gentil\n",
      "Processing Record 37 of Set 11 | ossora\n",
      "Processing Record 38 of Set 11 | xadani\n",
      "City not found. Skipping...\n",
      "Processing Record 39 of Set 11 | springbok\n",
      "Processing Record 40 of Set 11 | artyk\n",
      "City not found. Skipping...\n",
      "Processing Record 41 of Set 11 | deputatskiy\n",
      "Processing Record 42 of Set 11 | paralimni\n",
      "Processing Record 43 of Set 11 | chimoio\n",
      "Processing Record 44 of Set 11 | dawei\n",
      "Processing Record 45 of Set 11 | waipawa\n",
      "Processing Record 46 of Set 11 | banda aceh\n",
      "Processing Record 47 of Set 11 | ribas do rio pardo\n",
      "Processing Record 48 of Set 11 | tambo\n",
      "Processing Record 49 of Set 11 | stafford\n",
      "Processing Record 50 of Set 11 | yar-sale\n",
      "Processing Record 1 of Set 12 | sao jose da coroa grande\n",
      "Processing Record 2 of Set 12 | zhuji\n",
      "Processing Record 3 of Set 12 | rio grande\n",
      "Processing Record 4 of Set 12 | zarubino\n",
      "Processing Record 5 of Set 12 | virginia beach\n",
      "Processing Record 6 of Set 12 | truro\n",
      "Processing Record 7 of Set 12 | kisangani\n",
      "Processing Record 8 of Set 12 | longlac\n",
      "City not found. Skipping...\n",
      "Processing Record 9 of Set 12 | dakar\n",
      "Processing Record 10 of Set 12 | saleaula\n",
      "City not found. Skipping...\n",
      "Processing Record 11 of Set 12 | greece\n",
      "Processing Record 12 of Set 12 | half moon bay\n",
      "Processing Record 13 of Set 12 | nemuro\n",
      "Processing Record 14 of Set 12 | manicore\n",
      "Processing Record 15 of Set 12 | atambua\n"
     ]
    },
    {
     "name": "stdout",
     "output_type": "stream",
     "text": [
      "Processing Record 16 of Set 12 | mayor pablo lagerenza\n",
      "Processing Record 17 of Set 12 | tarime\n",
      "Processing Record 18 of Set 12 | ilo\n",
      "Processing Record 19 of Set 12 | kieta\n",
      "Processing Record 20 of Set 12 | krasnokamensk\n",
      "Processing Record 21 of Set 12 | walvis bay\n",
      "Processing Record 22 of Set 12 | fare\n",
      "Processing Record 23 of Set 12 | nioro\n",
      "Processing Record 24 of Set 12 | atlantic city\n",
      "Processing Record 25 of Set 12 | tiruvottiyur\n",
      "City not found. Skipping...\n",
      "Processing Record 26 of Set 12 | bodden town\n",
      "Processing Record 27 of Set 12 | karasjok\n",
      "Processing Record 28 of Set 12 | kyren\n",
      "Processing Record 29 of Set 12 | poso\n",
      "Processing Record 30 of Set 12 | lugovskiy\n",
      "City not found. Skipping...\n",
      "Processing Record 31 of Set 12 | mannarakkat\n",
      "Processing Record 32 of Set 12 | havoysund\n",
      "Processing Record 33 of Set 12 | mahon\n",
      "Processing Record 34 of Set 12 | vestmannaeyjar\n",
      "Processing Record 35 of Set 12 | mirnyy\n",
      "Processing Record 36 of Set 12 | fujin\n",
      "Processing Record 37 of Set 12 | jabinyanah\n",
      "Processing Record 38 of Set 12 | berlevag\n",
      "Processing Record 39 of Set 12 | progreso\n",
      "Processing Record 40 of Set 12 | kasongo\n",
      "Processing Record 41 of Set 12 | vardo\n",
      "Processing Record 42 of Set 12 | minggang\n",
      "Processing Record 43 of Set 12 | kapit\n",
      "-----------------------------\n",
      "Data Retrieval Complete      \n",
      "-----------------------------\n"
     ]
    }
   ],
   "source": [
    "# Loop through all the cities in the list.\n",
    "for i, city in enumerate(cities):\n",
    "\n",
    "    # Group cities in sets of 50 for logging purposes.\n",
    "    if (i % 50 == 0 and i >= 50): \n",
    "        set_count += 1\n",
    "        record_count = 1\n",
    "        time.sleep(60)\n",
    "\n",
    "    # Create endpoint URL with each city.\n",
    "    city_url = url + \"&q=\" + city.replace(\" \",\"+\")\n",
    "\n",
    "    # Log the URL, record, and set numbers and the city.\n",
    "    print(f\"Processing Record {record_count} of Set {set_count} | {city}\")\n",
    "    # Add 1 to the record count.\n",
    "    record_count += 1\n",
    "    \n",
    "# Run an API request for each of the cities.\n",
    "    try:\n",
    "        # Parse the JSON and retrieve data.\n",
    "        city_weather = requests.get(city_url).json()\n",
    "        # Parse out the needed data.\n",
    "        city_lat = city_weather[\"coord\"][\"lat\"]\n",
    "        city_lng = city_weather[\"coord\"][\"lon\"]\n",
    "        city_max_temp = city_weather[\"main\"][\"temp_max\"]\n",
    "        city_humidity = city_weather[\"main\"][\"humidity\"]\n",
    "        city_clouds = city_weather[\"clouds\"][\"all\"]\n",
    "        city_wind = city_weather[\"wind\"][\"speed\"]\n",
    "        city_country = city_weather[\"sys\"][\"country\"]\n",
    "        # Convert the date to ISO standard.\n",
    "        city_date = datetime.utcfromtimestamp(city_weather[\"dt\"]).strftime('%Y-%m-%d %H:%M:%S')\n",
    "        # Append the city information into city_data list.\n",
    "        city_data.append({\"City\": city.title(),\n",
    "                          \"Lat\": city_lat,\n",
    "                          \"Lng\": city_lng,\n",
    "                          \"Max Temp\": city_max_temp,\n",
    "                          \"Humidity\": city_humidity,\n",
    "                          \"Cloudiness\": city_clouds,\n",
    "                          \"Wind Speed\": city_wind,\n",
    "                          \"Country\": city_country,\n",
    "                          \"Date\": city_date})\n",
    "\n",
    "# If an error is experienced, skip the city.\n",
    "    except:\n",
    "        print(\"City not found. Skipping...\")\n",
    "        pass\n",
    "\n",
    "# Indicate that Data Loading is complete.\n",
    "print(\"-----------------------------\")\n",
    "print(\"Data Retrieval Complete      \")\n",
    "print(\"-----------------------------\")"
   ]
  },
  {
   "cell_type": "markdown",
   "id": "2044926a",
   "metadata": {},
   "source": [
    "# Create a DataFrame of City Weather Data"
   ]
  },
  {
   "cell_type": "code",
   "execution_count": 22,
   "id": "ec895322",
   "metadata": {},
   "outputs": [
    {
     "data": {
      "text/html": [
       "<div>\n",
       "<style scoped>\n",
       "    .dataframe tbody tr th:only-of-type {\n",
       "        vertical-align: middle;\n",
       "    }\n",
       "\n",
       "    .dataframe tbody tr th {\n",
       "        vertical-align: top;\n",
       "    }\n",
       "\n",
       "    .dataframe thead th {\n",
       "        text-align: right;\n",
       "    }\n",
       "</style>\n",
       "<table border=\"1\" class=\"dataframe\">\n",
       "  <thead>\n",
       "    <tr style=\"text-align: right;\">\n",
       "      <th></th>\n",
       "      <th>City</th>\n",
       "      <th>Lat</th>\n",
       "      <th>Lng</th>\n",
       "      <th>Max Temp</th>\n",
       "      <th>Humidity</th>\n",
       "      <th>Cloudiness</th>\n",
       "      <th>Wind Speed</th>\n",
       "      <th>Country</th>\n",
       "      <th>Date</th>\n",
       "    </tr>\n",
       "  </thead>\n",
       "  <tbody>\n",
       "    <tr>\n",
       "      <th>0</th>\n",
       "      <td>Turayf</td>\n",
       "      <td>31.6725</td>\n",
       "      <td>38.6637</td>\n",
       "      <td>77.85</td>\n",
       "      <td>21</td>\n",
       "      <td>0</td>\n",
       "      <td>23.35</td>\n",
       "      <td>SA</td>\n",
       "      <td>2022-05-23 15:04:33</td>\n",
       "    </tr>\n",
       "    <tr>\n",
       "      <th>1</th>\n",
       "      <td>Constitucion</td>\n",
       "      <td>-35.3333</td>\n",
       "      <td>-72.4167</td>\n",
       "      <td>54.16</td>\n",
       "      <td>91</td>\n",
       "      <td>100</td>\n",
       "      <td>0.87</td>\n",
       "      <td>CL</td>\n",
       "      <td>2022-05-23 15:04:33</td>\n",
       "    </tr>\n",
       "    <tr>\n",
       "      <th>2</th>\n",
       "      <td>Aswan</td>\n",
       "      <td>24.0934</td>\n",
       "      <td>32.9070</td>\n",
       "      <td>93.63</td>\n",
       "      <td>9</td>\n",
       "      <td>0</td>\n",
       "      <td>17.65</td>\n",
       "      <td>EG</td>\n",
       "      <td>2022-05-23 15:04:34</td>\n",
       "    </tr>\n",
       "    <tr>\n",
       "      <th>3</th>\n",
       "      <td>Ancud</td>\n",
       "      <td>-41.8697</td>\n",
       "      <td>-73.8203</td>\n",
       "      <td>49.17</td>\n",
       "      <td>77</td>\n",
       "      <td>89</td>\n",
       "      <td>17.29</td>\n",
       "      <td>CL</td>\n",
       "      <td>2022-05-23 15:04:28</td>\n",
       "    </tr>\n",
       "    <tr>\n",
       "      <th>4</th>\n",
       "      <td>Berberati</td>\n",
       "      <td>4.2612</td>\n",
       "      <td>15.7922</td>\n",
       "      <td>79.16</td>\n",
       "      <td>67</td>\n",
       "      <td>91</td>\n",
       "      <td>4.29</td>\n",
       "      <td>CF</td>\n",
       "      <td>2022-05-23 15:04:34</td>\n",
       "    </tr>\n",
       "    <tr>\n",
       "      <th>5</th>\n",
       "      <td>Helong</td>\n",
       "      <td>42.5397</td>\n",
       "      <td>128.9972</td>\n",
       "      <td>57.56</td>\n",
       "      <td>92</td>\n",
       "      <td>100</td>\n",
       "      <td>5.70</td>\n",
       "      <td>CN</td>\n",
       "      <td>2022-05-23 15:04:34</td>\n",
       "    </tr>\n",
       "    <tr>\n",
       "      <th>6</th>\n",
       "      <td>Butaritari</td>\n",
       "      <td>3.0707</td>\n",
       "      <td>172.7902</td>\n",
       "      <td>81.27</td>\n",
       "      <td>80</td>\n",
       "      <td>100</td>\n",
       "      <td>12.75</td>\n",
       "      <td>KI</td>\n",
       "      <td>2022-05-23 15:04:34</td>\n",
       "    </tr>\n",
       "    <tr>\n",
       "      <th>7</th>\n",
       "      <td>Puerto Ayora</td>\n",
       "      <td>-0.7393</td>\n",
       "      <td>-90.3518</td>\n",
       "      <td>78.76</td>\n",
       "      <td>96</td>\n",
       "      <td>47</td>\n",
       "      <td>1.99</td>\n",
       "      <td>EC</td>\n",
       "      <td>2022-05-23 15:04:35</td>\n",
       "    </tr>\n",
       "    <tr>\n",
       "      <th>8</th>\n",
       "      <td>Dikson</td>\n",
       "      <td>73.5069</td>\n",
       "      <td>80.5464</td>\n",
       "      <td>21.72</td>\n",
       "      <td>83</td>\n",
       "      <td>8</td>\n",
       "      <td>9.62</td>\n",
       "      <td>RU</td>\n",
       "      <td>2022-05-23 15:04:35</td>\n",
       "    </tr>\n",
       "    <tr>\n",
       "      <th>9</th>\n",
       "      <td>Rikitea</td>\n",
       "      <td>-23.1203</td>\n",
       "      <td>-134.9692</td>\n",
       "      <td>75.58</td>\n",
       "      <td>77</td>\n",
       "      <td>15</td>\n",
       "      <td>13.71</td>\n",
       "      <td>PF</td>\n",
       "      <td>2022-05-23 15:02:31</td>\n",
       "    </tr>\n",
       "  </tbody>\n",
       "</table>\n",
       "</div>"
      ],
      "text/plain": [
       "           City      Lat       Lng  Max Temp  Humidity  Cloudiness  \\\n",
       "0        Turayf  31.6725   38.6637     77.85        21           0   \n",
       "1  Constitucion -35.3333  -72.4167     54.16        91         100   \n",
       "2         Aswan  24.0934   32.9070     93.63         9           0   \n",
       "3         Ancud -41.8697  -73.8203     49.17        77          89   \n",
       "4     Berberati   4.2612   15.7922     79.16        67          91   \n",
       "5        Helong  42.5397  128.9972     57.56        92         100   \n",
       "6    Butaritari   3.0707  172.7902     81.27        80         100   \n",
       "7  Puerto Ayora  -0.7393  -90.3518     78.76        96          47   \n",
       "8        Dikson  73.5069   80.5464     21.72        83           8   \n",
       "9       Rikitea -23.1203 -134.9692     75.58        77          15   \n",
       "\n",
       "   Wind Speed Country                 Date  \n",
       "0       23.35      SA  2022-05-23 15:04:33  \n",
       "1        0.87      CL  2022-05-23 15:04:33  \n",
       "2       17.65      EG  2022-05-23 15:04:34  \n",
       "3       17.29      CL  2022-05-23 15:04:28  \n",
       "4        4.29      CF  2022-05-23 15:04:34  \n",
       "5        5.70      CN  2022-05-23 15:04:34  \n",
       "6       12.75      KI  2022-05-23 15:04:34  \n",
       "7        1.99      EC  2022-05-23 15:04:35  \n",
       "8        9.62      RU  2022-05-23 15:04:35  \n",
       "9       13.71      PF  2022-05-23 15:02:31  "
      ]
     },
     "execution_count": 22,
     "metadata": {},
     "output_type": "execute_result"
    }
   ],
   "source": [
    "# Convert the array of dictionaries to a Pandas DataFrame.\n",
    "city_data_df = pd.DataFrame(city_data)\n",
    "city_data_df.head(10)"
   ]
  },
  {
   "cell_type": "code",
   "execution_count": 23,
   "id": "a8a36c37",
   "metadata": {},
   "outputs": [
    {
     "data": {
      "text/html": [
       "<div>\n",
       "<style scoped>\n",
       "    .dataframe tbody tr th:only-of-type {\n",
       "        vertical-align: middle;\n",
       "    }\n",
       "\n",
       "    .dataframe tbody tr th {\n",
       "        vertical-align: top;\n",
       "    }\n",
       "\n",
       "    .dataframe thead th {\n",
       "        text-align: right;\n",
       "    }\n",
       "</style>\n",
       "<table border=\"1\" class=\"dataframe\">\n",
       "  <thead>\n",
       "    <tr style=\"text-align: right;\">\n",
       "      <th></th>\n",
       "      <th>City</th>\n",
       "      <th>Country</th>\n",
       "      <th>Date</th>\n",
       "      <th>Lat</th>\n",
       "      <th>Lng</th>\n",
       "      <th>Max Temp</th>\n",
       "      <th>Humidity</th>\n",
       "      <th>Cloudiness</th>\n",
       "      <th>Wind Speed</th>\n",
       "    </tr>\n",
       "  </thead>\n",
       "  <tbody>\n",
       "    <tr>\n",
       "      <th>0</th>\n",
       "      <td>Turayf</td>\n",
       "      <td>SA</td>\n",
       "      <td>2022-05-23 15:04:33</td>\n",
       "      <td>31.6725</td>\n",
       "      <td>38.6637</td>\n",
       "      <td>77.85</td>\n",
       "      <td>21</td>\n",
       "      <td>0</td>\n",
       "      <td>23.35</td>\n",
       "    </tr>\n",
       "    <tr>\n",
       "      <th>1</th>\n",
       "      <td>Constitucion</td>\n",
       "      <td>CL</td>\n",
       "      <td>2022-05-23 15:04:33</td>\n",
       "      <td>-35.3333</td>\n",
       "      <td>-72.4167</td>\n",
       "      <td>54.16</td>\n",
       "      <td>91</td>\n",
       "      <td>100</td>\n",
       "      <td>0.87</td>\n",
       "    </tr>\n",
       "    <tr>\n",
       "      <th>2</th>\n",
       "      <td>Aswan</td>\n",
       "      <td>EG</td>\n",
       "      <td>2022-05-23 15:04:34</td>\n",
       "      <td>24.0934</td>\n",
       "      <td>32.9070</td>\n",
       "      <td>93.63</td>\n",
       "      <td>9</td>\n",
       "      <td>0</td>\n",
       "      <td>17.65</td>\n",
       "    </tr>\n",
       "    <tr>\n",
       "      <th>3</th>\n",
       "      <td>Ancud</td>\n",
       "      <td>CL</td>\n",
       "      <td>2022-05-23 15:04:28</td>\n",
       "      <td>-41.8697</td>\n",
       "      <td>-73.8203</td>\n",
       "      <td>49.17</td>\n",
       "      <td>77</td>\n",
       "      <td>89</td>\n",
       "      <td>17.29</td>\n",
       "    </tr>\n",
       "    <tr>\n",
       "      <th>4</th>\n",
       "      <td>Berberati</td>\n",
       "      <td>CF</td>\n",
       "      <td>2022-05-23 15:04:34</td>\n",
       "      <td>4.2612</td>\n",
       "      <td>15.7922</td>\n",
       "      <td>79.16</td>\n",
       "      <td>67</td>\n",
       "      <td>91</td>\n",
       "      <td>4.29</td>\n",
       "    </tr>\n",
       "    <tr>\n",
       "      <th>5</th>\n",
       "      <td>Helong</td>\n",
       "      <td>CN</td>\n",
       "      <td>2022-05-23 15:04:34</td>\n",
       "      <td>42.5397</td>\n",
       "      <td>128.9972</td>\n",
       "      <td>57.56</td>\n",
       "      <td>92</td>\n",
       "      <td>100</td>\n",
       "      <td>5.70</td>\n",
       "    </tr>\n",
       "    <tr>\n",
       "      <th>6</th>\n",
       "      <td>Butaritari</td>\n",
       "      <td>KI</td>\n",
       "      <td>2022-05-23 15:04:34</td>\n",
       "      <td>3.0707</td>\n",
       "      <td>172.7902</td>\n",
       "      <td>81.27</td>\n",
       "      <td>80</td>\n",
       "      <td>100</td>\n",
       "      <td>12.75</td>\n",
       "    </tr>\n",
       "    <tr>\n",
       "      <th>7</th>\n",
       "      <td>Puerto Ayora</td>\n",
       "      <td>EC</td>\n",
       "      <td>2022-05-23 15:04:35</td>\n",
       "      <td>-0.7393</td>\n",
       "      <td>-90.3518</td>\n",
       "      <td>78.76</td>\n",
       "      <td>96</td>\n",
       "      <td>47</td>\n",
       "      <td>1.99</td>\n",
       "    </tr>\n",
       "    <tr>\n",
       "      <th>8</th>\n",
       "      <td>Dikson</td>\n",
       "      <td>RU</td>\n",
       "      <td>2022-05-23 15:04:35</td>\n",
       "      <td>73.5069</td>\n",
       "      <td>80.5464</td>\n",
       "      <td>21.72</td>\n",
       "      <td>83</td>\n",
       "      <td>8</td>\n",
       "      <td>9.62</td>\n",
       "    </tr>\n",
       "    <tr>\n",
       "      <th>9</th>\n",
       "      <td>Rikitea</td>\n",
       "      <td>PF</td>\n",
       "      <td>2022-05-23 15:02:31</td>\n",
       "      <td>-23.1203</td>\n",
       "      <td>-134.9692</td>\n",
       "      <td>75.58</td>\n",
       "      <td>77</td>\n",
       "      <td>15</td>\n",
       "      <td>13.71</td>\n",
       "    </tr>\n",
       "  </tbody>\n",
       "</table>\n",
       "</div>"
      ],
      "text/plain": [
       "           City Country                 Date      Lat       Lng  Max Temp  \\\n",
       "0        Turayf      SA  2022-05-23 15:04:33  31.6725   38.6637     77.85   \n",
       "1  Constitucion      CL  2022-05-23 15:04:33 -35.3333  -72.4167     54.16   \n",
       "2         Aswan      EG  2022-05-23 15:04:34  24.0934   32.9070     93.63   \n",
       "3         Ancud      CL  2022-05-23 15:04:28 -41.8697  -73.8203     49.17   \n",
       "4     Berberati      CF  2022-05-23 15:04:34   4.2612   15.7922     79.16   \n",
       "5        Helong      CN  2022-05-23 15:04:34  42.5397  128.9972     57.56   \n",
       "6    Butaritari      KI  2022-05-23 15:04:34   3.0707  172.7902     81.27   \n",
       "7  Puerto Ayora      EC  2022-05-23 15:04:35  -0.7393  -90.3518     78.76   \n",
       "8        Dikson      RU  2022-05-23 15:04:35  73.5069   80.5464     21.72   \n",
       "9       Rikitea      PF  2022-05-23 15:02:31 -23.1203 -134.9692     75.58   \n",
       "\n",
       "   Humidity  Cloudiness  Wind Speed  \n",
       "0        21           0       23.35  \n",
       "1        91         100        0.87  \n",
       "2         9           0       17.65  \n",
       "3        77          89       17.29  \n",
       "4        67          91        4.29  \n",
       "5        92         100        5.70  \n",
       "6        80         100       12.75  \n",
       "7        96          47        1.99  \n",
       "8        83           8        9.62  \n",
       "9        77          15       13.71  "
      ]
     },
     "execution_count": 23,
     "metadata": {},
     "output_type": "execute_result"
    }
   ],
   "source": [
    "new_col_order = [\"City\", \"Country\", \"Date\", \"Lat\", \"Lng\", \"Max Temp\", \"Humidity\", \"Cloudiness\", \"Wind Speed\"]\n",
    "city_data_df = city_data_df[new_col_order]\n",
    "\n",
    "city_data_df.head(10)"
   ]
  },
  {
   "cell_type": "code",
   "execution_count": 24,
   "id": "ad4aa9a3",
   "metadata": {},
   "outputs": [],
   "source": [
    "# Create the output file (CSV) in the weather_data folder.\n",
    "output_data_file = \"weather_data/cities.csv\"\n",
    "\n",
    "# Export the City_Data into a CSV.\n",
    "city_data_df.to_csv(output_data_file, index_label=\"City_ID\")"
   ]
  },
  {
   "cell_type": "markdown",
   "id": "b90cd9a2",
   "metadata": {},
   "source": [
    "# Get Data for Plotting"
   ]
  },
  {
   "cell_type": "code",
   "execution_count": 25,
   "id": "2c8e0ddc",
   "metadata": {},
   "outputs": [],
   "source": [
    "# Extract relevant fields from the DataFrame for plotting.\n",
    "lats = city_data_df[\"Lat\"]\n",
    "max_temps = city_data_df[\"Max Temp\"]\n",
    "humidity = city_data_df[\"Humidity\"]\n",
    "cloudiness = city_data_df[\"Cloudiness\"]\n",
    "wind_speed = city_data_df[\"Wind Speed\"]"
   ]
  },
  {
   "cell_type": "code",
   "execution_count": 26,
   "id": "b7f0883e",
   "metadata": {},
   "outputs": [
    {
     "data": {
      "text/plain": [
       "1653319207.9553273"
      ]
     },
     "execution_count": 26,
     "metadata": {},
     "output_type": "execute_result"
    }
   ],
   "source": [
    "# Import the time module.\n",
    "import time\n",
    "\n",
    "# Get today's date in seconds.\n",
    "today = time.time()\n",
    "today"
   ]
  },
  {
   "cell_type": "code",
   "execution_count": 27,
   "id": "1e7f4227",
   "metadata": {},
   "outputs": [
    {
     "data": {
      "text/plain": [
       "'05/23/22'"
      ]
     },
     "execution_count": 27,
     "metadata": {},
     "output_type": "execute_result"
    }
   ],
   "source": [
    "# Get today's date in mo/day/year format\n",
    "today_date = time.strftime(\"%x\")\n",
    "today_date"
   ]
  },
  {
   "cell_type": "code",
   "execution_count": 28,
   "id": "0872f771",
   "metadata": {},
   "outputs": [
    {
     "data": {
      "image/png": "[encoded data removed]",
      "text/plain": [
       "<Figure size 432x288 with 1 Axes>"
      ]
     },
     "metadata": {
      "needs_background": "light"
     },
     "output_type": "display_data"
    }
   ],
   "source": [
    "# Import time module\n",
    "import time\n",
    "\n",
    "# Build the scatter plot for latitude vs. max temperature.\n",
    "plt.scatter(lats,\n",
    "            max_temps,\n",
    "            edgecolor=\"black\", linewidths=1, marker=\"o\",\n",
    "            alpha=0.8, label=\"Cities\")\n",
    "\n",
    "# Incorporate the other graph properties.\n",
    "plt.title(f\"City Latitude vs. Max Temperature \"+ time.strftime(\"%x\"))\n",
    "plt.ylabel(\"Max Temperature (F)\")\n",
    "plt.xlabel(\"Latitude\")\n",
    "plt.grid(True)\n",
    "\n",
    "# Save the figure.\n",
    "plt.savefig(\"weather_data/Fig1.png\")\n",
    "\n",
    "# Show plot.\n",
    "plt.show()"
   ]
  },
  {
   "cell_type": "code",
   "execution_count": 29,
   "id": "1669cfa7",
   "metadata": {},
   "outputs": [
    {
     "data": {
      "image/png": "[encoded data removed]",
      "text/plain": [
       "<Figure size 432x288 with 1 Axes>"
      ]
     },
     "metadata": {
      "needs_background": "light"
     },
     "output_type": "display_data"
    }
   ],
   "source": [
    "# Build the scatter plots for latitude vs. humidity.\n",
    "plt.scatter(lats,\n",
    "            humidity,\n",
    "            edgecolor=\"black\", linewidths=1, marker=\"o\",\n",
    "            alpha=0.8, label=\"Cities\")\n",
    "\n",
    "# Incorporate the other graph properties.\n",
    "plt.title(f\"City Latitude vs. Humidity \"+ time.strftime(\"%x\"))\n",
    "plt.ylabel(\"Humidity (%)\")\n",
    "plt.xlabel(\"Latitude\")\n",
    "plt.grid(True)\n",
    "\n",
    "# Save the figure.\n",
    "plt.savefig(\"weather_data/Fig2.png\")\n",
    "\n",
    "# Show plot.\n",
    "plt.show()"
   ]
  },
  {
   "cell_type": "code",
   "execution_count": 30,
   "id": "a71462d4",
   "metadata": {},
   "outputs": [
    {
     "data": {
      "image/png": "[encoded data removed]",
      "text/plain": [
       "<Figure size 432x288 with 1 Axes>"
      ]
     },
     "metadata": {
      "needs_background": "light"
     },
     "output_type": "display_data"
    }
   ],
   "source": [
    "# Build the scatter plots for latitude vs. cloudiness.\n",
    "plt.scatter(lats,\n",
    "            cloudiness,\n",
    "            edgecolor=\"black\", linewidths=1, marker=\"o\",\n",
    "            alpha=0.8, label=\"Cities\")\n",
    "\n",
    "# Incorporate the other graph properties.\n",
    "plt.title(f\"City Latitude vs. Cloudiness (%) \"+ time.strftime(\"%x\"))\n",
    "plt.ylabel(\"Cloudiness (%)\")\n",
    "plt.xlabel(\"Latitude\")\n",
    "plt.grid(True)\n",
    "\n",
    "# Save the figure.\n",
    "plt.savefig(\"weather_data/Fig3.png\")\n",
    "\n",
    "# Show plot.\n",
    "plt.show()"
   ]
  },
  {
   "cell_type": "code",
   "execution_count": 31,
   "id": "01c5d06e",
   "metadata": {},
   "outputs": [
    {
     "data": {
      "image/png": "[encoded data removed]",
      "text/plain": [
       "<Figure size 432x288 with 1 Axes>"
      ]
     },
     "metadata": {
      "needs_background": "light"
     },
     "output_type": "display_data"
    }
   ],
   "source": [
    "# Build the scatter plots for latitude vs. wind speed.\n",
    "plt.scatter(lats,\n",
    "            wind_speed,\n",
    "            edgecolor=\"black\", linewidths=1, marker=\"o\",\n",
    "            alpha=0.8, label=\"Cities\")\n",
    "\n",
    "# Incorporate the other graph properties.\n",
    "plt.title(f\"City Latitude vs. Wind Speed \"+ time.strftime(\"%x\"))\n",
    "plt.ylabel(\"Wind Speed (mph)\")\n",
    "plt.xlabel(\"Latitude\")\n",
    "plt.grid(True)\n",
    "\n",
    "# Save the figure.\n",
    "plt.savefig(\"weather_data/Fig4.png\")\n",
    "\n",
    "# Show plot.\n",
    "plt.show()"
   ]
  },
  {
   "cell_type": "markdown",
   "id": "51bbd726",
   "metadata": {},
   "source": [
    "# Linear Regression"
   ]
  },
  {
   "cell_type": "code",
   "execution_count": 86,
   "id": "97274346",
   "metadata": {},
   "outputs": [
    {
     "data": {
      "image/png": "[encoded data removed]",
      "text/plain": [
       "<Figure size 432x288 with 1 Axes>"
      ]
     },
     "metadata": {
      "needs_background": "light"
     },
     "output_type": "display_data"
    }
   ],
   "source": [
    "# Perform linear regression.\n",
    "(slope, intercept, r_value, p_value, std_err) = linregress(x_values, y_values)\n",
    "\n",
    "# Calculate the regression line \"y values\" from the slope and intercept.\n",
    "regress_values = x_values * slope + intercept\n",
    "\n",
    "# Get the equation of the line.\n",
    "line_eq = \"y = \" + str(round(slope,2)) + \"x + \" + str(round(intercept,2))\n",
    "\n",
    "# Create a scatter plot of the x and y values.\n",
    "plt.scatter(x_values,y_values)\n",
    "# Plot the regression line with the x-values and the y coordinates based on the intercept and slope.\n",
    "plt.plot(x_values,regress_values,\"r\")\n",
    "# Annotate the text for the line equation and add its coordinates.\n",
    "plt.annotate(line_eq, (10,40), fontsize=15, color=\"red\")\n",
    "plt.title('Title')\n",
    "plt.xlabel('Latitude')\n",
    "plt.ylabel('Temp')\n",
    "plt.show()"
   ]
  },
  {
   "cell_type": "code",
   "execution_count": 36,
   "id": "fab08640",
   "metadata": {},
   "outputs": [],
   "source": [
    "# Import linregress\n",
    "from scipy.stats import linregress\n",
    "\n",
    "# Create a function to create perform linear regression on the weather data\n",
    "# and plot a regression line and the equation with the data.\n",
    "def plot_linear_regression(x_values, y_values, title, y_label, text_coordinates):\n",
    "\n",
    "    # Run regression on hemisphere weather data.\n",
    "    (slope, intercept, r_value, p_value, std_err) = linregress(x_values, y_values)\n",
    "\n",
    "    # Calculate the regression line \"y values\" from the slope and intercept.\n",
    "    regress_values = x_values * slope + intercept\n",
    "    \n",
    "    # Get the equation of the line.\n",
    "    line_eq = \"y = \" + str(round(slope,2)) + \"x + \" + str(round(intercept,2))\n",
    "    \n",
    "    # Create a scatter plot and plot the regression line.\n",
    "    plt.scatter(x_values,y_values)\n",
    "    plt.plot(x_values,regress_values,\"r\")\n",
    "    \n",
    "    # Annotate the text for the line equation.\n",
    "    plt.annotate(line_eq, text_coordinates, fontsize=15, color=\"red\")\n",
    "    plt.title(title)\n",
    "    plt.xlabel('Latitude')\n",
    "    plt.ylabel(y_label)\n",
    "    plt.show()"
   ]
  },
  {
   "cell_type": "markdown",
   "id": "15137ef9",
   "metadata": {},
   "source": [
    "# Northern Hemi Data"
   ]
  },
  {
   "cell_type": "code",
   "execution_count": 37,
   "id": "5e75dd1d",
   "metadata": {},
   "outputs": [
    {
     "data": {
      "text/plain": [
       "City                        Alofi\n",
       "Country                        NU\n",
       "Date          2022-05-23 15:04:36\n",
       "Lat                      -19.0595\n",
       "Lng                     -169.9187\n",
       "Max Temp                    69.69\n",
       "Humidity                       94\n",
       "Cloudiness                     40\n",
       "Wind Speed                    2.3\n",
       "Name: 13, dtype: object"
      ]
     },
     "execution_count": 37,
     "metadata": {},
     "output_type": "execute_result"
    }
   ],
   "source": [
    "index13 = city_data_df.loc[13]\n",
    "index13"
   ]
  },
  {
   "cell_type": "code",
   "execution_count": 38,
   "id": "43e34b2b",
   "metadata": {},
   "outputs": [
    {
     "data": {
      "text/html": [
       "<div>\n",
       "<style scoped>\n",
       "    .dataframe tbody tr th:only-of-type {\n",
       "        vertical-align: middle;\n",
       "    }\n",
       "\n",
       "    .dataframe tbody tr th {\n",
       "        vertical-align: top;\n",
       "    }\n",
       "\n",
       "    .dataframe thead th {\n",
       "        text-align: right;\n",
       "    }\n",
       "</style>\n",
       "<table border=\"1\" class=\"dataframe\">\n",
       "  <thead>\n",
       "    <tr style=\"text-align: right;\">\n",
       "      <th></th>\n",
       "      <th>City</th>\n",
       "      <th>Country</th>\n",
       "      <th>Date</th>\n",
       "      <th>Lat</th>\n",
       "      <th>Lng</th>\n",
       "      <th>Max Temp</th>\n",
       "      <th>Humidity</th>\n",
       "      <th>Cloudiness</th>\n",
       "      <th>Wind Speed</th>\n",
       "    </tr>\n",
       "  </thead>\n",
       "  <tbody>\n",
       "    <tr>\n",
       "      <th>0</th>\n",
       "      <td>Turayf</td>\n",
       "      <td>SA</td>\n",
       "      <td>2022-05-23 15:04:33</td>\n",
       "      <td>31.6725</td>\n",
       "      <td>38.6637</td>\n",
       "      <td>77.85</td>\n",
       "      <td>21</td>\n",
       "      <td>0</td>\n",
       "      <td>23.35</td>\n",
       "    </tr>\n",
       "    <tr>\n",
       "      <th>2</th>\n",
       "      <td>Aswan</td>\n",
       "      <td>EG</td>\n",
       "      <td>2022-05-23 15:04:34</td>\n",
       "      <td>24.0934</td>\n",
       "      <td>32.9070</td>\n",
       "      <td>93.63</td>\n",
       "      <td>9</td>\n",
       "      <td>0</td>\n",
       "      <td>17.65</td>\n",
       "    </tr>\n",
       "    <tr>\n",
       "      <th>4</th>\n",
       "      <td>Berberati</td>\n",
       "      <td>CF</td>\n",
       "      <td>2022-05-23 15:04:34</td>\n",
       "      <td>4.2612</td>\n",
       "      <td>15.7922</td>\n",
       "      <td>79.16</td>\n",
       "      <td>67</td>\n",
       "      <td>91</td>\n",
       "      <td>4.29</td>\n",
       "    </tr>\n",
       "    <tr>\n",
       "      <th>5</th>\n",
       "      <td>Helong</td>\n",
       "      <td>CN</td>\n",
       "      <td>2022-05-23 15:04:34</td>\n",
       "      <td>42.5397</td>\n",
       "      <td>128.9972</td>\n",
       "      <td>57.56</td>\n",
       "      <td>92</td>\n",
       "      <td>100</td>\n",
       "      <td>5.70</td>\n",
       "    </tr>\n",
       "    <tr>\n",
       "      <th>6</th>\n",
       "      <td>Butaritari</td>\n",
       "      <td>KI</td>\n",
       "      <td>2022-05-23 15:04:34</td>\n",
       "      <td>3.0707</td>\n",
       "      <td>172.7902</td>\n",
       "      <td>81.27</td>\n",
       "      <td>80</td>\n",
       "      <td>100</td>\n",
       "      <td>12.75</td>\n",
       "    </tr>\n",
       "  </tbody>\n",
       "</table>\n",
       "</div>"
      ],
      "text/plain": [
       "         City Country                 Date      Lat       Lng  Max Temp  \\\n",
       "0      Turayf      SA  2022-05-23 15:04:33  31.6725   38.6637     77.85   \n",
       "2       Aswan      EG  2022-05-23 15:04:34  24.0934   32.9070     93.63   \n",
       "4   Berberati      CF  2022-05-23 15:04:34   4.2612   15.7922     79.16   \n",
       "5      Helong      CN  2022-05-23 15:04:34  42.5397  128.9972     57.56   \n",
       "6  Butaritari      KI  2022-05-23 15:04:34   3.0707  172.7902     81.27   \n",
       "\n",
       "   Humidity  Cloudiness  Wind Speed  \n",
       "0        21           0       23.35  \n",
       "2         9           0       17.65  \n",
       "4        67          91        4.29  \n",
       "5        92         100        5.70  \n",
       "6        80         100       12.75  "
      ]
     },
     "execution_count": 38,
     "metadata": {},
     "output_type": "execute_result"
    }
   ],
   "source": [
    "city_data_df.loc[(city_data_df[\"Lat\"] >= 0)].head()"
   ]
  },
  {
   "cell_type": "code",
   "execution_count": 39,
   "id": "0fa6e232",
   "metadata": {},
   "outputs": [],
   "source": [
    "# Create Northern and Southern Hemisphere DataFrames.\n",
    "northern_hemi_df = city_data_df.loc[(city_data_df[\"Lat\"] >= 0)]\n",
    "southern_hemi_df = city_data_df.loc[(city_data_df[\"Lat\"] < 0)]"
   ]
  },
  {
   "cell_type": "code",
   "execution_count": 40,
   "id": "b3fc4295",
   "metadata": {},
   "outputs": [
    {
     "data": {
      "image/png": "[encoded data removed]",
      "text/plain": [
       "<Figure size 432x288 with 1 Axes>"
      ]
     },
     "metadata": {
      "needs_background": "light"
     },
     "output_type": "display_data"
    }
   ],
   "source": [
    "# Linear regression on the Northern Hemisphere\n",
    "x_values = northern_hemi_df[\"Lat\"]\n",
    "y_values = northern_hemi_df[\"Max Temp\"]\n",
    "\n",
    "# Call the function.\n",
    "plot_linear_regression(x_values, y_values,\n",
    "                       'Linear Regression on the Northern Hemisphere \\\n",
    "                        for Maximum Temperature', 'Max Temp',(0,40))"
   ]
  },
  {
   "cell_type": "markdown",
   "id": "86747fe1",
   "metadata": {},
   "source": [
    "# Southern Hemi Data"
   ]
  },
  {
   "cell_type": "code",
   "execution_count": 41,
   "id": "106cde59",
   "metadata": {},
   "outputs": [
    {
     "data": {
      "image/png": "[encoded data removed]",
      "text/plain": [
       "<Figure size 432x288 with 1 Axes>"
      ]
     },
     "metadata": {
      "needs_background": "light"
     },
     "output_type": "display_data"
    }
   ],
   "source": [
    "# Linear regression on the Southern Hemisphere\n",
    "x_values = southern_hemi_df[\"Lat\"]\n",
    "y_values = southern_hemi_df[\"Max Temp\"]\n",
    "\n",
    "# Call the function.\n",
    "plot_linear_regression(x_values, y_values,\n",
    "                       'Linear Regression on the Southern Hemisphere \\\n",
    "                        for Maximum Temperature', 'Max Temp',(-50,80))"
   ]
  },
  {
   "cell_type": "markdown",
   "id": "a4cc9f12",
   "metadata": {},
   "source": [
    "# Correlation between Lat and %Hum"
   ]
  },
  {
   "cell_type": "code",
   "execution_count": 42,
   "id": "fb2e4553",
   "metadata": {},
   "outputs": [
    {
     "data": {
      "image/png": "[encoded data removed]",
      "text/plain": [
       "<Figure size 432x288 with 1 Axes>"
      ]
     },
     "metadata": {
      "needs_background": "light"
     },
     "output_type": "display_data"
    }
   ],
   "source": [
    "# Linear regression on the Northern Hemisphere\n",
    "x_values = northern_hemi_df[\"Lat\"]\n",
    "y_values = northern_hemi_df[\"Humidity\"]\n",
    "\n",
    "# Call the function.\n",
    "plot_linear_regression(x_values, y_values,\n",
    "                       'Linear Regression on the Northern Hemisphere \\\n",
    "                        for % Humidity', '% Humidity',(40,10))"
   ]
  },
  {
   "cell_type": "code",
   "execution_count": 43,
   "id": "ea9eaf96",
   "metadata": {},
   "outputs": [
    {
     "data": {
      "image/png": "[encoded data removed]",
      "text/plain": [
       "<Figure size 432x288 with 1 Axes>"
      ]
     },
     "metadata": {
      "needs_background": "light"
     },
     "output_type": "display_data"
    }
   ],
   "source": [
    "# Linear regression on the Southern Hemisphere\n",
    "x_values = southern_hemi_df[\"Lat\"]\n",
    "y_values = southern_hemi_df[\"Humidity\"]\n",
    "\n",
    "# Call the function.\n",
    "plot_linear_regression(x_values, y_values,\n",
    "                       'Linear Regression on the Southern Hemisphere \\\n",
    "                        for % Humidity', '% Humidity',(-50,15))"
   ]
  },
  {
   "cell_type": "markdown",
   "id": "989aedb4",
   "metadata": {},
   "source": [
    "# Correlation between Lat and %Cloud"
   ]
  },
  {
   "cell_type": "code",
   "execution_count": 44,
   "id": "8ee7d007",
   "metadata": {},
   "outputs": [
    {
     "data": {
      "image/png": "[encoded data removed]",
      "text/plain": [
       "<Figure size 432x288 with 1 Axes>"
      ]
     },
     "metadata": {
      "needs_background": "light"
     },
     "output_type": "display_data"
    }
   ],
   "source": [
    "# Linear regression on the Northern Hemisphere\n",
    "x_values = northern_hemi_df[\"Lat\"]\n",
    "y_values = northern_hemi_df[\"Cloudiness\"]\n",
    "\n",
    "# Call the function.\n",
    "plot_linear_regression(x_values, y_values,\n",
    "                       'Linear Regression on the Northern Hemisphere \\\n",
    "                        for % Cloudiness', '% Cloudiness',(40,10))"
   ]
  },
  {
   "cell_type": "code",
   "execution_count": 45,
   "id": "30b22589",
   "metadata": {},
   "outputs": [
    {
     "data": {
      "image/png": "[encoded data removed]",
      "text/plain": [
       "<Figure size 432x288 with 1 Axes>"
      ]
     },
     "metadata": {
      "needs_background": "light"
     },
     "output_type": "display_data"
    }
   ],
   "source": [
    "# Linear regression on the Southern Hemisphere\n",
    "x_values = southern_hemi_df[\"Lat\"]\n",
    "y_values = southern_hemi_df[\"Cloudiness\"]\n",
    "\n",
    "# Call the function.\n",
    "plot_linear_regression(x_values, y_values,\n",
    "                       'Linear Regression on the Southern Hemisphere \\\n",
    "                        for % Cloudiness', '% Cloudiness',(-50,15))"
   ]
  },
  {
   "cell_type": "markdown",
   "id": "b004a1a3",
   "metadata": {},
   "source": [
    "# Correlation between Lat and Wind Speed"
   ]
  },
  {
   "cell_type": "code",
   "execution_count": 46,
   "id": "1121e0f8",
   "metadata": {},
   "outputs": [
    {
     "data": {
      "image/png": "[encoded data removed]",
      "text/plain": [
       "<Figure size 432x288 with 1 Axes>"
      ]
     },
     "metadata": {
      "needs_background": "light"
     },
     "output_type": "display_data"
    }
   ],
   "source": [
    "# Linear regression on the Northern Hemisphere\n",
    "x_values = northern_hemi_df[\"Lat\"]\n",
    "y_values = northern_hemi_df[\"Wind Speed\"]\n",
    "\n",
    "# Call the function.\n",
    "plot_linear_regression(x_values, y_values,\n",
    "                       'Linear Regression on the Northern Hemisphere \\\n",
    "                        for Wind Speed', 'Wind Speed',(40,35))"
   ]
  },
  {
   "cell_type": "code",
   "execution_count": 47,
   "id": "c42497a6",
   "metadata": {},
   "outputs": [
    {
     "data": {
      "image/png": "[encoded data removed]",
      "text/plain": [
       "<Figure size 432x288 with 1 Axes>"
      ]
     },
     "metadata": {
      "needs_background": "light"
     },
     "output_type": "display_data"
    }
   ],
   "source": [
    "# Linear regression on the Southern Hemisphere\n",
    "x_values = southern_hemi_df[\"Lat\"]\n",
    "y_values = southern_hemi_df[\"Wind Speed\"]\n",
    "\n",
    "# Call the function.\n",
    "plot_linear_regression(x_values, y_values,\n",
    "                       'Linear Regression on the Southern Hemisphere \\\n",
    "                        for Wind Speed', 'Wind Speed',(-25, 20))"
   ]
  },
  {
   "cell_type": "markdown",
   "id": "266f0ab4",
   "metadata": {},
   "source": [
    "# Max Temp Heat Map"
   ]
  },
  {
   "cell_type": "code",
   "execution_count": 2,
   "id": "2e950094",
   "metadata": {},
   "outputs": [],
   "source": [
    "# Import the dependencies.\n",
    "import pandas as pd\n",
    "import gmaps\n",
    "import requests\n",
    "\n",
    "# Import the API key.\n",
    "from config import g_key"
   ]
  },
  {
   "cell_type": "code",
   "execution_count": 3,
   "id": "e68ce877",
   "metadata": {},
   "outputs": [],
   "source": [
    "%matplotlib inline"
   ]
  },
  {
   "cell_type": "code",
   "execution_count": 4,
   "id": "8449e978",
   "metadata": {},
   "outputs": [
    {
     "data": {
      "text/html": [
       "<div>\n",
       "<style scoped>\n",
       "    .dataframe tbody tr th:only-of-type {\n",
       "        vertical-align: middle;\n",
       "    }\n",
       "\n",
       "    .dataframe tbody tr th {\n",
       "        vertical-align: top;\n",
       "    }\n",
       "\n",
       "    .dataframe thead th {\n",
       "        text-align: right;\n",
       "    }\n",
       "</style>\n",
       "<table border=\"1\" class=\"dataframe\">\n",
       "  <thead>\n",
       "    <tr style=\"text-align: right;\">\n",
       "      <th></th>\n",
       "      <th>City_ID</th>\n",
       "      <th>City</th>\n",
       "      <th>Country</th>\n",
       "      <th>Date</th>\n",
       "      <th>Lat</th>\n",
       "      <th>Lng</th>\n",
       "      <th>Max Temp</th>\n",
       "      <th>Humidity</th>\n",
       "      <th>Cloudiness</th>\n",
       "      <th>Wind Speed</th>\n",
       "    </tr>\n",
       "  </thead>\n",
       "  <tbody>\n",
       "    <tr>\n",
       "      <th>0</th>\n",
       "      <td>0</td>\n",
       "      <td>Turayf</td>\n",
       "      <td>SA</td>\n",
       "      <td>2022-05-23 15:04:33</td>\n",
       "      <td>31.6725</td>\n",
       "      <td>38.6637</td>\n",
       "      <td>77.85</td>\n",
       "      <td>21</td>\n",
       "      <td>0</td>\n",
       "      <td>23.35</td>\n",
       "    </tr>\n",
       "    <tr>\n",
       "      <th>1</th>\n",
       "      <td>1</td>\n",
       "      <td>Constitucion</td>\n",
       "      <td>CL</td>\n",
       "      <td>2022-05-23 15:04:33</td>\n",
       "      <td>-35.3333</td>\n",
       "      <td>-72.4167</td>\n",
       "      <td>54.16</td>\n",
       "      <td>91</td>\n",
       "      <td>100</td>\n",
       "      <td>0.87</td>\n",
       "    </tr>\n",
       "    <tr>\n",
       "      <th>2</th>\n",
       "      <td>2</td>\n",
       "      <td>Aswan</td>\n",
       "      <td>EG</td>\n",
       "      <td>2022-05-23 15:04:34</td>\n",
       "      <td>24.0934</td>\n",
       "      <td>32.9070</td>\n",
       "      <td>93.63</td>\n",
       "      <td>9</td>\n",
       "      <td>0</td>\n",
       "      <td>17.65</td>\n",
       "    </tr>\n",
       "    <tr>\n",
       "      <th>3</th>\n",
       "      <td>3</td>\n",
       "      <td>Ancud</td>\n",
       "      <td>CL</td>\n",
       "      <td>2022-05-23 15:04:28</td>\n",
       "      <td>-41.8697</td>\n",
       "      <td>-73.8203</td>\n",
       "      <td>49.17</td>\n",
       "      <td>77</td>\n",
       "      <td>89</td>\n",
       "      <td>17.29</td>\n",
       "    </tr>\n",
       "    <tr>\n",
       "      <th>4</th>\n",
       "      <td>4</td>\n",
       "      <td>Berberati</td>\n",
       "      <td>CF</td>\n",
       "      <td>2022-05-23 15:04:34</td>\n",
       "      <td>4.2612</td>\n",
       "      <td>15.7922</td>\n",
       "      <td>79.16</td>\n",
       "      <td>67</td>\n",
       "      <td>91</td>\n",
       "      <td>4.29</td>\n",
       "    </tr>\n",
       "  </tbody>\n",
       "</table>\n",
       "</div>"
      ],
      "text/plain": [
       "   City_ID          City Country                 Date      Lat      Lng  \\\n",
       "0        0        Turayf      SA  2022-05-23 15:04:33  31.6725  38.6637   \n",
       "1        1  Constitucion      CL  2022-05-23 15:04:33 -35.3333 -72.4167   \n",
       "2        2         Aswan      EG  2022-05-23 15:04:34  24.0934  32.9070   \n",
       "3        3         Ancud      CL  2022-05-23 15:04:28 -41.8697 -73.8203   \n",
       "4        4     Berberati      CF  2022-05-23 15:04:34   4.2612  15.7922   \n",
       "\n",
       "   Max Temp  Humidity  Cloudiness  Wind Speed  \n",
       "0     77.85        21           0       23.35  \n",
       "1     54.16        91         100        0.87  \n",
       "2     93.63         9           0       17.65  \n",
       "3     49.17        77          89       17.29  \n",
       "4     79.16        67          91        4.29  "
      ]
     },
     "execution_count": 4,
     "metadata": {},
     "output_type": "execute_result"
    }
   ],
   "source": [
    "# Store the CSV you saved created in part one into a DataFrame.\n",
    "city_data_df = pd.read_csv(\"weather_data/cities.csv\")\n",
    "city_data_df.head()"
   ]
  },
  {
   "cell_type": "code",
   "execution_count": 5,
   "id": "a6e0a6be",
   "metadata": {},
   "outputs": [
    {
     "data": {
      "text/plain": [
       "City_ID         int64\n",
       "City           object\n",
       "Country        object\n",
       "Date           object\n",
       "Lat           float64\n",
       "Lng           float64\n",
       "Max Temp      float64\n",
       "Humidity        int64\n",
       "Cloudiness      int64\n",
       "Wind Speed    float64\n",
       "dtype: object"
      ]
     },
     "execution_count": 5,
     "metadata": {},
     "output_type": "execute_result"
    }
   ],
   "source": [
    "city_data_df.dtypes"
   ]
  },
  {
   "cell_type": "code",
   "execution_count": 6,
   "id": "3422e1d5",
   "metadata": {},
   "outputs": [],
   "source": [
    "# Configure gmaps to use your Google API key.\n",
    "gmaps.configure(api_key=g_key)"
   ]
  },
  {
   "cell_type": "code",
   "execution_count": 8,
   "id": "ad7f1569",
   "metadata": {},
   "outputs": [
    {
     "data": {
      "application/vnd.jupyter.widget-view+json": {
       "model_id": "883229df67804c8e95ebeaaf52af7781",
       "version_major": 2,
       "version_minor": 0
      },
      "text/plain": [
       "Figure(layout=FigureLayout(height='420px'))"
      ]
     },
     "metadata": {},
     "output_type": "display_data"
    }
   ],
   "source": [
    "# 1. Assign the locations to an array of latitude and longitude pairs.\n",
    "locations = city_data_df[[\"Lat\", \"Lng\"]]\n",
    "\n",
    "# 2. Assign the weights variable to some values.\n",
    "max_temp = city_data_df[\"Max Temp\"]\n",
    "temps = []\n",
    "for temp in max_temp:\n",
    "    temps.append(max(temp, 0))\n",
    "                        \n",
    "# 3. Assign the figure variable to the gmaps.figure() attribute.\n",
    "fig = gmaps.figure()\n",
    "\n",
    "# 4. Assign the heatmap_layer variable to the heatmap_layer attribute and add in the locations.\n",
    "heat_layer = gmaps.heatmap_layer(locations, weights=temps)\n",
    "\n",
    "\n",
    "# 5. Add the heatmap layer.\n",
    "fig.add_layer(heat_layer)\n",
    "\n",
    "# 6. Call the figure to plot the data.\n",
    "fig"
   ]
  },
  {
   "cell_type": "markdown",
   "id": "c11cc368",
   "metadata": {},
   "source": [
    "# Adjust Heat Map Zoom"
   ]
  },
  {
   "cell_type": "code",
   "execution_count": 9,
   "id": "56018ff3",
   "metadata": {},
   "outputs": [
    {
     "data": {
      "application/vnd.jupyter.widget-view+json": {
       "model_id": "2e946bf2e0e3434b9661e14707e4dcc2",
       "version_major": 2,
       "version_minor": 0
      },
      "text/plain": [
       "Figure(layout=FigureLayout(height='420px'))"
      ]
     },
     "metadata": {},
     "output_type": "display_data"
    }
   ],
   "source": [
    "# 1. Assign the locations to an array of latitude and longitude pairs.\n",
    "locations = city_data_df[[\"Lat\", \"Lng\"]]\n",
    "\n",
    "# 2. Assign the weights variable to some values.\n",
    "#max_temp = city_data_df[\"Max Temp\"]\n",
    "#temps = []\n",
    "#for temp in max_temp:\n",
    "#    temps.append(max(temp, 0))\n",
    "                        \n",
    "# 3. Assign the figure variable to the gmaps.figure() attribute.\n",
    "fig = gmaps.figure()\n",
    "\n",
    "# 4. Assign the heatmap_layer variable to the heatmap_layer attribute and add in the locations.\n",
    "#heat_layer = gmaps.heatmap_layer(locations, weights=temps)\n",
    "\n",
    "heat_layer = gmaps.heatmap_layer(locations, weights=[max(temp, 0) for temp in max_temp], dissipating=False, max_intensity=300, point_radius=4)\n",
    "\n",
    "\n",
    "# 5. Add the heatmap layer.\n",
    "fig.add_layer(heat_layer)\n",
    "\n",
    "# 6. Call the figure to plot the data.\n",
    "fig"
   ]
  },
  {
   "cell_type": "markdown",
   "id": "8ad3b326",
   "metadata": {},
   "source": [
    "# Percent Humidity HeatMap"
   ]
  },
  {
   "cell_type": "code",
   "execution_count": 10,
   "id": "bc47cdea",
   "metadata": {},
   "outputs": [
    {
     "data": {
      "application/vnd.jupyter.widget-view+json": {
       "model_id": "c8f8bee0f3cb43dba69e0a1bdba3dd48",
       "version_major": 2,
       "version_minor": 0
      },
      "text/plain": [
       "Figure(layout=FigureLayout(height='420px'))"
      ]
     },
     "metadata": {},
     "output_type": "display_data"
    }
   ],
   "source": [
    "# Heatmap of percent humidity\n",
    "locations = city_data_df[[\"Lat\", \"Lng\"]]\n",
    "humidity = city_data_df[\"Humidity\"]\n",
    "fig = gmaps.figure(center=(30.0, 31.0), zoom_level=1.5)\n",
    "heat_layer = gmaps.heatmap_layer(locations, weights=humidity, dissipating=False, max_intensity=300, point_radius=4)\n",
    "\n",
    "fig.add_layer(heat_layer)\n",
    "# Call the figure to plot the data.\n",
    "fig"
   ]
  },
  {
   "cell_type": "markdown",
   "id": "1c57c866",
   "metadata": {},
   "source": [
    "# Percent Cloudiness HeatMap"
   ]
  },
  {
   "cell_type": "code",
   "execution_count": 17,
   "id": "7ed3ce61",
   "metadata": {},
   "outputs": [
    {
     "data": {
      "application/vnd.jupyter.widget-view+json": {
       "model_id": "1b724d3fa24c422abe3e9e29d844631a",
       "version_major": 2,
       "version_minor": 0
      },
      "text/plain": [
       "Figure(layout=FigureLayout(height='420px'))"
      ]
     },
     "metadata": {},
     "output_type": "display_data"
    }
   ],
   "source": [
    "# Heatmap of percent Cloudiness\n",
    "locations = city_data_df[[\"Lat\", \"Lng\"]]\n",
    "clouds = city_data_df[\"Cloudiness\"]\n",
    "fig = gmaps.figure(center=(30.0, 31.0), zoom_level=1.5)\n",
    "heat_layer = gmaps.heatmap_layer(locations, weights=clouds, dissipating=False, max_intensity=300, point_radius=4)\n",
    "\n",
    "fig.add_layer(heat_layer)\n",
    "\n",
    "# Call the figure to plot the data.\n",
    "fig"
   ]
  },
  {
   "cell_type": "markdown",
   "id": "e9389941",
   "metadata": {},
   "source": [
    "# Wind Speed HeatMap"
   ]
  },
  {
   "cell_type": "code",
   "execution_count": 19,
   "id": "c60edf0d",
   "metadata": {},
   "outputs": [
    {
     "data": {
      "application/vnd.jupyter.widget-view+json": {
       "model_id": "2d7e80ad9ff8471a937f1d7cf2185800",
       "version_major": 2,
       "version_minor": 0
      },
      "text/plain": [
       "Figure(layout=FigureLayout(height='420px'))"
      ]
     },
     "metadata": {},
     "output_type": "display_data"
    }
   ],
   "source": [
    "# Heatmap of Wind Speed\n",
    "locations = city_data_df[[\"Lat\", \"Lng\"]]\n",
    "wind = city_data_df[\"Wind Speed\"]\n",
    "fig = gmaps.figure(center=(30.0, 31.0), zoom_level=1.5)\n",
    "heat_layer = gmaps.heatmap_layer(locations, weights=wind, dissipating=False, max_intensity=300, point_radius=4)\n",
    "\n",
    "fig.add_layer(heat_layer)\n",
    "# Call the figure to plot the data.\n",
    "fig"
   ]
  },
  {
   "cell_type": "markdown",
   "id": "66b4ed1b",
   "metadata": {},
   "source": [
    "# Vacation Criteria"
   ]
  },
  {
   "cell_type": "code",
   "execution_count": 34,
   "id": "d1735442",
   "metadata": {},
   "outputs": [
    {
     "name": "stdout",
     "output_type": "stream",
     "text": [
      "What is the minimum temperature you would like for your trip? 75\n",
      "What is the maximum temperature you would like for your trip? 90\n"
     ]
    }
   ],
   "source": [
    "# Ask the customer to add a minimum and maximum temperature value.\n",
    "min_temp = float(input(\"What is the minimum temperature you would like for your trip? \"))\n",
    "max_temp = float(input(\"What is the maximum temperature you would like for your trip? \"))"
   ]
  },
  {
   "cell_type": "code",
   "execution_count": 35,
   "id": "50a16cac",
   "metadata": {},
   "outputs": [
    {
     "data": {
      "text/html": [
       "<div>\n",
       "<style scoped>\n",
       "    .dataframe tbody tr th:only-of-type {\n",
       "        vertical-align: middle;\n",
       "    }\n",
       "\n",
       "    .dataframe tbody tr th {\n",
       "        vertical-align: top;\n",
       "    }\n",
       "\n",
       "    .dataframe thead th {\n",
       "        text-align: right;\n",
       "    }\n",
       "</style>\n",
       "<table border=\"1\" class=\"dataframe\">\n",
       "  <thead>\n",
       "    <tr style=\"text-align: right;\">\n",
       "      <th></th>\n",
       "      <th>City_ID</th>\n",
       "      <th>City</th>\n",
       "      <th>Country</th>\n",
       "      <th>Date</th>\n",
       "      <th>Lat</th>\n",
       "      <th>Lng</th>\n",
       "      <th>Max Temp</th>\n",
       "      <th>Humidity</th>\n",
       "      <th>Cloudiness</th>\n",
       "      <th>Wind Speed</th>\n",
       "    </tr>\n",
       "  </thead>\n",
       "  <tbody>\n",
       "    <tr>\n",
       "      <th>0</th>\n",
       "      <td>0</td>\n",
       "      <td>Turayf</td>\n",
       "      <td>SA</td>\n",
       "      <td>2022-05-23 15:04:33</td>\n",
       "      <td>31.6725</td>\n",
       "      <td>38.6637</td>\n",
       "      <td>77.85</td>\n",
       "      <td>21</td>\n",
       "      <td>0</td>\n",
       "      <td>23.35</td>\n",
       "    </tr>\n",
       "    <tr>\n",
       "      <th>4</th>\n",
       "      <td>4</td>\n",
       "      <td>Berberati</td>\n",
       "      <td>CF</td>\n",
       "      <td>2022-05-23 15:04:34</td>\n",
       "      <td>4.2612</td>\n",
       "      <td>15.7922</td>\n",
       "      <td>79.16</td>\n",
       "      <td>67</td>\n",
       "      <td>91</td>\n",
       "      <td>4.29</td>\n",
       "    </tr>\n",
       "    <tr>\n",
       "      <th>6</th>\n",
       "      <td>6</td>\n",
       "      <td>Butaritari</td>\n",
       "      <td>KI</td>\n",
       "      <td>2022-05-23 15:04:34</td>\n",
       "      <td>3.0707</td>\n",
       "      <td>172.7902</td>\n",
       "      <td>81.27</td>\n",
       "      <td>80</td>\n",
       "      <td>100</td>\n",
       "      <td>12.75</td>\n",
       "    </tr>\n",
       "    <tr>\n",
       "      <th>7</th>\n",
       "      <td>7</td>\n",
       "      <td>Puerto Ayora</td>\n",
       "      <td>EC</td>\n",
       "      <td>2022-05-23 15:04:35</td>\n",
       "      <td>-0.7393</td>\n",
       "      <td>-90.3518</td>\n",
       "      <td>78.76</td>\n",
       "      <td>96</td>\n",
       "      <td>47</td>\n",
       "      <td>1.99</td>\n",
       "    </tr>\n",
       "    <tr>\n",
       "      <th>9</th>\n",
       "      <td>9</td>\n",
       "      <td>Rikitea</td>\n",
       "      <td>PF</td>\n",
       "      <td>2022-05-23 15:02:31</td>\n",
       "      <td>-23.1203</td>\n",
       "      <td>-134.9692</td>\n",
       "      <td>75.58</td>\n",
       "      <td>77</td>\n",
       "      <td>15</td>\n",
       "      <td>13.71</td>\n",
       "    </tr>\n",
       "    <tr>\n",
       "      <th>11</th>\n",
       "      <td>11</td>\n",
       "      <td>Burewala</td>\n",
       "      <td>PK</td>\n",
       "      <td>2022-05-23 15:04:36</td>\n",
       "      <td>30.1667</td>\n",
       "      <td>72.6500</td>\n",
       "      <td>78.57</td>\n",
       "      <td>54</td>\n",
       "      <td>0</td>\n",
       "      <td>16.24</td>\n",
       "    </tr>\n",
       "    <tr>\n",
       "      <th>14</th>\n",
       "      <td>14</td>\n",
       "      <td>Beneditinos</td>\n",
       "      <td>BR</td>\n",
       "      <td>2022-05-23 15:04:37</td>\n",
       "      <td>-5.4500</td>\n",
       "      <td>-42.3667</td>\n",
       "      <td>85.59</td>\n",
       "      <td>53</td>\n",
       "      <td>1</td>\n",
       "      <td>6.96</td>\n",
       "    </tr>\n",
       "    <tr>\n",
       "      <th>20</th>\n",
       "      <td>20</td>\n",
       "      <td>Hithadhoo</td>\n",
       "      <td>MV</td>\n",
       "      <td>2022-05-23 15:04:38</td>\n",
       "      <td>-0.6000</td>\n",
       "      <td>73.0833</td>\n",
       "      <td>84.13</td>\n",
       "      <td>75</td>\n",
       "      <td>20</td>\n",
       "      <td>10.58</td>\n",
       "    </tr>\n",
       "    <tr>\n",
       "      <th>21</th>\n",
       "      <td>21</td>\n",
       "      <td>Chabahar</td>\n",
       "      <td>IR</td>\n",
       "      <td>2022-05-23 15:04:38</td>\n",
       "      <td>25.2919</td>\n",
       "      <td>60.6430</td>\n",
       "      <td>85.66</td>\n",
       "      <td>77</td>\n",
       "      <td>0</td>\n",
       "      <td>5.82</td>\n",
       "    </tr>\n",
       "    <tr>\n",
       "      <th>28</th>\n",
       "      <td>28</td>\n",
       "      <td>Vaini</td>\n",
       "      <td>TO</td>\n",
       "      <td>2022-05-23 15:04:40</td>\n",
       "      <td>-21.2000</td>\n",
       "      <td>-175.2000</td>\n",
       "      <td>77.16</td>\n",
       "      <td>94</td>\n",
       "      <td>20</td>\n",
       "      <td>3.44</td>\n",
       "    </tr>\n",
       "  </tbody>\n",
       "</table>\n",
       "</div>"
      ],
      "text/plain": [
       "    City_ID          City Country                 Date      Lat       Lng  \\\n",
       "0         0        Turayf      SA  2022-05-23 15:04:33  31.6725   38.6637   \n",
       "4         4     Berberati      CF  2022-05-23 15:04:34   4.2612   15.7922   \n",
       "6         6    Butaritari      KI  2022-05-23 15:04:34   3.0707  172.7902   \n",
       "7         7  Puerto Ayora      EC  2022-05-23 15:04:35  -0.7393  -90.3518   \n",
       "9         9       Rikitea      PF  2022-05-23 15:02:31 -23.1203 -134.9692   \n",
       "11       11      Burewala      PK  2022-05-23 15:04:36  30.1667   72.6500   \n",
       "14       14   Beneditinos      BR  2022-05-23 15:04:37  -5.4500  -42.3667   \n",
       "20       20     Hithadhoo      MV  2022-05-23 15:04:38  -0.6000   73.0833   \n",
       "21       21      Chabahar      IR  2022-05-23 15:04:38  25.2919   60.6430   \n",
       "28       28         Vaini      TO  2022-05-23 15:04:40 -21.2000 -175.2000   \n",
       "\n",
       "    Max Temp  Humidity  Cloudiness  Wind Speed  \n",
       "0      77.85        21           0       23.35  \n",
       "4      79.16        67          91        4.29  \n",
       "6      81.27        80         100       12.75  \n",
       "7      78.76        96          47        1.99  \n",
       "9      75.58        77          15       13.71  \n",
       "11     78.57        54           0       16.24  \n",
       "14     85.59        53           1        6.96  \n",
       "20     84.13        75          20       10.58  \n",
       "21     85.66        77           0        5.82  \n",
       "28     77.16        94          20        3.44  "
      ]
     },
     "execution_count": 35,
     "metadata": {},
     "output_type": "execute_result"
    }
   ],
   "source": [
    "# Filter the dataset to find the cities that fit the criteria.\n",
    "preferred_cities_df = city_data_df.loc[(city_data_df[\"Max Temp\"] <= max_temp) & \\\n",
    "                                       (city_data_df[\"Max Temp\"] >= min_temp)]\n",
    "preferred_cities_df.head(10)"
   ]
  },
  {
   "cell_type": "code",
   "execution_count": 36,
   "id": "bf18b526",
   "metadata": {},
   "outputs": [
    {
     "data": {
      "text/plain": [
       "City_ID       174\n",
       "City          174\n",
       "Country       173\n",
       "Date          174\n",
       "Lat           174\n",
       "Lng           174\n",
       "Max Temp      174\n",
       "Humidity      174\n",
       "Cloudiness    174\n",
       "Wind Speed    174\n",
       "dtype: int64"
      ]
     },
     "execution_count": 36,
     "metadata": {},
     "output_type": "execute_result"
    }
   ],
   "source": [
    "# Check for number of Cities with NO null values\n",
    "preferred_cities_df.count()"
   ]
  },
  {
   "cell_type": "code",
   "execution_count": 44,
   "id": "284aa72f",
   "metadata": {},
   "outputs": [
    {
     "data": {
      "text/plain": [
       "City_ID       0\n",
       "City          0\n",
       "Country       1\n",
       "Date          0\n",
       "Lat           0\n",
       "Lng           0\n",
       "Max Temp      0\n",
       "Humidity      0\n",
       "Cloudiness    0\n",
       "Wind Speed    0\n",
       "dtype: int64"
      ]
     },
     "execution_count": 44,
     "metadata": {},
     "output_type": "execute_result"
    }
   ],
   "source": [
    "preferred_cities_df.isnull().sum()"
   ]
  },
  {
   "cell_type": "markdown",
   "id": "d18f2196",
   "metadata": {},
   "source": [
    "# Hotel Search"
   ]
  },
  {
   "cell_type": "code",
   "execution_count": 37,
   "id": "5966ab77",
   "metadata": {},
   "outputs": [
    {
     "data": {
      "text/html": [
       "<div>\n",
       "<style scoped>\n",
       "    .dataframe tbody tr th:only-of-type {\n",
       "        vertical-align: middle;\n",
       "    }\n",
       "\n",
       "    .dataframe tbody tr th {\n",
       "        vertical-align: top;\n",
       "    }\n",
       "\n",
       "    .dataframe thead th {\n",
       "        text-align: right;\n",
       "    }\n",
       "</style>\n",
       "<table border=\"1\" class=\"dataframe\">\n",
       "  <thead>\n",
       "    <tr style=\"text-align: right;\">\n",
       "      <th></th>\n",
       "      <th>City</th>\n",
       "      <th>Country</th>\n",
       "      <th>Max Temp</th>\n",
       "      <th>Lat</th>\n",
       "      <th>Lng</th>\n",
       "      <th>Hotel Name</th>\n",
       "    </tr>\n",
       "  </thead>\n",
       "  <tbody>\n",
       "    <tr>\n",
       "      <th>0</th>\n",
       "      <td>Turayf</td>\n",
       "      <td>SA</td>\n",
       "      <td>77.85</td>\n",
       "      <td>31.6725</td>\n",
       "      <td>38.6637</td>\n",
       "      <td></td>\n",
       "    </tr>\n",
       "    <tr>\n",
       "      <th>4</th>\n",
       "      <td>Berberati</td>\n",
       "      <td>CF</td>\n",
       "      <td>79.16</td>\n",
       "      <td>4.2612</td>\n",
       "      <td>15.7922</td>\n",
       "      <td></td>\n",
       "    </tr>\n",
       "    <tr>\n",
       "      <th>6</th>\n",
       "      <td>Butaritari</td>\n",
       "      <td>KI</td>\n",
       "      <td>81.27</td>\n",
       "      <td>3.0707</td>\n",
       "      <td>172.7902</td>\n",
       "      <td></td>\n",
       "    </tr>\n",
       "    <tr>\n",
       "      <th>7</th>\n",
       "      <td>Puerto Ayora</td>\n",
       "      <td>EC</td>\n",
       "      <td>78.76</td>\n",
       "      <td>-0.7393</td>\n",
       "      <td>-90.3518</td>\n",
       "      <td></td>\n",
       "    </tr>\n",
       "    <tr>\n",
       "      <th>9</th>\n",
       "      <td>Rikitea</td>\n",
       "      <td>PF</td>\n",
       "      <td>75.58</td>\n",
       "      <td>-23.1203</td>\n",
       "      <td>-134.9692</td>\n",
       "      <td></td>\n",
       "    </tr>\n",
       "    <tr>\n",
       "      <th>11</th>\n",
       "      <td>Burewala</td>\n",
       "      <td>PK</td>\n",
       "      <td>78.57</td>\n",
       "      <td>30.1667</td>\n",
       "      <td>72.6500</td>\n",
       "      <td></td>\n",
       "    </tr>\n",
       "    <tr>\n",
       "      <th>14</th>\n",
       "      <td>Beneditinos</td>\n",
       "      <td>BR</td>\n",
       "      <td>85.59</td>\n",
       "      <td>-5.4500</td>\n",
       "      <td>-42.3667</td>\n",
       "      <td></td>\n",
       "    </tr>\n",
       "    <tr>\n",
       "      <th>20</th>\n",
       "      <td>Hithadhoo</td>\n",
       "      <td>MV</td>\n",
       "      <td>84.13</td>\n",
       "      <td>-0.6000</td>\n",
       "      <td>73.0833</td>\n",
       "      <td></td>\n",
       "    </tr>\n",
       "    <tr>\n",
       "      <th>21</th>\n",
       "      <td>Chabahar</td>\n",
       "      <td>IR</td>\n",
       "      <td>85.66</td>\n",
       "      <td>25.2919</td>\n",
       "      <td>60.6430</td>\n",
       "      <td></td>\n",
       "    </tr>\n",
       "    <tr>\n",
       "      <th>28</th>\n",
       "      <td>Vaini</td>\n",
       "      <td>TO</td>\n",
       "      <td>77.16</td>\n",
       "      <td>-21.2000</td>\n",
       "      <td>-175.2000</td>\n",
       "      <td></td>\n",
       "    </tr>\n",
       "  </tbody>\n",
       "</table>\n",
       "</div>"
      ],
      "text/plain": [
       "            City Country  Max Temp      Lat       Lng Hotel Name\n",
       "0         Turayf      SA     77.85  31.6725   38.6637           \n",
       "4      Berberati      CF     79.16   4.2612   15.7922           \n",
       "6     Butaritari      KI     81.27   3.0707  172.7902           \n",
       "7   Puerto Ayora      EC     78.76  -0.7393  -90.3518           \n",
       "9        Rikitea      PF     75.58 -23.1203 -134.9692           \n",
       "11      Burewala      PK     78.57  30.1667   72.6500           \n",
       "14   Beneditinos      BR     85.59  -5.4500  -42.3667           \n",
       "20     Hithadhoo      MV     84.13  -0.6000   73.0833           \n",
       "21      Chabahar      IR     85.66  25.2919   60.6430           \n",
       "28         Vaini      TO     77.16 -21.2000 -175.2000           "
      ]
     },
     "execution_count": 37,
     "metadata": {},
     "output_type": "execute_result"
    }
   ],
   "source": [
    "# Create DataFrame called hotel_df to store hotel names along with city, country, max temp, and coordinates.\n",
    "hotel_df = preferred_cities_df[[\"City\", \"Country\", \"Max Temp\", \"Lat\", \"Lng\"]].copy()\n",
    "hotel_df[\"Hotel Name\"] = \"\"\n",
    "hotel_df.head(10)"
   ]
  },
  {
   "cell_type": "code",
   "execution_count": 38,
   "id": "fdd43556",
   "metadata": {},
   "outputs": [],
   "source": [
    "# Set parameters to search for a hotel.\n",
    "params = {\n",
    "    \"radius\": 5000,\n",
    "    \"type\": \"lodging\",\n",
    "    \"key\": g_key\n",
    "}"
   ]
  },
  {
   "cell_type": "code",
   "execution_count": 39,
   "id": "4b2db392",
   "metadata": {},
   "outputs": [],
   "source": [
    "# Dependencies and Setup\n",
    "import requests\n",
    "import gmaps\n",
    "\n",
    "# Import API key\n",
    "from config import g_key"
   ]
  },
  {
   "cell_type": "code",
   "execution_count": 40,
   "id": "c42348ae",
   "metadata": {},
   "outputs": [
    {
     "data": {
      "text/plain": [
       "{'html_attributions': [],\n",
       " 'next_page_token': 'Aap_uEDhgsZSsjAhf1enhOe8iS3xHNuYwaoqkYWEu5m9TCXXbFwiEveG8rbwcxq1Ujqpl4YiOapU7P20mf1aq5ChTmo738zPml_bwsdGK2IvPU-hy4NsM-X7YZEyN2tTs9aUQE5ogUE7qv8y0HL1JxzTUZ-53e27b-c9MCArUMoNccUi5H0fNju_5TG7kOqH9Jm_GKwhK28mQxLegGA2kOaeffGKjXngskaIlmkWCCeThUQPrg91Uy0lX83cLKtjBBMIdFKqETDKNLubjl3zAWqH4OFnnuKTAkH3GuA4Aaci7_lmvBft18VIa-SGUbgv4buLwBYRjI6Pp_k8rDVyXM2WZ7AmRNsqJ_ddPo55Jwo9oMxovm39i54L84JfWtnKvPtnbztJXyfS-QCdEetTKKAlQL0Ze2TapGo643HIpryhqranLrIbvmAARMaZ',\n",
       " 'results': [{'business_status': 'OPERATIONAL',\n",
       "   'geometry': {'location': {'lat': 48.8581126, 'lng': 2.3529277},\n",
       "    'viewport': {'northeast': {'lat': 48.8594360302915,\n",
       "      'lng': 2.354355480291502},\n",
       "     'southwest': {'lat': 48.8567380697085, 'lng': 2.351657519708498}}},\n",
       "   'icon': 'https://maps.gstatic.com/mapfiles/place_api/icons/v1/png_71/lodging-71.png',\n",
       "   'icon_background_color': '#909CE1',\n",
       "   'icon_mask_base_uri': 'https://maps.gstatic.com/mapfiles/place_api/icons/v2/hotel_pinlet',\n",
       "   'name': 'Hôtel Duo',\n",
       "   'opening_hours': {'open_now': True},\n",
       "   'photos': [{'height': 3840,\n",
       "     'html_attributions': ['<a href=\"https://maps.google.com/maps/contrib/107554201425443337224\">Hôtel Duo</a>'],\n",
       "     'photo_reference': 'Aap_uEAQjzZV2KU6pcqjEgdDzWV7MrLjIJ0wKB4swLmRQHfgtp6HtS1Kqp2Y9shiTGQ9lU1AOJ5y0q2gSt-JnPu_hrB12vrEqKrQabHoIkUq20j9msgrX8rWuNRJ82QoKcZsvjpjQwjC8WOOXgBM9pZK5BsMaaaq71pJFBTHEw9p_q5beluX',\n",
       "     'width': 5760}],\n",
       "   'place_id': 'ChIJWU9CqB1u5kcR5P1F2SMoJmc',\n",
       "   'plus_code': {'compound_code': 'V953+65 Paris, France',\n",
       "    'global_code': '8FW4V953+65'},\n",
       "   'rating': 4.2,\n",
       "   'reference': 'ChIJWU9CqB1u5kcR5P1F2SMoJmc',\n",
       "   'scope': 'GOOGLE',\n",
       "   'types': ['gym',\n",
       "    'night_club',\n",
       "    'lodging',\n",
       "    'spa',\n",
       "    'bar',\n",
       "    'point_of_interest',\n",
       "    'health',\n",
       "    'establishment'],\n",
       "   'user_ratings_total': 325,\n",
       "   'vicinity': '11 Rue du Temple, Paris'},\n",
       "  {'business_status': 'OPERATIONAL',\n",
       "   'geometry': {'location': {'lat': 48.8582861, 'lng': 2.3464944},\n",
       "    'viewport': {'northeast': {'lat': 48.85954748029151,\n",
       "      'lng': 2.347782830291502},\n",
       "     'southwest': {'lat': 48.85684951970851, 'lng': 2.345084869708498}}},\n",
       "   'icon': 'https://maps.gstatic.com/mapfiles/place_api/icons/v1/png_71/lodging-71.png',\n",
       "   'icon_background_color': '#909CE1',\n",
       "   'icon_mask_base_uri': 'https://maps.gstatic.com/mapfiles/place_api/icons/v2/hotel_pinlet',\n",
       "   'name': 'Britannique Hotel - Paris Centre',\n",
       "   'opening_hours': {'open_now': True},\n",
       "   'photos': [{'height': 1426,\n",
       "     'html_attributions': ['<a href=\"https://maps.google.com/maps/contrib/108984000175492464929\">Hôtel Britannique - Paris Centre</a>'],\n",
       "     'photo_reference': 'Aap_uECYJB1SjopCJ6ezHf9dHKBuPIvPRSFMikU7cr0iaSTDYz7mCR_sT_SY_SQ7cjCUu-kvxDywrA-76eOByVxRkSC67ADEq9eiqmZ-NnQCEc1rOrJcZhTjtNhf-1TMk3prwtVg07_qKLqy1AGikkVGX1mssKTfGwan6iewTHpjLDzxqTZG',\n",
       "     'width': 1476}],\n",
       "   'place_id': 'ChIJ-4Siox9u5kcRm9vM6DcMXyU',\n",
       "   'plus_code': {'compound_code': 'V85W+8H Paris, France',\n",
       "    'global_code': '8FW4V85W+8H'},\n",
       "   'rating': 4.7,\n",
       "   'reference': 'ChIJ-4Siox9u5kcRm9vM6DcMXyU',\n",
       "   'scope': 'GOOGLE',\n",
       "   'types': ['lodging', 'point_of_interest', 'establishment'],\n",
       "   'user_ratings_total': 740,\n",
       "   'vicinity': '20 Avenue Victoria, Paris'},\n",
       "  {'business_status': 'OPERATIONAL',\n",
       "   'geometry': {'location': {'lat': 48.8606655, 'lng': 2.3469293},\n",
       "    'viewport': {'northeast': {'lat': 48.8617746302915,\n",
       "      'lng': 2.347927730291502},\n",
       "     'southwest': {'lat': 48.8590766697085, 'lng': 2.345229769708499}}},\n",
       "   'icon': 'https://maps.gstatic.com/mapfiles/place_api/icons/v1/png_71/lodging-71.png',\n",
       "   'icon_background_color': '#909CE1',\n",
       "   'icon_mask_base_uri': 'https://maps.gstatic.com/mapfiles/place_api/icons/v2/hotel_pinlet',\n",
       "   'name': 'Citadines Les Halles Paris',\n",
       "   'opening_hours': {'open_now': True},\n",
       "   'photos': [{'height': 3000,\n",
       "     'html_attributions': ['<a href=\"https://maps.google.com/maps/contrib/107376803194583900329\">Fernando Costa</a>'],\n",
       "     'photo_reference': 'Aap_uEBcBcw-dLShRcze_OIQgPsihpRkVBq8HY0X_wdDejGnXex2RZUl-1TSMhVSRkQIzXHyZSx9qWyWxE3DIOq94vKe4-Pk3iUo1PrD1lNlR3uy9qnRdKHZsut-G2K6_inVaiTniJ9NpZ9kGj8rMon5dYvubzbDvhkwvDvxpnYeGWgCXXjJ',\n",
       "     'width': 4000}],\n",
       "   'place_id': 'ChIJQ_QDrxhu5kcRJzNxLLEOSfU',\n",
       "   'plus_code': {'compound_code': 'V86W+7Q Paris, France',\n",
       "    'global_code': '8FW4V86W+7Q'},\n",
       "   'rating': 4.1,\n",
       "   'reference': 'ChIJQ_QDrxhu5kcRJzNxLLEOSfU',\n",
       "   'scope': 'GOOGLE',\n",
       "   'types': ['city_hall',\n",
       "    'lodging',\n",
       "    'point_of_interest',\n",
       "    'local_government_office',\n",
       "    'establishment'],\n",
       "   'user_ratings_total': 909,\n",
       "   'vicinity': '4 Rue des Innocents, Paris'},\n",
       "  {'business_status': 'OPERATIONAL',\n",
       "   'geometry': {'location': {'lat': 48.8607658, 'lng': 2.3465318},\n",
       "    'viewport': {'northeast': {'lat': 48.8620584302915,\n",
       "      'lng': 2.347692880291501},\n",
       "     'southwest': {'lat': 48.85936046970851, 'lng': 2.344994919708498}}},\n",
       "   'icon': 'https://maps.gstatic.com/mapfiles/place_api/icons/v1/png_71/lodging-71.png',\n",
       "   'icon_background_color': '#909CE1',\n",
       "   'icon_mask_base_uri': 'https://maps.gstatic.com/mapfiles/place_api/icons/v2/hotel_pinlet',\n",
       "   'name': 'Novotel Paris Les Halles',\n",
       "   'photos': [{'height': 2000,\n",
       "     'html_attributions': ['<a href=\"https://maps.google.com/maps/contrib/111815616573299411056\">Novotel Paris Les Halles</a>'],\n",
       "     'photo_reference': 'Aap_uEBc-YxPLG_hLo6FzanuGSNXHmyQqb6lMFcDVGGb4i897ZKIPBl5lmXAKumOp7oW0muhZQaFHcjhZgsa4w9JUobtoyQFwfZKV7shIghSsSqvNa79IYdZ-4LpbU1x40yzbPFc7fMrvwNA-GSWhfY6KR24m-aKqPn3VK0dk1rZwsgolPGP',\n",
       "     'width': 3000}],\n",
       "   'place_id': 'ChIJGW2pNx9u5kcRI3oyL8NG5BQ',\n",
       "   'plus_code': {'compound_code': 'V86W+8J Paris, France',\n",
       "    'global_code': '8FW4V86W+8J'},\n",
       "   'rating': 4.4,\n",
       "   'reference': 'ChIJGW2pNx9u5kcRI3oyL8NG5BQ',\n",
       "   'scope': 'GOOGLE',\n",
       "   'types': ['lodging', 'point_of_interest', 'establishment'],\n",
       "   'user_ratings_total': 2468,\n",
       "   'vicinity': '8 Place Marguerite de Navarre, Paris'},\n",
       "  {'business_status': 'OPERATIONAL',\n",
       "   'geometry': {'location': {'lat': 48.860352, 'lng': 2.3440948},\n",
       "    'viewport': {'northeast': {'lat': 48.86165553029149,\n",
       "      'lng': 2.345549080291502},\n",
       "     'southwest': {'lat': 48.8589575697085, 'lng': 2.342851119708498}}},\n",
       "   'icon': 'https://maps.gstatic.com/mapfiles/place_api/icons/v1/png_71/lodging-71.png',\n",
       "   'icon_background_color': '#909CE1',\n",
       "   'icon_mask_base_uri': 'https://maps.gstatic.com/mapfiles/place_api/icons/v2/hotel_pinlet',\n",
       "   'name': 'Hôtel Ducs de Bourgogne',\n",
       "   'opening_hours': {'open_now': True},\n",
       "   'photos': [{'height': 1390,\n",
       "     'html_attributions': ['<a href=\"https://maps.google.com/maps/contrib/101411638353598558320\">Hôtel Ducs de Bourgogne</a>'],\n",
       "     'photo_reference': 'Aap_uEAC_tLWs4seyqgPofA2K9dphk0OxtILAo26mWAW9wA0JUaCTlxMwKrOhtEzw2lRRvfK8uo5htO0Feb3bgFgpE7xxp2AdE6x9SbA22CeR68-yqvNzz0b2iz-VPJxhHx4qxGy5IKROp7_f3LlJDqtDlEQwpa8SyQg9HUl7mK3ltmdHo0W',\n",
       "     'width': 2048}],\n",
       "   'place_id': 'ChIJifTG5yFu5kcRdnisbwxnAx4',\n",
       "   'plus_code': {'compound_code': 'V86V+4J Paris, France',\n",
       "    'global_code': '8FW4V86V+4J'},\n",
       "   'rating': 4.5,\n",
       "   'reference': 'ChIJifTG5yFu5kcRdnisbwxnAx4',\n",
       "   'scope': 'GOOGLE',\n",
       "   'types': ['lodging', 'point_of_interest', 'establishment'],\n",
       "   'user_ratings_total': 297,\n",
       "   'vicinity': '19 Rue du Pont Neuf, Paris'},\n",
       "  {'business_status': 'OPERATIONAL',\n",
       "   'geometry': {'location': {'lat': 48.8555091, 'lng': 2.3408736},\n",
       "    'viewport': {'northeast': {'lat': 48.8569076302915,\n",
       "      'lng': 2.342319280291502},\n",
       "     'southwest': {'lat': 48.8542096697085, 'lng': 2.339621319708498}}},\n",
       "   'icon': 'https://maps.gstatic.com/mapfiles/place_api/icons/v1/png_71/lodging-71.png',\n",
       "   'icon_background_color': '#909CE1',\n",
       "   'icon_mask_base_uri': 'https://maps.gstatic.com/mapfiles/place_api/icons/v2/hotel_pinlet',\n",
       "   'name': 'Citadines Saint-Germain-des-Prés Paris (Apart hotel Paris)',\n",
       "   'opening_hours': {'open_now': True},\n",
       "   'photos': [{'height': 4480,\n",
       "     'html_attributions': ['<a href=\"https://maps.google.com/maps/contrib/113188832595116816387\">Citadines Saint-Germain-des-Prés Paris (Apart Hotel Paris)</a>'],\n",
       "     'photo_reference': 'Aap_uEDcZlgapn5t8E03rYFvv-uYoiF3nhTVjizrMZzkX1CEDHbRB_tlobsPvgn1d_ud1tfKtO6E5RHKIURRu35WTd7FxIEmKd-2jrbXePx-Q3iaFTflAp_GFU9ag5BN11LN2mPeRxdZZemVOcZQPGgBcuIEe9i01vO9EbLYCflYFjtqsBYv',\n",
       "     'width': 6720}],\n",
       "   'place_id': 'ChIJo5pYcN9x5kcRERXdocMgqmE',\n",
       "   'plus_code': {'compound_code': 'V84R+68 Paris, France',\n",
       "    'global_code': '8FW4V84R+68'},\n",
       "   'rating': 4.3,\n",
       "   'reference': 'ChIJo5pYcN9x5kcRERXdocMgqmE',\n",
       "   'scope': 'GOOGLE',\n",
       "   'types': ['city_hall',\n",
       "    'lodging',\n",
       "    'point_of_interest',\n",
       "    'local_government_office',\n",
       "    'establishment'],\n",
       "   'user_ratings_total': 737,\n",
       "   'vicinity': '53 ter Quai des Grands Augustins, Paris'},\n",
       "  {'business_status': 'OPERATIONAL',\n",
       "   'geometry': {'location': {'lat': 48.8524547, 'lng': 2.3472064},\n",
       "    'viewport': {'northeast': {'lat': 48.8538838802915,\n",
       "      'lng': 2.348601530291502},\n",
       "     'southwest': {'lat': 48.8511859197085, 'lng': 2.345903569708498}}},\n",
       "   'icon': 'https://maps.gstatic.com/mapfiles/place_api/icons/v1/png_71/lodging-71.png',\n",
       "   'icon_background_color': '#909CE1',\n",
       "   'icon_mask_base_uri': 'https://maps.gstatic.com/mapfiles/place_api/icons/v2/hotel_pinlet',\n",
       "   'name': 'Hôtel Esmeralda',\n",
       "   'opening_hours': {'open_now': True},\n",
       "   'photos': [{'height': 4032,\n",
       "     'html_attributions': ['<a href=\"https://maps.google.com/maps/contrib/114852001362047630790\">Georgia Hentze</a>'],\n",
       "     'photo_reference': 'Aap_uEAKU6DsiO9Hcf2HEK0uhGvVwjU-2SpIJKto4gKLGYcJ_i8Yt-MKzHA1warUXq48AF3OLDy3HcKbo16VsN7RSMWAR_6gcs7Dsa8QqxTUDUiyJb0UT8aBmxkES6S7GSjhFU1O9GXmavk1YeBTzj0MzPyaAtF15zZ4oTJwLa-AW15WP-hd',\n",
       "     'width': 3024}],\n",
       "   'place_id': 'ChIJO_g_H-Fx5kcRmaabUHA3dT4',\n",
       "   'plus_code': {'compound_code': 'V82W+XV Paris, France',\n",
       "    'global_code': '8FW4V82W+XV'},\n",
       "   'rating': 4.1,\n",
       "   'reference': 'ChIJO_g_H-Fx5kcRmaabUHA3dT4',\n",
       "   'scope': 'GOOGLE',\n",
       "   'types': ['lodging', 'point_of_interest', 'establishment'],\n",
       "   'user_ratings_total': 166,\n",
       "   'vicinity': '4 Rue Saint-Julien le Pauvre, Paris'},\n",
       "  {'business_status': 'OPERATIONAL',\n",
       "   'geometry': {'location': {'lat': 48.8530901, 'lng': 2.3447174},\n",
       "    'viewport': {'northeast': {'lat': 48.8544535802915,\n",
       "      'lng': 2.345997680291501},\n",
       "     'southwest': {'lat': 48.85175561970851, 'lng': 2.343299719708498}}},\n",
       "   'icon': 'https://maps.gstatic.com/mapfiles/place_api/icons/v1/png_71/lodging-71.png',\n",
       "   'icon_background_color': '#909CE1',\n",
       "   'icon_mask_base_uri': 'https://maps.gstatic.com/mapfiles/place_api/icons/v2/hotel_pinlet',\n",
       "   'name': 'Albe Hotel',\n",
       "   'opening_hours': {'open_now': True},\n",
       "   'photos': [{'height': 1152,\n",
       "     'html_attributions': ['<a href=\"https://maps.google.com/maps/contrib/117571951379278191466\">Albe Hotel Saint Michel</a>'],\n",
       "     'photo_reference': 'Aap_uECK-wdVOHJYL5sW1xzhGfnkWcyFRQH5yqhz_NkdcRYDtFJlrXakGIVyPEJditE2vkPrsKOtaKZFx3wA2YOTHZOvR3j8gtRPj9WvOFq27OQOF3zniZS_2XM_NYGJSYGQwYHbFwDiJNlv5-3elA3tClv_BWPr2locD-L6byA4kqbXzxeA',\n",
       "     'width': 1600}],\n",
       "   'place_id': 'ChIJ8R5-hOBx5kcRsCOdfj8GLeY',\n",
       "   'plus_code': {'compound_code': 'V83V+6V Paris, France',\n",
       "    'global_code': '8FW4V83V+6V'},\n",
       "   'rating': 4.4,\n",
       "   'reference': 'ChIJ8R5-hOBx5kcRsCOdfj8GLeY',\n",
       "   'scope': 'GOOGLE',\n",
       "   'types': ['lodging', 'point_of_interest', 'establishment'],\n",
       "   'user_ratings_total': 364,\n",
       "   'vicinity': '1 Rue de la Harpe, Paris'},\n",
       "  {'business_status': 'OPERATIONAL',\n",
       "   'geometry': {'location': {'lat': 48.8532403, 'lng': 2.3457375},\n",
       "    'viewport': {'northeast': {'lat': 48.85462748029149,\n",
       "      'lng': 2.347175730291502},\n",
       "     'southwest': {'lat': 48.8519295197085, 'lng': 2.344477769708498}}},\n",
       "   'icon': 'https://maps.gstatic.com/mapfiles/place_api/icons/v1/png_71/lodging-71.png',\n",
       "   'icon_background_color': '#909CE1',\n",
       "   'icon_mask_base_uri': 'https://maps.gstatic.com/mapfiles/place_api/icons/v2/hotel_pinlet',\n",
       "   'name': 'Les Rives de Notre-Dame Hotel',\n",
       "   'opening_hours': {'open_now': True},\n",
       "   'photos': [{'height': 4024,\n",
       "     'html_attributions': ['<a href=\"https://maps.google.com/maps/contrib/116242575283063930652\">Michael Scholz</a>'],\n",
       "     'photo_reference': 'Aap_uECLfwIY9ozezb6J-RMZpddDOAabSdP7w7UZgFitZmRuzoy2svduWxiM1i7pI2KpUBwGlKRxZNulmSsOOMabp6GjJft_4ucALiTWzPYVoWizGTod-NEPuPk6Y8bgMPZIyJZyFYeBi6Z1WewAVMo_l1UXl8k3Y4v3VTI1xlhoLckoTjVA',\n",
       "     'width': 6048}],\n",
       "   'place_id': 'ChIJl7vs8-Bx5kcRfIQzq_4_XmU',\n",
       "   'plus_code': {'compound_code': 'V83W+77 Paris, France',\n",
       "    'global_code': '8FW4V83W+77'},\n",
       "   'rating': 4.6,\n",
       "   'reference': 'ChIJl7vs8-Bx5kcRfIQzq_4_XmU',\n",
       "   'scope': 'GOOGLE',\n",
       "   'types': ['lodging', 'point_of_interest', 'establishment'],\n",
       "   'user_ratings_total': 96,\n",
       "   'vicinity': '15 Quai Saint-Michel, Paris'},\n",
       "  {'business_status': 'OPERATIONAL',\n",
       "   'geometry': {'location': {'lat': 48.85184049999999, 'lng': 2.3448082},\n",
       "    'viewport': {'northeast': {'lat': 48.8531470802915,\n",
       "      'lng': 2.346121880291502},\n",
       "     'southwest': {'lat': 48.8504491197085, 'lng': 2.343423919708498}}},\n",
       "   'icon': 'https://maps.gstatic.com/mapfiles/place_api/icons/v1/png_71/lodging-71.png',\n",
       "   'icon_background_color': '#909CE1',\n",
       "   'icon_mask_base_uri': 'https://maps.gstatic.com/mapfiles/place_api/icons/v2/hotel_pinlet',\n",
       "   'name': 'Hôtel 4 étoiles Parc Saint-Séverin Paris 5ème - Esprit de France',\n",
       "   'opening_hours': {'open_now': True},\n",
       "   'photos': [{'height': 2362,\n",
       "     'html_attributions': ['<a href=\"https://maps.google.com/maps/contrib/107542132357877294567\">Hôtel 4 étoiles Parc Saint Séverin Paris 5ème - Esprit de France</a>'],\n",
       "     'photo_reference': 'Aap_uEC2Uw7m502mwg_j_UdY6X6BXJZM9bXV6-QTJ9l1_jpzFRYvi-dEO5alnvhaXAR0DBeOW0E7OipA1QozHfe-n4Rr72o74T-_XKPKDyAX_38xUv5X2QIThIPsMqL2aTRz1M2QzDUWtxdkPysjwXVYsL1S91UAfvvzjxflH5hR8RV3_sHp',\n",
       "     'width': 3776}],\n",
       "   'place_id': 'ChIJ9--kuuBx5kcRojwQ1yEK2cY',\n",
       "   'plus_code': {'compound_code': 'V82V+PW Paris, France',\n",
       "    'global_code': '8FW4V82V+PW'},\n",
       "   'rating': 4.6,\n",
       "   'reference': 'ChIJ9--kuuBx5kcRojwQ1yEK2cY',\n",
       "   'scope': 'GOOGLE',\n",
       "   'types': ['lodging', 'point_of_interest', 'establishment'],\n",
       "   'user_ratings_total': 176,\n",
       "   'vicinity': '22 Rue de la Parcheminerie, Paris'},\n",
       "  {'business_status': 'OPERATIONAL',\n",
       "   'geometry': {'location': {'lat': 48.8518743, 'lng': 2.3463436},\n",
       "    'viewport': {'northeast': {'lat': 48.8532481802915,\n",
       "      'lng': 2.347596830291502},\n",
       "     'southwest': {'lat': 48.8505502197085, 'lng': 2.344898869708498}}},\n",
       "   'icon': 'https://maps.gstatic.com/mapfiles/place_api/icons/v1/png_71/lodging-71.png',\n",
       "   'icon_background_color': '#909CE1',\n",
       "   'icon_mask_base_uri': 'https://maps.gstatic.com/mapfiles/place_api/icons/v2/hotel_pinlet',\n",
       "   'name': 'Hotel Henri IV Rive Gauche',\n",
       "   'photos': [{'height': 3024,\n",
       "     'html_attributions': ['<a href=\"https://maps.google.com/maps/contrib/110759590658386679133\">François TAPIEZO ART</a>'],\n",
       "     'photo_reference': 'Aap_uEAQSrjBer2-O2Pj_Fyvk_9cTWe-yLSUksm4o5-kAQCEK5j5Tkm30KRYxhp_qmRWDk0bAqtaYfc9_cXDt1nLA4nfzNQGo7VAA_CJ66LuJGSFJg_Qmyc9f7UYR5ghTLtzxsuiw8SwrGATcccURsJP82KMSiiPR0Bpv0N8oFgcqG5INHaL',\n",
       "     'width': 4032}],\n",
       "   'place_id': 'ChIJ2a4f2-Bx5kcR40Wl3uv_53Y',\n",
       "   'plus_code': {'compound_code': 'V82W+PG Paris, France',\n",
       "    'global_code': '8FW4V82W+PG'},\n",
       "   'rating': 4.5,\n",
       "   'reference': 'ChIJ2a4f2-Bx5kcR40Wl3uv_53Y',\n",
       "   'scope': 'GOOGLE',\n",
       "   'types': ['lodging', 'point_of_interest', 'establishment'],\n",
       "   'user_ratings_total': 156,\n",
       "   'vicinity': 'Rue Saint-Jacques, Paris'},\n",
       "  {'business_status': 'OPERATIONAL',\n",
       "   'geometry': {'location': {'lat': 48.8600866, 'lng': 2.3533543},\n",
       "    'viewport': {'northeast': {'lat': 48.86148808029149,\n",
       "      'lng': 2.354740780291502},\n",
       "     'southwest': {'lat': 48.85879011970849, 'lng': 2.352042819708498}}},\n",
       "   'icon': 'https://maps.gstatic.com/mapfiles/place_api/icons/v1/png_71/lodging-71.png',\n",
       "   'icon_background_color': '#909CE1',\n",
       "   'icon_mask_base_uri': 'https://maps.gstatic.com/mapfiles/place_api/icons/v2/hotel_pinlet',\n",
       "   'name': 'Hôtel Beaubourg',\n",
       "   'opening_hours': {'open_now': True},\n",
       "   'photos': [{'height': 3435,\n",
       "     'html_attributions': ['<a href=\"https://maps.google.com/maps/contrib/115421447635584539926\">Hôtel Beaubourg</a>'],\n",
       "     'photo_reference': 'Aap_uECub1-BA2Hw0HxHXagr_n1lVDFSm0gyDzpiF_8cUgjNX74KsmuwnL8Sx9z7bkuBkZG6Cnv020eUKlbvGsqodiqT09oA7k9JCjXo2WXD0X6RhGXS0DHS2PLPqIx6AAPBB1XADIL0M5T5bXL_ucUZt-7rdvsjIuDTiQw57UFHK6YwX-3L',\n",
       "     'width': 5153}],\n",
       "   'place_id': 'ChIJCdHKjhxu5kcR0YtyGr7Vftc',\n",
       "   'plus_code': {'compound_code': 'V963+28 Paris, France',\n",
       "    'global_code': '8FW4V963+28'},\n",
       "   'rating': 4.2,\n",
       "   'reference': 'ChIJCdHKjhxu5kcR0YtyGr7Vftc',\n",
       "   'scope': 'GOOGLE',\n",
       "   'types': ['lodging', 'point_of_interest', 'establishment'],\n",
       "   'user_ratings_total': 153,\n",
       "   'vicinity': '11 Rue Simon le Franc, Paris'},\n",
       "  {'business_status': 'OPERATIONAL',\n",
       "   'geometry': {'location': {'lat': 48.859876, 'lng': 2.347049},\n",
       "    'viewport': {'northeast': {'lat': 48.8610872802915,\n",
       "      'lng': 2.348425880291502},\n",
       "     'southwest': {'lat': 48.8583893197085, 'lng': 2.345727919708498}}},\n",
       "   'icon': 'https://maps.gstatic.com/mapfiles/place_api/icons/v1/png_71/lodging-71.png',\n",
       "   'icon_background_color': '#909CE1',\n",
       "   'icon_mask_base_uri': 'https://maps.gstatic.com/mapfiles/place_api/icons/v2/hotel_pinlet',\n",
       "   'name': \"Hôtel Des Ducs D'Anjou\",\n",
       "   'opening_hours': {'open_now': True},\n",
       "   'photos': [{'height': 1400,\n",
       "     'html_attributions': ['<a href=\"https://maps.google.com/maps/contrib/115209143941459061727\">Hotel Des Ducs D&#39;Anjou</a>'],\n",
       "     'photo_reference': 'Aap_uEAW-4hkuc8N8NIfi0vOrr543WN3yw4ThcqShts72TgOg8uVLFzKyE_B25LVt_c7dt-hA19ReYF1DdVm5MtG7swyy0QCCUye2S15XmkwSo7cK9YUjkV5MGdMJ6eznBrsKjhVRa9aa4X79v_gQFY1VvKJCTIr2eIpa_ed_DgHH_EHoPcF',\n",
       "     'width': 1352}],\n",
       "   'place_id': 'ChIJ9ekWGR9u5kcRsS8j5TnWeSE',\n",
       "   'plus_code': {'compound_code': 'V85W+XR Paris, France',\n",
       "    'global_code': '8FW4V85W+XR'},\n",
       "   'rating': 3.9,\n",
       "   'reference': 'ChIJ9ekWGR9u5kcRsS8j5TnWeSE',\n",
       "   'scope': 'GOOGLE',\n",
       "   'types': ['lodging', 'point_of_interest', 'establishment'],\n",
       "   'user_ratings_total': 323,\n",
       "   'vicinity': '1 Rue Sainte-Opportune, Paris'},\n",
       "  {'business_status': 'OPERATIONAL',\n",
       "   'geometry': {'location': {'lat': 48.8515237, 'lng': 2.3486679},\n",
       "    'viewport': {'northeast': {'lat': 48.8529256302915,\n",
       "      'lng': 2.349962130291502},\n",
       "     'southwest': {'lat': 48.8502276697085, 'lng': 2.347264169708498}}},\n",
       "   'icon': 'https://maps.gstatic.com/mapfiles/place_api/icons/v1/png_71/lodging-71.png',\n",
       "   'icon_background_color': '#909CE1',\n",
       "   'icon_mask_base_uri': 'https://maps.gstatic.com/mapfiles/place_api/icons/v2/hotel_pinlet',\n",
       "   'name': 'Hotel Maison Colbert Member of Meliá Collection',\n",
       "   'opening_hours': {'open_now': True},\n",
       "   'photos': [{'height': 3656,\n",
       "     'html_attributions': ['<a href=\"https://maps.google.com/maps/contrib/102194778927204133336\">Hotel Maison Colbert Member of Meliá Collection</a>'],\n",
       "     'photo_reference': 'Aap_uEDxVhoFVqY8efHlT28U5KT7AdGLMV65bGjNLCuWQ9jMnsg9HFlt-AbEMaxGu_qKTdpNwMEctK8XacArYjPAHIEOwbtGJ0XVentRwYuifM_bHNockkfW1PSw2w5rSJpidWNgOzci8V_eKF46Kyr0rcmFaIPyw8Cjm4bfcuD6nh5zMX6q',\n",
       "     'width': 3543}],\n",
       "   'place_id': 'ChIJI3vbSOFx5kcR84E4IeL2LqI',\n",
       "   'plus_code': {'compound_code': 'V82X+JF Paris, France',\n",
       "    'global_code': '8FW4V82X+JF'},\n",
       "   'rating': 4.4,\n",
       "   'reference': 'ChIJI3vbSOFx5kcR84E4IeL2LqI',\n",
       "   'scope': 'GOOGLE',\n",
       "   'types': ['lodging', 'point_of_interest', 'establishment'],\n",
       "   'user_ratings_total': 235,\n",
       "   'vicinity': \"7 Rue de l'Hôtel Colbert, Paris\"},\n",
       "  {'business_status': 'OPERATIONAL',\n",
       "   'geometry': {'location': {'lat': 48.8499446, 'lng': 2.346247699999999},\n",
       "    'viewport': {'northeast': {'lat': 48.8513264802915,\n",
       "      'lng': 2.347622530291501},\n",
       "     'southwest': {'lat': 48.8486285197085, 'lng': 2.344924569708497}}},\n",
       "   'icon': 'https://maps.gstatic.com/mapfiles/place_api/icons/v1/png_71/lodging-71.png',\n",
       "   'icon_background_color': '#909CE1',\n",
       "   'icon_mask_base_uri': 'https://maps.gstatic.com/mapfiles/place_api/icons/v2/hotel_pinlet',\n",
       "   'name': 'Home Latin',\n",
       "   'photos': [{'height': 606,\n",
       "     'html_attributions': ['<a href=\"https://maps.google.com/maps/contrib/105830788751825835396\">Peter Sheehan</a>'],\n",
       "     'photo_reference': 'Aap_uEAxoCdkuXHg7DXOkS4XwZsgf5Iianybvg5Hh1_Kjfg79rPiu7HEkeB2YrF9dB-luDwrNX9yQkZY4zLxpC9KFjsId6UE_gBbowVGQ0LdACcYj0E4uYhvVdwHhExBWeDe-e3Wzlqn2kXo2q85oND5F0wqTPnmCkz2GaXIWSS9bhSdWe2_',\n",
       "     'width': 1080}],\n",
       "   'place_id': 'ChIJMWNDIudx5kcRupjNdNDYKkw',\n",
       "   'plus_code': {'compound_code': 'R8XW+XF Paris, France',\n",
       "    'global_code': '8FW4R8XW+XF'},\n",
       "   'rating': 3.5,\n",
       "   'reference': 'ChIJMWNDIudx5kcRupjNdNDYKkw',\n",
       "   'scope': 'GOOGLE',\n",
       "   'types': ['lodging', 'point_of_interest', 'establishment'],\n",
       "   'user_ratings_total': 334,\n",
       "   'vicinity': '15-17 Rue du Sommerard, Paris'},\n",
       "  {'business_status': 'OPERATIONAL',\n",
       "   'geometry': {'location': {'lat': 48.8514465, 'lng': 2.3495407},\n",
       "    'viewport': {'northeast': {'lat': 48.85276158029151,\n",
       "      'lng': 2.350874680291501},\n",
       "     'southwest': {'lat': 48.85006361970851, 'lng': 2.348176719708498}}},\n",
       "   'icon': 'https://maps.gstatic.com/mapfiles/place_api/icons/v1/png_71/lodging-71.png',\n",
       "   'icon_background_color': '#909CE1',\n",
       "   'icon_mask_base_uri': 'https://maps.gstatic.com/mapfiles/place_api/icons/v2/hotel_pinlet',\n",
       "   'name': 'Les Degrés de Notre Dame',\n",
       "   'photos': [{'height': 1984,\n",
       "     'html_attributions': ['<a href=\"https://maps.google.com/maps/contrib/115564994803632359392\">christophe etter</a>'],\n",
       "     'photo_reference': 'Aap_uECDDeLsLXJs4q9qf5IW7QJ8g9s-xuNwZzzUDpzcepJ3uqo4i3UW3rxnRbE0FQD-UJ1FX0JEJuBmzRcChDLkzODP2gd7KRgW_8ysSYNZFOKk_tf31LMimAuaJ5aXdhoPfkEODHmqGuoHLExvwFIpOZDHUT1Nj4YzEqduLPQ8YSdg4555',\n",
       "     'width': 3968}],\n",
       "   'place_id': 'ChIJMyUCVOFx5kcRcLsa7V0Y1m4',\n",
       "   'plus_code': {'compound_code': 'V82X+HR Paris, France',\n",
       "    'global_code': '8FW4V82X+HR'},\n",
       "   'rating': 3.8,\n",
       "   'reference': 'ChIJMyUCVOFx5kcRcLsa7V0Y1m4',\n",
       "   'scope': 'GOOGLE',\n",
       "   'types': ['lodging', 'point_of_interest', 'establishment'],\n",
       "   'user_ratings_total': 78,\n",
       "   'vicinity': '10 Rue des Grands Degrés, Paris'},\n",
       "  {'business_status': 'OPERATIONAL',\n",
       "   'geometry': {'location': {'lat': 48.85221300000001, 'lng': 2.3420703},\n",
       "    'viewport': {'northeast': {'lat': 48.8535826302915,\n",
       "      'lng': 2.343484980291502},\n",
       "     'southwest': {'lat': 48.8508846697085, 'lng': 2.340787019708498}}},\n",
       "   'icon': 'https://maps.gstatic.com/mapfiles/place_api/icons/v1/png_71/lodging-71.png',\n",
       "   'icon_background_color': '#909CE1',\n",
       "   'icon_mask_base_uri': 'https://maps.gstatic.com/mapfiles/place_api/icons/v2/hotel_pinlet',\n",
       "   'name': 'Hôtel Du Lys',\n",
       "   'photos': [{'height': 4032,\n",
       "     'html_attributions': ['<a href=\"https://maps.google.com/maps/contrib/107472282758971290035\">Juan pitarch roca</a>'],\n",
       "     'photo_reference': 'Aap_uECDgko-_AtUac7VXLN--R25tbLSDfbn3WOwmt5dbfSnbiKrSPw29lmNSfWDz4kn0zfwQLR_DzeVITniKXx0GdnvzmKq4VLXvPmdoeBo5NmCji94MLCWPfbPrd_7UUJ2swPnWinFofnh9smIKG8g1iiyCkt-6AUBQ0kthhJIAf_CQ69T',\n",
       "     'width': 3024}],\n",
       "   'place_id': 'ChIJrcnEaN5x5kcRjjOnEG6_HHs',\n",
       "   'plus_code': {'compound_code': 'V82R+VR Paris, France',\n",
       "    'global_code': '8FW4V82R+VR'},\n",
       "   'rating': 3.8,\n",
       "   'reference': 'ChIJrcnEaN5x5kcRjjOnEG6_HHs',\n",
       "   'scope': 'GOOGLE',\n",
       "   'types': ['lodging', 'point_of_interest', 'establishment'],\n",
       "   'user_ratings_total': 234,\n",
       "   'vicinity': '23 Rue Serpente, Paris'},\n",
       "  {'business_status': 'OPERATIONAL',\n",
       "   'geometry': {'location': {'lat': 48.8607212, 'lng': 2.342585},\n",
       "    'viewport': {'northeast': {'lat': 48.8620849802915,\n",
       "      'lng': 2.343869380291502},\n",
       "     'southwest': {'lat': 48.8593870197085, 'lng': 2.341171419708498}}},\n",
       "   'icon': 'https://maps.gstatic.com/mapfiles/place_api/icons/v1/png_71/lodging-71.png',\n",
       "   'icon_background_color': '#909CE1',\n",
       "   'icon_mask_base_uri': 'https://maps.gstatic.com/mapfiles/place_api/icons/v2/hotel_pinlet',\n",
       "   'name': \"L'Empire Paris\",\n",
       "   'opening_hours': {'open_now': True},\n",
       "   'photos': [{'height': 1123,\n",
       "     'html_attributions': ['<a href=\"https://maps.google.com/maps/contrib/112201701198428774080\">L&#39;Empire Paris</a>'],\n",
       "     'photo_reference': 'Aap_uEA8G_iVifKP-us6ZK4rEUIpB6JkU04LoJVm1wAsnDhjE-rWnUlr1GSqdjudDslOQTE9mAaNwIVmbbsNB6wJpjXZSSo9K24nI-oWsS_HSi3tcm4SuTQMdUcmq0EoWWCSnrkYZWQ57-p5iQ6lh0Ngzc2MnyNAsAFRxkDtscmjKOvjFVWn',\n",
       "     'width': 2000}],\n",
       "   'place_id': 'ChIJ0Wj4hCFu5kcRQ67Hb2M6b9Q',\n",
       "   'plus_code': {'compound_code': 'V86V+72 Paris, France',\n",
       "    'global_code': '8FW4V86V+72'},\n",
       "   'rating': 4.2,\n",
       "   'reference': 'ChIJ0Wj4hCFu5kcRQ67Hb2M6b9Q',\n",
       "   'scope': 'GOOGLE',\n",
       "   'types': ['lodging', 'point_of_interest', 'establishment'],\n",
       "   'user_ratings_total': 464,\n",
       "   'vicinity': \"48 Rue de l'Arbre Sec, Paris\"},\n",
       "  {'business_status': 'OPERATIONAL',\n",
       "   'geometry': {'location': {'lat': 48.85924579999999,\n",
       "     'lng': 2.341004799999999},\n",
       "    'viewport': {'northeast': {'lat': 48.8606175802915,\n",
       "      'lng': 2.342363980291502},\n",
       "     'southwest': {'lat': 48.8579196197085, 'lng': 2.339666019708498}}},\n",
       "   'icon': 'https://maps.gstatic.com/mapfiles/place_api/icons/v1/png_71/lodging-71.png',\n",
       "   'icon_background_color': '#909CE1',\n",
       "   'icon_mask_base_uri': 'https://maps.gstatic.com/mapfiles/place_api/icons/v2/hotel_pinlet',\n",
       "   'name': 'Hotel Relais Du Louvre',\n",
       "   'photos': [{'height': 3024,\n",
       "     'html_attributions': ['<a href=\"https://maps.google.com/maps/contrib/113229819060416823993\">Constance Fodé</a>'],\n",
       "     'photo_reference': 'Aap_uECPxwqNpkuJRd-LgZZSV7cgEUpAovOfRtux-89ukKW3v03fJ8A1-ULgOm4zNZH_dA8krJZZ2v3PIKEgcmbs-0zWbyxF2l8EoOR0g0LxGxAhdxct_2eWbSXfi8QvmRqIevFi8oUi-3LGiZ37lfbvH_WAEFty2WelnkKz7JoE5SbONXZF',\n",
       "     'width': 4032}],\n",
       "   'place_id': 'ChIJb4ExGiFu5kcRx-LufqT5JSw',\n",
       "   'plus_code': {'compound_code': 'V85R+MC Paris, France',\n",
       "    'global_code': '8FW4V85R+MC'},\n",
       "   'rating': 4.6,\n",
       "   'reference': 'ChIJb4ExGiFu5kcRx-LufqT5JSw',\n",
       "   'scope': 'GOOGLE',\n",
       "   'types': ['lodging', 'point_of_interest', 'establishment'],\n",
       "   'user_ratings_total': 139,\n",
       "   'vicinity': \"19 Rue des Prêtres Saint-Germain l'Auxerrois, Paris\"},\n",
       "  {'business_status': 'OPERATIONAL',\n",
       "   'geometry': {'location': {'lat': 48.8632711, 'lng': 2.352693},\n",
       "    'viewport': {'northeast': {'lat': 48.86461498029149,\n",
       "      'lng': 2.353958580291502},\n",
       "     'southwest': {'lat': 48.8619170197085, 'lng': 2.351260619708498}}},\n",
       "   'icon': 'https://maps.gstatic.com/mapfiles/place_api/icons/v1/png_71/lodging-71.png',\n",
       "   'icon_background_color': '#909CE1',\n",
       "   'icon_mask_base_uri': 'https://maps.gstatic.com/mapfiles/place_api/icons/v2/hotel_pinlet',\n",
       "   'name': 'Hôtel Georgette',\n",
       "   'opening_hours': {'open_now': True},\n",
       "   'photos': [{'height': 1181,\n",
       "     'html_attributions': ['<a href=\"https://maps.google.com/maps/contrib/112851757923591367842\">Hotel Georgette</a>'],\n",
       "     'photo_reference': 'Aap_uEAhUy4UbKOqibg0FhALYdeX5hR_7qqPjy79QIf6vOZUXvNnOH8YZ5gMbGdl8RpWaqu7VVmXSUdjWmBdnFcTSPfZdGi93RY-jg-eh3E8RqaSw_AWDxIOwkgI1mlFV8mwONsSlAGcIugod8-ARA_QzdkW06tq5wy2b9yMfaQ6v3RCumIk',\n",
       "     'width': 1772}],\n",
       "   'place_id': 'ChIJZ6OWsRtu5kcRuyOkJ6_e06E',\n",
       "   'plus_code': {'compound_code': 'V973+83 Paris, France',\n",
       "    'global_code': '8FW4V973+83'},\n",
       "   'rating': 4.5,\n",
       "   'reference': 'ChIJZ6OWsRtu5kcRuyOkJ6_e06E',\n",
       "   'scope': 'GOOGLE',\n",
       "   'types': ['lodging', 'point_of_interest', 'establishment'],\n",
       "   'user_ratings_total': 207,\n",
       "   'vicinity': '36 Rue du Grenier-Saint-Lazare, Paris'}],\n",
       " 'status': 'OK'}"
      ]
     },
     "execution_count": 40,
     "metadata": {},
     "output_type": "execute_result"
    }
   ],
   "source": [
    "# Set the parameters to search for a hotel in Paris.\n",
    "params = {\n",
    "    \"radius\": 5000,\n",
    "    \"types\": \"lodging\",\n",
    "    \"key\": g_key,\n",
    "    \"location\": \"48.8566, 2.3522\"}\n",
    "# Use base URL to search for hotels in Paris.\n",
    "base_url = \"https://maps.googleapis.com/maps/api/place/nearbysearch/json\"\n",
    "# Make request and get the JSON data from the search.\n",
    "hotels = requests.get(base_url, params=params).json()\n",
    "\n",
    "hotels"
   ]
  },
  {
   "cell_type": "code",
   "execution_count": 41,
   "id": "016afb39",
   "metadata": {},
   "outputs": [
    {
     "data": {
      "text/plain": [
       "20"
      ]
     },
     "execution_count": 41,
     "metadata": {},
     "output_type": "execute_result"
    }
   ],
   "source": [
    "# Number of hotels on first page\n",
    "len(hotels[\"results\"])"
   ]
  },
  {
   "cell_type": "code",
   "execution_count": 42,
   "id": "97f8d010",
   "metadata": {},
   "outputs": [
    {
     "data": {
      "text/plain": [
       "'Hôtel Duo'"
      ]
     },
     "execution_count": 42,
     "metadata": {},
     "output_type": "execute_result"
    }
   ],
   "source": [
    "# Retrieve name of the first hotel on list\n",
    "hotels[\"results\"][0][\"name\"]"
   ]
  },
  {
   "cell_type": "code",
   "execution_count": null,
   "id": "a60364df",
   "metadata": {},
   "outputs": [],
   "source": []
  },
  {
   "cell_type": "code",
   "execution_count": 43,
   "id": "8b6840db",
   "metadata": {},
   "outputs": [
    {
     "name": "stdout",
     "output_type": "stream",
     "text": [
      "Hotel not found...skipping.\n",
      "Hotel not found...skipping.\n",
      "Hotel not found...skipping.\n",
      "Hotel not found...skipping.\n",
      "Hotel not found...skipping.\n",
      "Hotel not found...skipping.\n",
      "Hotel not found...skipping.\n",
      "Hotel not found...skipping.\n",
      "Hotel not found...skipping.\n",
      "Hotel not found...skipping.\n",
      "Hotel not found...skipping.\n",
      "Hotel not found...skipping.\n"
     ]
    }
   ],
   "source": [
    "# Iterate through the DataFrame.\n",
    "for index, row in hotel_df.iterrows():\n",
    "    # Get the latitude and longitude.\n",
    "    lat = row[\"Lat\"]\n",
    "    lng = row[\"Lng\"]\n",
    "\n",
    "    # Add the latitude and longitude to location key for the params dictionary.\n",
    "    params[\"location\"] = f\"{lat},{lng}\"\n",
    "\n",
    "    # Use the search term: \"lodging\" and our latitude and longitude.\n",
    "    base_url = \"https://maps.googleapis.com/maps/api/place/nearbysearch/json\"\n",
    "    # Make request and get the JSON data from the search.\n",
    "    hotels = requests.get(base_url, params=params).json()\n",
    "    # Grab the first hotel from the results and store the name.\n",
    "    try:\n",
    "        hotel_df.loc[index, \"Hotel Name\"] = hotels[\"results\"][0][\"name\"]\n",
    "    except (IndexError):\n",
    "        print(\"Hotel not found...skipping.\")"
   ]
  },
  {
   "cell_type": "code",
   "execution_count": 45,
   "id": "5438cf4a",
   "metadata": {},
   "outputs": [
    {
     "data": {
      "text/html": [
       "<div>\n",
       "<style scoped>\n",
       "    .dataframe tbody tr th:only-of-type {\n",
       "        vertical-align: middle;\n",
       "    }\n",
       "\n",
       "    .dataframe tbody tr th {\n",
       "        vertical-align: top;\n",
       "    }\n",
       "\n",
       "    .dataframe thead th {\n",
       "        text-align: right;\n",
       "    }\n",
       "</style>\n",
       "<table border=\"1\" class=\"dataframe\">\n",
       "  <thead>\n",
       "    <tr style=\"text-align: right;\">\n",
       "      <th></th>\n",
       "      <th>City</th>\n",
       "      <th>Country</th>\n",
       "      <th>Max Temp</th>\n",
       "      <th>Lat</th>\n",
       "      <th>Lng</th>\n",
       "      <th>Hotel Name</th>\n",
       "    </tr>\n",
       "  </thead>\n",
       "  <tbody>\n",
       "    <tr>\n",
       "      <th>0</th>\n",
       "      <td>Turayf</td>\n",
       "      <td>SA</td>\n",
       "      <td>77.85</td>\n",
       "      <td>31.6725</td>\n",
       "      <td>38.6637</td>\n",
       "      <td>Turaif</td>\n",
       "    </tr>\n",
       "    <tr>\n",
       "      <th>4</th>\n",
       "      <td>Berberati</td>\n",
       "      <td>CF</td>\n",
       "      <td>79.16</td>\n",
       "      <td>4.2612</td>\n",
       "      <td>15.7922</td>\n",
       "      <td>MAIRIE DE BERBERATI</td>\n",
       "    </tr>\n",
       "    <tr>\n",
       "      <th>6</th>\n",
       "      <td>Butaritari</td>\n",
       "      <td>KI</td>\n",
       "      <td>81.27</td>\n",
       "      <td>3.0707</td>\n",
       "      <td>172.7902</td>\n",
       "      <td>Isles Sunset Lodge</td>\n",
       "    </tr>\n",
       "    <tr>\n",
       "      <th>7</th>\n",
       "      <td>Puerto Ayora</td>\n",
       "      <td>EC</td>\n",
       "      <td>78.76</td>\n",
       "      <td>-0.7393</td>\n",
       "      <td>-90.3518</td>\n",
       "      <td>Finch Bay Galapagos Hotel</td>\n",
       "    </tr>\n",
       "    <tr>\n",
       "      <th>9</th>\n",
       "      <td>Rikitea</td>\n",
       "      <td>PF</td>\n",
       "      <td>75.58</td>\n",
       "      <td>-23.1203</td>\n",
       "      <td>-134.9692</td>\n",
       "      <td>People ThankYou</td>\n",
       "    </tr>\n",
       "    <tr>\n",
       "      <th>11</th>\n",
       "      <td>Burewala</td>\n",
       "      <td>PK</td>\n",
       "      <td>78.57</td>\n",
       "      <td>30.1667</td>\n",
       "      <td>72.6500</td>\n",
       "      <td>Sweet Home</td>\n",
       "    </tr>\n",
       "    <tr>\n",
       "      <th>14</th>\n",
       "      <td>Beneditinos</td>\n",
       "      <td>BR</td>\n",
       "      <td>85.59</td>\n",
       "      <td>-5.4500</td>\n",
       "      <td>-42.3667</td>\n",
       "      <td>Pousada, Pesque-Pague e Churrascaria Cabo Miguel</td>\n",
       "    </tr>\n",
       "    <tr>\n",
       "      <th>20</th>\n",
       "      <td>Hithadhoo</td>\n",
       "      <td>MV</td>\n",
       "      <td>84.13</td>\n",
       "      <td>-0.6000</td>\n",
       "      <td>73.0833</td>\n",
       "      <td>Scoop Guest House</td>\n",
       "    </tr>\n",
       "    <tr>\n",
       "      <th>21</th>\n",
       "      <td>Chabahar</td>\n",
       "      <td>IR</td>\n",
       "      <td>85.66</td>\n",
       "      <td>25.2919</td>\n",
       "      <td>60.6430</td>\n",
       "      <td>هتل گدروشیا</td>\n",
       "    </tr>\n",
       "    <tr>\n",
       "      <th>28</th>\n",
       "      <td>Vaini</td>\n",
       "      <td>TO</td>\n",
       "      <td>77.16</td>\n",
       "      <td>-21.2000</td>\n",
       "      <td>-175.2000</td>\n",
       "      <td>Keleti Beach Resort</td>\n",
       "    </tr>\n",
       "  </tbody>\n",
       "</table>\n",
       "</div>"
      ],
      "text/plain": [
       "            City Country  Max Temp      Lat       Lng  \\\n",
       "0         Turayf      SA     77.85  31.6725   38.6637   \n",
       "4      Berberati      CF     79.16   4.2612   15.7922   \n",
       "6     Butaritari      KI     81.27   3.0707  172.7902   \n",
       "7   Puerto Ayora      EC     78.76  -0.7393  -90.3518   \n",
       "9        Rikitea      PF     75.58 -23.1203 -134.9692   \n",
       "11      Burewala      PK     78.57  30.1667   72.6500   \n",
       "14   Beneditinos      BR     85.59  -5.4500  -42.3667   \n",
       "20     Hithadhoo      MV     84.13  -0.6000   73.0833   \n",
       "21      Chabahar      IR     85.66  25.2919   60.6430   \n",
       "28         Vaini      TO     77.16 -21.2000 -175.2000   \n",
       "\n",
       "                                          Hotel Name  \n",
       "0                                             Turaif  \n",
       "4                                MAIRIE DE BERBERATI  \n",
       "6                                 Isles Sunset Lodge  \n",
       "7                          Finch Bay Galapagos Hotel  \n",
       "9                                    People ThankYou  \n",
       "11                                        Sweet Home  \n",
       "14  Pousada, Pesque-Pague e Churrascaria Cabo Miguel  \n",
       "20                                 Scoop Guest House  \n",
       "21                                       هتل گدروشیا  \n",
       "28                               Keleti Beach Resort  "
      ]
     },
     "execution_count": 45,
     "metadata": {},
     "output_type": "execute_result"
    }
   ],
   "source": [
    "hotel_df.head(10)"
   ]
  },
  {
   "cell_type": "code",
   "execution_count": 46,
   "id": "b8319b23",
   "metadata": {},
   "outputs": [],
   "source": [
    "# Create a Max Temp HeatMap from Hotel df"
   ]
  },
  {
   "cell_type": "code",
   "execution_count": 47,
   "id": "fac7922f",
   "metadata": {},
   "outputs": [
    {
     "data": {
      "application/vnd.jupyter.widget-view+json": {
       "model_id": "f1d475e6d5b34d5b8f5cd4aa56403464",
       "version_major": 2,
       "version_minor": 0
      },
      "text/plain": [
       "Figure(layout=FigureLayout(height='420px'))"
      ]
     },
     "metadata": {},
     "output_type": "display_data"
    }
   ],
   "source": [
    "# Add a heatmap of temperature for the vacation spots.\n",
    "locations = hotel_df[[\"Lat\", \"Lng\"]]\n",
    "max_temp = hotel_df[\"Max Temp\"]\n",
    "fig = gmaps.figure(center=(30.0, 31.0), zoom_level=1.5)\n",
    "heat_layer = gmaps.heatmap_layer(locations, weights=max_temp, dissipating=False,\n",
    "             max_intensity=300, point_radius=4)\n",
    "\n",
    "fig.add_layer(heat_layer)\n",
    "\n",
    "# Call the figure to plot the data.\n",
    "fig"
   ]
  },
  {
   "cell_type": "code",
   "execution_count": 48,
   "id": "533e53c9",
   "metadata": {},
   "outputs": [
    {
     "data": {
      "application/vnd.jupyter.widget-view+json": {
       "model_id": "c78e4a8453724aedad5fb4026aa27062",
       "version_major": 2,
       "version_minor": 0
      },
      "text/plain": [
       "Figure(layout=FigureLayout(height='420px'))"
      ]
     },
     "metadata": {},
     "output_type": "display_data"
    }
   ],
   "source": [
    "# Add a heatmap of temperature for the vacation spots and MARKER FOR EACH CITY.\n",
    "locations = hotel_df[[\"Lat\", \"Lng\"]]\n",
    "max_temp = hotel_df[\"Max Temp\"]\n",
    "fig = gmaps.figure(center=(30.0, 31.0), zoom_level=1.5)\n",
    "heat_layer = gmaps.heatmap_layer(locations, weights=max_temp,\n",
    "             dissipating=False, max_intensity=300, point_radius=4)\n",
    "marker_layer = gmaps.marker_layer(locations)\n",
    "fig.add_layer(heat_layer)\n",
    "fig.add_layer(marker_layer)\n",
    "\n",
    "# Call the figure to plot the data.\n",
    "fig"
   ]
  },
  {
   "cell_type": "code",
   "execution_count": 49,
   "id": "6b06b58c",
   "metadata": {},
   "outputs": [],
   "source": [
    "info_box_template = \"\"\"\n",
    "<dl>\n",
    "<dt>Hotel Name</dt><dd>{Hotel Name}</dd>\n",
    "<dt>City</dt><dd>{City}</dd>\n",
    "<dt>Country</dt><dd>{Country}</dd>\n",
    "<dt>Max Temp</dt><dd>{Max Temp} °F</dd>\n",
    "</dl>\n",
    "\"\"\"\n",
    "\n",
    "# Store the DataFrame Row.\n",
    "hotel_info = [info_box_template.format(**row) for index, row in hotel_df.iterrows()]"
   ]
  },
  {
   "cell_type": "code",
   "execution_count": 50,
   "id": "02be2996",
   "metadata": {},
   "outputs": [
    {
     "data": {
      "application/vnd.jupyter.widget-view+json": {
       "model_id": "a865f1db4df94d0fbe6a75efc5a8946d",
       "version_major": 2,
       "version_minor": 0
      },
      "text/plain": [
       "Figure(layout=FigureLayout(height='420px'))"
      ]
     },
     "metadata": {},
     "output_type": "display_data"
    }
   ],
   "source": [
    "# Add a heatmap of temperature for the vacation spots and a pop-up marker for each city.\n",
    "locations = hotel_df[[\"Lat\", \"Lng\"]]\n",
    "max_temp = hotel_df[\"Max Temp\"]\n",
    "fig = gmaps.figure(center=(30.0, 31.0), zoom_level=1.5)\n",
    "heat_layer = gmaps.heatmap_layer(locations, weights=max_temp,dissipating=False,\n",
    "             max_intensity=300, point_radius=4)\n",
    "marker_layer = gmaps.marker_layer(locations, info_box_content=hotel_info)\n",
    "fig.add_layer(heat_layer)\n",
    "fig.add_layer(marker_layer)\n",
    "\n",
    "# Call the figure to plot the data.\n",
    "fig"
   ]
  }
 ],
 "metadata": {
  "kernelspec": {
   "display_name": "PythonData",
   "language": "python",
   "name": "pythondata"
  },
  "language_info": {
   "codemirror_mode": {
    "name": "ipython",
    "version": 3
   },
   "file_extension": ".py",
   "mimetype": "text/x-python",
   "name": "python",
   "nbconvert_exporter": "python",
   "pygments_lexer": "ipython3",
   "version": "3.7.11"
  }
 },
 "nbformat": 4,
 "nbformat_minor": 5
}
