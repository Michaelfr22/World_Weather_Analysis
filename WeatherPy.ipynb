{
 "cells": [
  {
   "cell_type": "code",
   "execution_count": 1,
   "id": "afe14f03",
   "metadata": {},
   "outputs": [],
   "source": [
    "import random"
   ]
  },
  {
   "cell_type": "code",
   "execution_count": 2,
   "id": "a5551ac8",
   "metadata": {},
   "outputs": [
    {
     "data": {
      "text/plain": [
       "0.5579594117881912"
      ]
     },
     "execution_count": 2,
     "metadata": {},
     "output_type": "execute_result"
    }
   ],
   "source": [
    "# random decimal between 0 and 1\n",
    "random.random()"
   ]
  },
  {
   "cell_type": "code",
   "execution_count": 3,
   "id": "5bb5614b",
   "metadata": {},
   "outputs": [
    {
     "data": {
      "text/plain": [
       "-35"
      ]
     },
     "execution_count": 3,
     "metadata": {},
     "output_type": "execute_result"
    }
   ],
   "source": [
    "# random whole number divisible by step-increment within range\n",
    "random.randrange(-90,90,step=5)"
   ]
  },
  {
   "cell_type": "code",
   "execution_count": 4,
   "id": "15c22f46",
   "metadata": {},
   "outputs": [
    {
     "data": {
      "text/plain": [
       "64"
      ]
     },
     "execution_count": 4,
     "metadata": {},
     "output_type": "execute_result"
    }
   ],
   "source": [
    "# random whole number within range\n",
    "random.randint(-90,90)"
   ]
  },
  {
   "cell_type": "code",
   "execution_count": 5,
   "id": "045b842a",
   "metadata": {},
   "outputs": [
    {
     "data": {
      "text/plain": [
       "68.74081983264179"
      ]
     },
     "execution_count": 5,
     "metadata": {},
     "output_type": "execute_result"
    }
   ],
   "source": [
    "# random decimal within range\n",
    "random.uniform(-90,90)"
   ]
  },
  {
   "cell_type": "code",
   "execution_count": 6,
   "id": "62f0d855",
   "metadata": {},
   "outputs": [
    {
     "data": {
      "text/plain": [
       "[-41.77343127280975,\n",
       " -76.78195793881522,\n",
       " 79.31450157457951,\n",
       " -11.157136888363103,\n",
       " -38.18736693301277,\n",
       " 26.634770106586984,\n",
       " -48.77671913255877,\n",
       " -23.33311120098426,\n",
       " 81.01641350916542,\n",
       " -41.471035542014704]"
      ]
     },
     "execution_count": 6,
     "metadata": {},
     "output_type": "execute_result"
    }
   ],
   "source": [
    "# creates a list of 10 random latitude points between -90 and 89\n",
    "\n",
    "x = 1\n",
    "latitudes = []\n",
    "while x < 11:\n",
    "    random_lat = random.randint(-90, 89) + random.random()\n",
    "    latitudes.append(random_lat)\n",
    "    x += 1\n",
    "    \n",
    "latitudes"
   ]
  },
  {
   "cell_type": "code",
   "execution_count": 7,
   "id": "1362dd0f",
   "metadata": {},
   "outputs": [],
   "source": [
    "# Import the NumPy module.\n",
    "import numpy as np"
   ]
  },
  {
   "cell_type": "code",
   "execution_count": 8,
   "id": "6d7b2761",
   "metadata": {},
   "outputs": [
    {
     "data": {
      "text/plain": [
       "array([-76.13104739,  -8.9605106 , -37.09493765, -48.14167605,\n",
       "       -84.19536274, -33.62128709, -15.02282179,  50.12061612,\n",
       "       -49.32255351,  42.00686696,  41.78147304, -24.63843072,\n",
       "       -48.84182618,  20.90964008,   8.19451466, -55.931819  ,\n",
       "        66.9693612 , -82.6654373 ,  57.16469269,  -6.03835975,\n",
       "       -87.04762579,  12.70135193,  29.97168347,   2.89000894,\n",
       "       -35.91767866,  15.54038301,   5.07015265, -57.89706995,\n",
       "       -85.87757971, -85.34689809, -12.80743398, -19.54820252,\n",
       "        65.87435626, -47.66452957, -79.62427023,  83.96526188,\n",
       "       -53.62123912,   6.1674973 ,  71.73292506, -13.58318718,\n",
       "        64.55501369, -72.25233376,  -6.06498659,  -7.84792422,\n",
       "        43.81563231,  60.9681126 ,  13.56413904, -68.56539115,\n",
       "        71.90952633,   2.47104509])"
      ]
     },
     "execution_count": 8,
     "metadata": {},
     "output_type": "execute_result"
    }
   ],
   "source": [
    "# creates (size) array of random decimals within range\n",
    "np.random.uniform(-90,90, size=50)"
   ]
  },
  {
   "cell_type": "code",
   "execution_count": 9,
   "id": "a202320f",
   "metadata": {},
   "outputs": [],
   "source": [
    "# Import timeit.\n",
    "import timeit"
   ]
  },
  {
   "cell_type": "code",
   "execution_count": 10,
   "id": "332878b4",
   "metadata": {},
   "outputs": [
    {
     "name": "stdout",
     "output_type": "stream",
     "text": [
      "22.9 µs ± 1.52 µs per loop (mean ± std. dev. of 7 runs, 10000 loops each)\n"
     ]
    }
   ],
   "source": [
    "%timeit np.random.uniform(-90.000, 90.000, size=1500)"
   ]
  },
  {
   "cell_type": "code",
   "execution_count": 11,
   "id": "fcd5ef8d",
   "metadata": {},
   "outputs": [
    {
     "name": "stdout",
     "output_type": "stream",
     "text": [
      "3.25 ms ± 458 µs per loop (mean ± std. dev. of 7 runs, 100 loops each)\n"
     ]
    }
   ],
   "source": [
    "def latitudes(size):\n",
    "    latitudes = []\n",
    "    x = 0\n",
    "    while x < (size):\n",
    "        random_lat = random.randint(-90, 90) + random.random()\n",
    "        latitudes.append(random_lat)\n",
    "        x += 1\n",
    "    return latitudes\n",
    "\n",
    "# Call the function with 1500.\n",
    "%timeit latitudes(1500)"
   ]
  },
  {
   "cell_type": "markdown",
   "id": "9a55fdaa",
   "metadata": {},
   "source": [
    "# Create Lat and Long combinations"
   ]
  },
  {
   "cell_type": "code",
   "execution_count": 12,
   "id": "ab4ba457",
   "metadata": {},
   "outputs": [],
   "source": [
    "# Import the dependencies.\n",
    "import pandas as pd\n",
    "import matplotlib.pyplot as plt\n",
    "import numpy as np"
   ]
  },
  {
   "cell_type": "code",
   "execution_count": 13,
   "id": "dc924b97",
   "metadata": {},
   "outputs": [
    {
     "data": {
      "text/plain": [
       "<zip at 0x1c068e17488>"
      ]
     },
     "execution_count": 13,
     "metadata": {},
     "output_type": "execute_result"
    }
   ],
   "source": [
    "# Create a set of random latitude and longitude combinations.\n",
    "lats = np.random.uniform(low=-90.000, high=90.000, size=1500)\n",
    "lngs = np.random.uniform(low=-180.000, high=180.000, size=1500)\n",
    "lat_lngs = zip(lats, lngs)\n",
    "lat_lngs"
   ]
  },
  {
   "cell_type": "markdown",
   "id": "3e3e4204",
   "metadata": {},
   "source": [
    "# Practice"
   ]
  },
  {
   "cell_type": "code",
   "execution_count": 14,
   "id": "27e9854e",
   "metadata": {},
   "outputs": [],
   "source": [
    "# Create a practice set of random latitude and longitude combinations.\n",
    "lats = [25.12903645, 25.92017388, 26.62509167, -59.98969384, 37.30571269]\n",
    "lngs = [-67.59741259, 11.09532135, 74.84233102, -76.89176677, -61.13376282]\n",
    "lat_lngs = zip(lats, lngs)"
   ]
  },
  {
   "cell_type": "code",
   "execution_count": 15,
   "id": "26417903",
   "metadata": {},
   "outputs": [],
   "source": [
    "# Add the latitudes and longitudes to a list.\n",
    "coordinates = list(lat_lngs)"
   ]
  },
  {
   "cell_type": "code",
   "execution_count": 16,
   "id": "bc6ae860",
   "metadata": {},
   "outputs": [
    {
     "name": "stdout",
     "output_type": "stream",
     "text": [
      "25.12903645 -67.59741259\n",
      "25.92017388 11.09532135\n",
      "26.62509167 74.84233102\n",
      "-59.98969384 -76.89176677\n",
      "37.30571269 -61.13376282\n"
     ]
    }
   ],
   "source": [
    "# Use the print() function to display the latitude and longitude combinations.\n",
    "for coordinate in coordinates:\n",
    "    print(coordinate[0], coordinate[1])"
   ]
  },
  {
   "cell_type": "markdown",
   "id": "0ff5fda7",
   "metadata": {},
   "source": [
    "# API Practice"
   ]
  },
  {
   "cell_type": "code",
   "execution_count": 17,
   "id": "6655ce8f",
   "metadata": {},
   "outputs": [],
   "source": [
    "# Use the citipy module to determine city based on latitude and longitude.\n",
    "from citipy import citipy"
   ]
  },
  {
   "cell_type": "code",
   "execution_count": 18,
   "id": "f727067e",
   "metadata": {},
   "outputs": [
    {
     "name": "stdout",
     "output_type": "stream",
     "text": [
      "cockburn town tc\n",
      "gat ly\n",
      "parvatsar in\n",
      "punta arenas cl\n",
      "saint george bm\n"
     ]
    }
   ],
   "source": [
    "# Use the print() function to display the latitude and longitude combinations.\n",
    "for coordinate in coordinates:\n",
    "    print(citipy.nearest_city(coordinate[0], coordinate[1]).city_name,\n",
    "          citipy.nearest_city(coordinate[0], coordinate[1]).country_code)"
   ]
  },
  {
   "cell_type": "markdown",
   "id": "dc48d0b3",
   "metadata": {},
   "source": [
    "# Make an API Call"
   ]
  },
  {
   "cell_type": "code",
   "execution_count": 19,
   "id": "6f173b15",
   "metadata": {},
   "outputs": [],
   "source": [
    "# Import the requests library.\n",
    "import requests\n",
    "\n",
    "# Import the API key.\n",
    "from config import weather_api_key"
   ]
  },
  {
   "cell_type": "code",
   "execution_count": 20,
   "id": "5f189a10",
   "metadata": {},
   "outputs": [],
   "source": [
    "# Starting URL for Weather Map API Call.\n",
    "url = \"http://api.openweathermap.org/data/2.5/weather?units=Imperial&APPID=\" + weather_api_key"
   ]
  },
  {
   "cell_type": "code",
   "execution_count": 21,
   "id": "d2b269b8",
   "metadata": {},
   "outputs": [
    {
     "name": "stdout",
     "output_type": "stream",
     "text": [
      "http://api.openweathermap.org/data/2.5/weather?units=Imperial&APPID=84e1c688221197e1cbe08170c34b34ae&q=Austin\n"
     ]
    }
   ],
   "source": [
    "# Create an endpoint URL for a city.\n",
    "city_url = url + \"&q=\" + \"Austin\"\n",
    "print(city_url)"
   ]
  },
  {
   "cell_type": "code",
   "execution_count": 22,
   "id": "998b8fbf",
   "metadata": {},
   "outputs": [],
   "source": [
    "\n",
    "weather_response = requests.get(city_url)\n",
    "weather_json = weather_response.json()"
   ]
  },
  {
   "cell_type": "code",
   "execution_count": 23,
   "id": "048b4ffd",
   "metadata": {},
   "outputs": [
    {
     "data": {
      "text/plain": [
       "dict_keys(['coord', 'weather', 'base', 'main', 'visibility', 'wind', 'clouds', 'dt', 'sys', 'timezone', 'id', 'name', 'cod'])"
      ]
     },
     "execution_count": 23,
     "metadata": {},
     "output_type": "execute_result"
    }
   ],
   "source": [
    "weather_json.keys()"
   ]
  },
  {
   "cell_type": "code",
   "execution_count": 24,
   "id": "33e02702",
   "metadata": {},
   "outputs": [
    {
     "data": {
      "text/plain": [
       "{'temp': 64.87,\n",
       " 'feels_like': 64.58,\n",
       " 'temp_min': 63.18,\n",
       " 'temp_max': 66.87,\n",
       " 'pressure': 1021,\n",
       " 'humidity': 75}"
      ]
     },
     "execution_count": 24,
     "metadata": {},
     "output_type": "execute_result"
    }
   ],
   "source": [
    "weather_json.get(\"main\")"
   ]
  },
  {
   "cell_type": "code",
   "execution_count": 25,
   "id": "9f354b0c",
   "metadata": {},
   "outputs": [
    {
     "data": {
      "text/plain": [
       "<Response [200]>"
      ]
     },
     "execution_count": 25,
     "metadata": {},
     "output_type": "execute_result"
    }
   ],
   "source": [
    "# Make a 'Get' request for the city weather.\n",
    "city_weather = requests.get(city_url)\n",
    "city_weather"
   ]
  },
  {
   "cell_type": "code",
   "execution_count": 26,
   "id": "8f7cb053",
   "metadata": {},
   "outputs": [
    {
     "data": {
      "text/plain": [
       "200"
      ]
     },
     "execution_count": 26,
     "metadata": {},
     "output_type": "execute_result"
    }
   ],
   "source": [
    "#status code\n",
    "city_weather.status_code"
   ]
  },
  {
   "cell_type": "code",
   "execution_count": 27,
   "id": "4ad58dce",
   "metadata": {},
   "outputs": [
    {
     "data": {
      "text/plain": [
       "<Response [404]>"
      ]
     },
     "execution_count": 27,
     "metadata": {},
     "output_type": "execute_result"
    }
   ],
   "source": [
    "# Create an endpoint URL for a city. ERROR 404\n",
    "city_url = url + \"&q=\" + \"Bston\"\n",
    "city_weather = requests.get(city_url)\n",
    "city_weather"
   ]
  },
  {
   "cell_type": "code",
   "execution_count": 28,
   "id": "2f1eac4e",
   "metadata": {},
   "outputs": [
    {
     "data": {
      "text/plain": [
       "<Response [200]>"
      ]
     },
     "execution_count": 28,
     "metadata": {},
     "output_type": "execute_result"
    }
   ],
   "source": [
    "# Create an endpoint URL for a city. FIXED\n",
    "city_url = url + \"&q=\" + \"Boston\"\n",
    "city_weather = requests.get(city_url)\n",
    "city_weather"
   ]
  },
  {
   "cell_type": "code",
   "execution_count": 29,
   "id": "c775910b",
   "metadata": {},
   "outputs": [
    {
     "data": {
      "text/plain": [
       "'{\"coord\":{\"lon\":-71.0598,\"lat\":42.3584},\"weather\":[{\"id\":800,\"main\":\"Clear\",\"description\":\"clear sky\",\"icon\":\"01d\"}],\"base\":\"stations\",\"main\":{\"temp\":85.03,\"feels_like\":89.29,\"temp_min\":73.65,\"temp_max\":92.79,\"pressure\":1015,\"humidity\":60},\"visibility\":10000,\"wind\":{\"speed\":4,\"deg\":135,\"gust\":7},\"clouds\":{\"all\":2},\"dt\":1653229311,\"sys\":{\"type\":2,\"id\":2013408,\"country\":\"US\",\"sunrise\":1653210996,\"sunset\":1653264332},\"timezone\":-14400,\"id\":4930956,\"name\":\"Boston\",\"cod\":200}'"
      ]
     },
     "execution_count": 29,
     "metadata": {},
     "output_type": "execute_result"
    }
   ],
   "source": [
    "# Get the text of the 'Get' request.\n",
    "city_weather.text"
   ]
  },
  {
   "cell_type": "code",
   "execution_count": 30,
   "id": "110daa5d",
   "metadata": {},
   "outputs": [
    {
     "data": {
      "text/plain": [
       "{'coord': {'lon': -71.0598, 'lat': 42.3584},\n",
       " 'weather': [{'id': 800,\n",
       "   'main': 'Clear',\n",
       "   'description': 'clear sky',\n",
       "   'icon': '01d'}],\n",
       " 'base': 'stations',\n",
       " 'main': {'temp': 85.03,\n",
       "  'feels_like': 89.29,\n",
       "  'temp_min': 73.65,\n",
       "  'temp_max': 92.79,\n",
       "  'pressure': 1015,\n",
       "  'humidity': 60},\n",
       " 'visibility': 10000,\n",
       " 'wind': {'speed': 4, 'deg': 135, 'gust': 7},\n",
       " 'clouds': {'all': 2},\n",
       " 'dt': 1653229311,\n",
       " 'sys': {'type': 2,\n",
       "  'id': 2013408,\n",
       "  'country': 'US',\n",
       "  'sunrise': 1653210996,\n",
       "  'sunset': 1653264332},\n",
       " 'timezone': -14400,\n",
       " 'id': 4930956,\n",
       " 'name': 'Boston',\n",
       " 'cod': 200}"
      ]
     },
     "execution_count": 30,
     "metadata": {},
     "output_type": "execute_result"
    }
   ],
   "source": [
    "# Get the JSON text of the 'Get' request.\n",
    "city_weather.json()"
   ]
  },
  {
   "cell_type": "markdown",
   "id": "608bccc4",
   "metadata": {},
   "source": [
    "# Handle Request Errors"
   ]
  },
  {
   "cell_type": "code",
   "execution_count": 31,
   "id": "ee43a346",
   "metadata": {},
   "outputs": [
    {
     "name": "stdout",
     "output_type": "stream",
     "text": [
      "City Weather found.\n"
     ]
    }
   ],
   "source": [
    "# Create an endpoint URL for a city.\n",
    "city_url = url + \"&q=\" + \"Boston\"\n",
    "city_weather = requests.get(city_url)\n",
    "if city_weather.status_code == 200:\n",
    "    print(f\"City Weather found.\")\n",
    "else:\n",
    "    print(f\"City weather not found.\")"
   ]
  },
  {
   "cell_type": "markdown",
   "id": "c03a5ccc",
   "metadata": {},
   "source": [
    "# Parse a Response"
   ]
  },
  {
   "cell_type": "code",
   "execution_count": 32,
   "id": "7a8ec2b5",
   "metadata": {},
   "outputs": [
    {
     "data": {
      "text/plain": [
       "{'coord': {'lon': -71.0598, 'lat': 42.3584},\n",
       " 'weather': [{'id': 800,\n",
       "   'main': 'Clear',\n",
       "   'description': 'clear sky',\n",
       "   'icon': '01d'}],\n",
       " 'base': 'stations',\n",
       " 'main': {'temp': 85.03,\n",
       "  'feels_like': 89.29,\n",
       "  'temp_min': 73.65,\n",
       "  'temp_max': 92.79,\n",
       "  'pressure': 1015,\n",
       "  'humidity': 60},\n",
       " 'visibility': 10000,\n",
       " 'wind': {'speed': 4, 'deg': 135, 'gust': 7},\n",
       " 'clouds': {'all': 2},\n",
       " 'dt': 1653229311,\n",
       " 'sys': {'type': 2,\n",
       "  'id': 2013408,\n",
       "  'country': 'US',\n",
       "  'sunrise': 1653210996,\n",
       "  'sunset': 1653264332},\n",
       " 'timezone': -14400,\n",
       " 'id': 4930956,\n",
       " 'name': 'Boston',\n",
       " 'cod': 200}"
      ]
     },
     "execution_count": 32,
     "metadata": {},
     "output_type": "execute_result"
    }
   ],
   "source": [
    "# Create an endpoint URL for a city.\n",
    "city_url = url + \"&q=\" + \"Boston\"\n",
    "city_weather = requests.get(city_url)\n",
    "city_weather.json()"
   ]
  },
  {
   "cell_type": "code",
   "execution_count": 33,
   "id": "a64e042c",
   "metadata": {},
   "outputs": [],
   "source": [
    "# Get the JSON data.\n",
    "boston_data = city_weather.json()"
   ]
  },
  {
   "cell_type": "code",
   "execution_count": 34,
   "id": "3bbe389a",
   "metadata": {},
   "outputs": [
    {
     "data": {
      "text/plain": [
       "42.3584"
      ]
     },
     "execution_count": 34,
     "metadata": {},
     "output_type": "execute_result"
    }
   ],
   "source": [
    "boston_data['coord']['lat']"
   ]
  },
  {
   "cell_type": "code",
   "execution_count": 35,
   "id": "f23377f0",
   "metadata": {},
   "outputs": [
    {
     "data": {
      "text/plain": [
       "92.79"
      ]
     },
     "execution_count": 35,
     "metadata": {},
     "output_type": "execute_result"
    }
   ],
   "source": [
    "boston_data['main']['temp_max']"
   ]
  },
  {
   "cell_type": "code",
   "execution_count": 36,
   "id": "21ab3ac0",
   "metadata": {},
   "outputs": [
    {
     "name": "stdout",
     "output_type": "stream",
     "text": [
      "42.3584 -71.0598 92.79 60 2 4\n"
     ]
    }
   ],
   "source": [
    "lat = boston_data[\"coord\"][\"lat\"]\n",
    "lng = boston_data[\"coord\"][\"lon\"]\n",
    "max_temp = boston_data[\"main\"][\"temp_max\"]\n",
    "humidity = boston_data[\"main\"][\"humidity\"]\n",
    "clouds = boston_data[\"clouds\"][\"all\"]\n",
    "wind = boston_data[\"wind\"][\"speed\"]\n",
    "\n",
    "print(lat, lng, max_temp, humidity, clouds, wind)"
   ]
  },
  {
   "cell_type": "markdown",
   "id": "31298f45",
   "metadata": {},
   "source": [
    "# Convert the Date Timestamp"
   ]
  },
  {
   "cell_type": "code",
   "execution_count": 37,
   "id": "d3679e84",
   "metadata": {},
   "outputs": [
    {
     "data": {
      "text/plain": [
       "'2022-05-22 14:21:51'"
      ]
     },
     "execution_count": 37,
     "metadata": {},
     "output_type": "execute_result"
    }
   ],
   "source": [
    "# Import the datetime module from the datetime library.\n",
    "from datetime import datetime\n",
    "\n",
    "# Get the date from the JSON file.\n",
    "date = boston_data[\"dt\"]\n",
    "\n",
    "# Convert the UTC date to a date format with year, month, day, hours, minutes, and seconds.\n",
    "datetime.utcfromtimestamp(date).strftime('%Y-%m-%d %H:%M:%S')"
   ]
  },
  {
   "cell_type": "markdown",
   "id": "8b743044",
   "metadata": {},
   "source": [
    "# More"
   ]
  },
  {
   "cell_type": "code",
   "execution_count": null,
   "id": "4ced4c8c",
   "metadata": {},
   "outputs": [],
   "source": []
  },
  {
   "cell_type": "markdown",
   "id": "57e6fae8",
   "metadata": {},
   "source": [
    "# Get City Weather Data"
   ]
  },
  {
   "cell_type": "code",
   "execution_count": 38,
   "id": "6ea37920",
   "metadata": {},
   "outputs": [],
   "source": [
    "# Import the time library and the datetime module from the datetime library \n",
    "# Import the dependencies.\n",
    "import os  ## needed to change dir to import keys from different folder\n",
    "import requests  ## needed for web crawls \n",
    "import pandas as pd\n",
    "import matplotlib.pyplot as plt\n",
    "import numpy as np\n",
    "from citipy import citipy\n",
    "from datetime import datetime\n",
    "import time"
   ]
  },
  {
   "cell_type": "code",
   "execution_count": 39,
   "id": "3744cecb",
   "metadata": {},
   "outputs": [],
   "source": [
    "from config import weather_api_key"
   ]
  },
  {
   "cell_type": "code",
   "execution_count": 40,
   "id": "1344c72a",
   "metadata": {},
   "outputs": [
    {
     "data": {
      "text/plain": [
       "<zip at 0x1c06b2f5988>"
      ]
     },
     "execution_count": 40,
     "metadata": {},
     "output_type": "execute_result"
    }
   ],
   "source": [
    "# Create a set of random latitude and longitude combinations.\n",
    "# chain np and random \n",
    "lats = np.random.uniform(low=-90.000, high=90.000, size=1500)\n",
    "lngs = np.random.uniform(low=-180.000, high=180.000, size=1500)\n",
    "lat_lngs = zip(lats, lngs) ## packs both variables into a tupled zip file\n",
    "lat_lngs # show me the zip file"
   ]
  },
  {
   "cell_type": "code",
   "execution_count": 41,
   "id": "9212f310",
   "metadata": {},
   "outputs": [],
   "source": [
    "# add longs and lats to a coordinates list\n",
    "coordinates = list(lat_lngs) #write the zip file into a list, so you can work with it"
   ]
  },
  {
   "cell_type": "code",
   "execution_count": 42,
   "id": "882dcfb9",
   "metadata": {},
   "outputs": [
    {
     "data": {
      "text/plain": [
       "604"
      ]
     },
     "execution_count": 42,
     "metadata": {},
     "output_type": "execute_result"
    }
   ],
   "source": [
    "# Create a list for holding the cities.\n",
    "cities = []\n",
    "# Identify the nearest city for each latitude and longitude combination.\n",
    "for coordinate in coordinates:\n",
    "    city = citipy.nearest_city(coordinate[0], coordinate[1]).city_name\n",
    "\n",
    "    # If the city is unique, then we will add it to the cities list.\n",
    "    if city not in cities:\n",
    "        cities.append(city)\n",
    "# Print the city count to confirm sufficient count.\n",
    "len(cities)"
   ]
  },
  {
   "cell_type": "code",
   "execution_count": 43,
   "id": "80a72d30",
   "metadata": {},
   "outputs": [
    {
     "name": "stdout",
     "output_type": "stream",
     "text": [
      "Beginning Data Retrieval     \n",
      "-----------------------------\n"
     ]
    }
   ],
   "source": [
    "# Create an empty list to hold the weather data.\n",
    "city_data = []\n",
    "\n",
    "# Print the beginning of the logging.\n",
    "print(\"Beginning Data Retrieval     \")\n",
    "print(\"-----------------------------\")\n",
    "\n",
    "# Create counters.\n",
    "record_count = 1\n",
    "set_count = 1"
   ]
  },
  {
   "cell_type": "code",
   "execution_count": 44,
   "id": "65822574",
   "metadata": {
    "scrolled": true
   },
   "outputs": [
    {
     "name": "stdout",
     "output_type": "stream",
     "text": [
      "Processing Record 1 of Set 1 | bermeo\n",
      "Processing Record 2 of Set 1 | punta arenas\n",
      "Processing Record 3 of Set 1 | thompson\n",
      "Processing Record 4 of Set 1 | lypnyazhka\n",
      "Processing Record 5 of Set 1 | tuatapere\n",
      "Processing Record 6 of Set 1 | shimoda\n",
      "Processing Record 7 of Set 1 | leonidion\n",
      "City not found. Skipping...\n",
      "Processing Record 8 of Set 1 | talnakh\n",
      "Processing Record 9 of Set 1 | tabialan\n",
      "City not found. Skipping...\n",
      "Processing Record 10 of Set 1 | illoqqortoormiut\n",
      "City not found. Skipping...\n",
      "Processing Record 11 of Set 1 | albany\n",
      "Processing Record 12 of Set 1 | mataura\n",
      "Processing Record 13 of Set 1 | lebu\n",
      "Processing Record 14 of Set 1 | rikitea\n",
      "Processing Record 15 of Set 1 | katsuura\n",
      "Processing Record 16 of Set 1 | ushuaia\n",
      "Processing Record 17 of Set 1 | oga\n",
      "Processing Record 18 of Set 1 | victoria\n",
      "Processing Record 19 of Set 1 | bambous virieux\n",
      "Processing Record 20 of Set 1 | sao jose do calcado\n",
      "Processing Record 21 of Set 1 | hobart\n",
      "Processing Record 22 of Set 1 | amderma\n",
      "City not found. Skipping...\n",
      "Processing Record 23 of Set 1 | bengkulu\n",
      "Processing Record 24 of Set 1 | cabo san lucas\n",
      "Processing Record 25 of Set 1 | kapaa\n",
      "Processing Record 26 of Set 1 | bandar-e lengeh\n",
      "Processing Record 27 of Set 1 | butaritari\n",
      "Processing Record 28 of Set 1 | sur\n",
      "Processing Record 29 of Set 1 | veinticinco de mayo\n",
      "Processing Record 30 of Set 1 | sao joao da barra\n",
      "Processing Record 31 of Set 1 | tasiilaq\n",
      "Processing Record 32 of Set 1 | pokrovsk\n",
      "Processing Record 33 of Set 1 | luderitz\n",
      "Processing Record 34 of Set 1 | iwanai\n",
      "Processing Record 35 of Set 1 | bredasdorp\n",
      "Processing Record 36 of Set 1 | ahipara\n",
      "Processing Record 37 of Set 1 | chifeng\n",
      "Processing Record 38 of Set 1 | pangoa\n",
      "Processing Record 39 of Set 1 | yellowknife\n",
      "Processing Record 40 of Set 1 | barentsburg\n",
      "City not found. Skipping...\n",
      "Processing Record 41 of Set 1 | surt\n",
      "Processing Record 42 of Set 1 | kodiak\n",
      "Processing Record 43 of Set 1 | souillac\n",
      "Processing Record 44 of Set 1 | busselton\n",
      "Processing Record 45 of Set 1 | taolanaro\n",
      "City not found. Skipping...\n",
      "Processing Record 46 of Set 1 | mahebourg\n",
      "Processing Record 47 of Set 1 | chagda\n",
      "City not found. Skipping...\n",
      "Processing Record 48 of Set 1 | bluff\n",
      "Processing Record 49 of Set 1 | norman wells\n",
      "Processing Record 50 of Set 1 | merrill\n",
      "Processing Record 1 of Set 2 | solwezi\n",
      "Processing Record 2 of Set 2 | puerto ayora\n",
      "Processing Record 3 of Set 2 | poum\n",
      "Processing Record 4 of Set 2 | cairns\n",
      "Processing Record 5 of Set 2 | palauig\n",
      "Processing Record 6 of Set 2 | mocambique\n",
      "City not found. Skipping...\n",
      "Processing Record 7 of Set 2 | kaitangata\n",
      "Processing Record 8 of Set 2 | goundi\n",
      "Processing Record 9 of Set 2 | ribeira grande\n",
      "Processing Record 10 of Set 2 | mariinsk\n",
      "Processing Record 11 of Set 2 | grand gaube\n",
      "Processing Record 12 of Set 2 | qom\n",
      "Processing Record 13 of Set 2 | along\n",
      "Processing Record 14 of Set 2 | takoradi\n",
      "Processing Record 15 of Set 2 | aklavik\n",
      "Processing Record 16 of Set 2 | los llanos de aridane\n",
      "Processing Record 17 of Set 2 | tumannyy\n",
      "City not found. Skipping...\n",
      "Processing Record 18 of Set 2 | ukiah\n",
      "Processing Record 19 of Set 2 | henties bay\n",
      "Processing Record 20 of Set 2 | grand river south east\n",
      "City not found. Skipping...\n",
      "Processing Record 21 of Set 2 | biak\n",
      "Processing Record 22 of Set 2 | airai\n",
      "Processing Record 23 of Set 2 | sao filipe\n",
      "Processing Record 24 of Set 2 | nikolskoye\n",
      "Processing Record 25 of Set 2 | ostrovnoy\n",
      "Processing Record 26 of Set 2 | ekhabi\n",
      "Processing Record 27 of Set 2 | new norfolk\n",
      "Processing Record 28 of Set 2 | nizhneyansk\n",
      "City not found. Skipping...\n",
      "Processing Record 29 of Set 2 | avera\n",
      "Processing Record 30 of Set 2 | atasu\n",
      "Processing Record 31 of Set 2 | east london\n",
      "Processing Record 32 of Set 2 | kahului\n",
      "Processing Record 33 of Set 2 | arraial do cabo\n",
      "Processing Record 34 of Set 2 | chuy\n",
      "Processing Record 35 of Set 2 | adre\n",
      "Processing Record 36 of Set 2 | haines junction\n",
      "Processing Record 37 of Set 2 | vilcun\n",
      "Processing Record 38 of Set 2 | port alfred\n",
      "Processing Record 39 of Set 2 | belushya guba\n",
      "City not found. Skipping...\n",
      "Processing Record 40 of Set 2 | jamestown\n",
      "Processing Record 41 of Set 2 | vostok\n",
      "Processing Record 42 of Set 2 | tsihombe\n",
      "City not found. Skipping...\n",
      "Processing Record 43 of Set 2 | umm lajj\n",
      "Processing Record 44 of Set 2 | mount gambier\n",
      "Processing Record 45 of Set 2 | ponta do sol\n",
      "Processing Record 46 of Set 2 | attawapiskat\n",
      "City not found. Skipping...\n",
      "Processing Record 47 of Set 2 | kaeo\n",
      "Processing Record 48 of Set 2 | tazovskiy\n",
      "Processing Record 49 of Set 2 | rock sound\n",
      "Processing Record 50 of Set 2 | tabiauea\n",
      "City not found. Skipping...\n",
      "Processing Record 1 of Set 3 | kharan\n",
      "Processing Record 2 of Set 3 | guerrero negro\n",
      "Processing Record 3 of Set 3 | hithadhoo\n",
      "Processing Record 4 of Set 3 | pervomayskoye\n",
      "Processing Record 5 of Set 3 | mineros\n",
      "Processing Record 6 of Set 3 | solkan\n",
      "Processing Record 7 of Set 3 | severo-kurilsk\n",
      "Processing Record 8 of Set 3 | khatanga\n",
      "Processing Record 9 of Set 3 | atuona\n",
      "Processing Record 10 of Set 3 | bathsheba\n",
      "Processing Record 11 of Set 3 | mys shmidta\n",
      "City not found. Skipping...\n",
      "Processing Record 12 of Set 3 | avarua\n",
      "Processing Record 13 of Set 3 | cape town\n",
      "Processing Record 14 of Set 3 | barrow\n",
      "Processing Record 15 of Set 3 | narsaq\n",
      "Processing Record 16 of Set 3 | gat\n",
      "Processing Record 17 of Set 3 | marathon\n",
      "Processing Record 18 of Set 3 | faanui\n",
      "Processing Record 19 of Set 3 | pochutla\n",
      "Processing Record 20 of Set 3 | wenling\n",
      "Processing Record 21 of Set 3 | kavieng\n",
      "Processing Record 22 of Set 3 | sitka\n",
      "Processing Record 23 of Set 3 | bulungu\n",
      "Processing Record 24 of Set 3 | japura\n",
      "Processing Record 25 of Set 3 | saldanha\n",
      "Processing Record 26 of Set 3 | carnarvon\n",
      "Processing Record 27 of Set 3 | lagoa\n",
      "Processing Record 28 of Set 3 | waingapu\n",
      "Processing Record 29 of Set 3 | salalah\n",
      "Processing Record 30 of Set 3 | kavaratti\n",
      "Processing Record 31 of Set 3 | ustye\n",
      "Processing Record 32 of Set 3 | agirish\n",
      "Processing Record 33 of Set 3 | merauke\n",
      "Processing Record 34 of Set 3 | vaini\n",
      "Processing Record 35 of Set 3 | san juan\n",
      "Processing Record 36 of Set 3 | ponta delgada\n",
      "Processing Record 37 of Set 3 | kachug\n",
      "Processing Record 38 of Set 3 | miranda\n",
      "Processing Record 39 of Set 3 | ornes\n",
      "Processing Record 40 of Set 3 | hermanus\n",
      "Processing Record 41 of Set 3 | saskylakh\n",
      "Processing Record 42 of Set 3 | vila velha\n",
      "Processing Record 43 of Set 3 | provideniya\n",
      "Processing Record 44 of Set 3 | aksu\n",
      "Processing Record 45 of Set 3 | ambon\n",
      "Processing Record 46 of Set 3 | comodoro rivadavia\n",
      "Processing Record 47 of Set 3 | tuktoyaktuk\n",
      "Processing Record 48 of Set 3 | tungor\n",
      "Processing Record 49 of Set 3 | pevek\n",
      "Processing Record 50 of Set 3 | benin\n",
      "Processing Record 1 of Set 4 | xining\n",
      "Processing Record 2 of Set 4 | moose factory\n",
      "Processing Record 3 of Set 4 | luxor\n",
      "Processing Record 4 of Set 4 | parabel\n",
      "Processing Record 5 of Set 4 | dolbeau\n",
      "City not found. Skipping...\n",
      "Processing Record 6 of Set 4 | port-gentil\n",
      "Processing Record 7 of Set 4 | marcona\n",
      "City not found. Skipping...\n",
      "Processing Record 8 of Set 4 | kayerkan\n",
      "Processing Record 9 of Set 4 | ancud\n",
      "Processing Record 10 of Set 4 | hambantota\n",
      "Processing Record 11 of Set 4 | esperance\n",
      "Processing Record 12 of Set 4 | sao lourenco do sul\n",
      "Processing Record 13 of Set 4 | hobyo\n",
      "Processing Record 14 of Set 4 | lishan\n",
      "Processing Record 15 of Set 4 | malwan\n",
      "City not found. Skipping...\n",
      "Processing Record 16 of Set 4 | aksarka\n",
      "Processing Record 17 of Set 4 | constitucion\n",
      "Processing Record 18 of Set 4 | rio gallegos\n",
      "Processing Record 19 of Set 4 | tigzirt\n",
      "Processing Record 20 of Set 4 | samalaeulu\n",
      "City not found. Skipping...\n",
      "Processing Record 21 of Set 4 | tabou\n",
      "Processing Record 22 of Set 4 | san vicente\n",
      "Processing Record 23 of Set 4 | broken hill\n",
      "Processing Record 24 of Set 4 | saint-philippe\n",
      "Processing Record 25 of Set 4 | nanortalik\n",
      "Processing Record 26 of Set 4 | clyde river\n",
      "Processing Record 27 of Set 4 | umm ruwabah\n",
      "City not found. Skipping...\n",
      "Processing Record 28 of Set 4 | kamenka\n",
      "Processing Record 29 of Set 4 | half moon bay\n",
      "Processing Record 30 of Set 4 | rocha\n",
      "Processing Record 31 of Set 4 | sola\n",
      "Processing Record 32 of Set 4 | mar del plata\n",
      "Processing Record 33 of Set 4 | obihiro\n",
      "Processing Record 34 of Set 4 | colomi\n"
     ]
    },
    {
     "name": "stdout",
     "output_type": "stream",
     "text": [
      "Processing Record 35 of Set 4 | taihe\n",
      "Processing Record 36 of Set 4 | kondol\n",
      "Processing Record 37 of Set 4 | quatre cocos\n",
      "Processing Record 38 of Set 4 | khipro\n",
      "Processing Record 39 of Set 4 | pemba\n",
      "Processing Record 40 of Set 4 | port blair\n",
      "Processing Record 41 of Set 4 | longyearbyen\n",
      "Processing Record 42 of Set 4 | college\n",
      "Processing Record 43 of Set 4 | cockburn town\n",
      "Processing Record 44 of Set 4 | acajutla\n",
      "Processing Record 45 of Set 4 | havelock\n",
      "Processing Record 46 of Set 4 | byron bay\n",
      "Processing Record 47 of Set 4 | saint-joseph\n",
      "Processing Record 48 of Set 4 | batsfjord\n",
      "Processing Record 49 of Set 4 | vanimo\n",
      "Processing Record 50 of Set 4 | pathein\n",
      "Processing Record 1 of Set 5 | norfolk\n",
      "Processing Record 2 of Set 5 | victor harbor\n",
      "Processing Record 3 of Set 5 | bantry\n",
      "Processing Record 4 of Set 5 | san patricio\n",
      "Processing Record 5 of Set 5 | noumea\n",
      "Processing Record 6 of Set 5 | qaanaaq\n",
      "Processing Record 7 of Set 5 | yulara\n",
      "Processing Record 8 of Set 5 | eenhana\n",
      "Processing Record 9 of Set 5 | biswan\n",
      "Processing Record 10 of Set 5 | dikson\n",
      "Processing Record 11 of Set 5 | ituni\n",
      "City not found. Skipping...\n",
      "Processing Record 12 of Set 5 | sterling\n",
      "Processing Record 13 of Set 5 | palabuhanratu\n",
      "City not found. Skipping...\n",
      "Processing Record 14 of Set 5 | cap malheureux\n",
      "Processing Record 15 of Set 5 | umzimvubu\n",
      "City not found. Skipping...\n",
      "Processing Record 16 of Set 5 | orlik\n",
      "Processing Record 17 of Set 5 | iqaluit\n",
      "Processing Record 18 of Set 5 | portland\n",
      "Processing Record 19 of Set 5 | bakchar\n",
      "Processing Record 20 of Set 5 | seydi\n",
      "Processing Record 21 of Set 5 | komsomolskiy\n",
      "Processing Record 22 of Set 5 | takob\n",
      "City not found. Skipping...\n",
      "Processing Record 23 of Set 5 | anadyr\n",
      "Processing Record 24 of Set 5 | tura\n",
      "Processing Record 25 of Set 5 | karratha\n",
      "Processing Record 26 of Set 5 | hilo\n",
      "Processing Record 27 of Set 5 | laguna\n",
      "Processing Record 28 of Set 5 | tyumentsevo\n",
      "Processing Record 29 of Set 5 | skalistyy\n",
      "City not found. Skipping...\n",
      "Processing Record 30 of Set 5 | touros\n",
      "Processing Record 31 of Set 5 | la rioja\n",
      "Processing Record 32 of Set 5 | asau\n",
      "Processing Record 33 of Set 5 | coos bay\n",
      "Processing Record 34 of Set 5 | meulaboh\n",
      "Processing Record 35 of Set 5 | saint george\n",
      "Processing Record 36 of Set 5 | umm jarr\n",
      "City not found. Skipping...\n",
      "Processing Record 37 of Set 5 | margate\n",
      "Processing Record 38 of Set 5 | cacu\n",
      "Processing Record 39 of Set 5 | georgetown\n",
      "Processing Record 40 of Set 5 | albstadt\n",
      "Processing Record 41 of Set 5 | fairbanks\n",
      "Processing Record 42 of Set 5 | lolua\n",
      "City not found. Skipping...\n",
      "Processing Record 43 of Set 5 | castro\n",
      "Processing Record 44 of Set 5 | chokurdakh\n",
      "Processing Record 45 of Set 5 | pisco\n",
      "Processing Record 46 of Set 5 | banda aceh\n",
      "Processing Record 47 of Set 5 | odweyne\n",
      "Processing Record 48 of Set 5 | daru\n",
      "Processing Record 49 of Set 5 | panorama\n",
      "Processing Record 50 of Set 5 | la paz\n",
      "Processing Record 1 of Set 6 | viransehir\n",
      "Processing Record 2 of Set 6 | toliary\n",
      "City not found. Skipping...\n",
      "Processing Record 3 of Set 6 | upernavik\n",
      "Processing Record 4 of Set 6 | grand forks\n",
      "Processing Record 5 of Set 6 | labuhan\n",
      "Processing Record 6 of Set 6 | arman\n",
      "Processing Record 7 of Set 6 | fortuna\n",
      "Processing Record 8 of Set 6 | port elizabeth\n",
      "Processing Record 9 of Set 6 | poya\n",
      "Processing Record 10 of Set 6 | muli\n",
      "Processing Record 11 of Set 6 | san jeronimo\n",
      "Processing Record 12 of Set 6 | tallahassee\n",
      "Processing Record 13 of Set 6 | turukhansk\n",
      "Processing Record 14 of Set 6 | lavrentiya\n",
      "Processing Record 15 of Set 6 | borogontsy\n",
      "Processing Record 16 of Set 6 | newport\n",
      "Processing Record 17 of Set 6 | burlatskoye\n",
      "Processing Record 18 of Set 6 | paamiut\n",
      "Processing Record 19 of Set 6 | buraydah\n",
      "Processing Record 20 of Set 6 | fukue\n",
      "Processing Record 21 of Set 6 | swellendam\n",
      "Processing Record 22 of Set 6 | tiksi\n",
      "Processing Record 23 of Set 6 | belmonte\n",
      "Processing Record 24 of Set 6 | fuzhou\n",
      "Processing Record 25 of Set 6 | mahanoro\n",
      "Processing Record 26 of Set 6 | bani walid\n",
      "Processing Record 27 of Set 6 | leopoldina\n",
      "Processing Record 28 of Set 6 | hamilton\n",
      "Processing Record 29 of Set 6 | taoudenni\n",
      "Processing Record 30 of Set 6 | araouane\n",
      "Processing Record 31 of Set 6 | vao\n",
      "Processing Record 32 of Set 6 | lucea\n",
      "Processing Record 33 of Set 6 | barbar\n",
      "City not found. Skipping...\n",
      "Processing Record 34 of Set 6 | katherine\n",
      "Processing Record 35 of Set 6 | hasaki\n",
      "Processing Record 36 of Set 6 | fethiye\n",
      "Processing Record 37 of Set 6 | mwinilunga\n",
      "Processing Record 38 of Set 6 | zyryanka\n",
      "Processing Record 39 of Set 6 | ryuo\n",
      "Processing Record 40 of Set 6 | filingue\n",
      "Processing Record 41 of Set 6 | vaitupu\n",
      "City not found. Skipping...\n",
      "Processing Record 42 of Set 6 | gidole\n",
      "Processing Record 43 of Set 6 | stranda\n",
      "Processing Record 44 of Set 6 | kuala krai\n",
      "City not found. Skipping...\n",
      "Processing Record 45 of Set 6 | coahuayana\n",
      "Processing Record 46 of Set 6 | guicheng\n",
      "City not found. Skipping...\n",
      "Processing Record 47 of Set 6 | srednekolymsk\n",
      "Processing Record 48 of Set 6 | ramos arizpe\n",
      "Processing Record 49 of Set 6 | chenghai\n",
      "Processing Record 50 of Set 6 | nouadhibou\n",
      "Processing Record 1 of Set 7 | sokolo\n",
      "Processing Record 2 of Set 7 | hami\n",
      "Processing Record 3 of Set 7 | oranjemund\n",
      "Processing Record 4 of Set 7 | bay roberts\n",
      "Processing Record 5 of Set 7 | zhigansk\n",
      "Processing Record 6 of Set 7 | ust-barguzin\n",
      "Processing Record 7 of Set 7 | adrar\n",
      "Processing Record 8 of Set 7 | kupang\n",
      "Processing Record 9 of Set 7 | high rock\n",
      "Processing Record 10 of Set 7 | argostolion\n",
      "Processing Record 11 of Set 7 | okhotsk\n",
      "Processing Record 12 of Set 7 | barroualie\n",
      "City not found. Skipping...\n",
      "Processing Record 13 of Set 7 | sabha\n",
      "Processing Record 14 of Set 7 | bethel\n",
      "Processing Record 15 of Set 7 | oytal\n",
      "Processing Record 16 of Set 7 | husavik\n",
      "Processing Record 17 of Set 7 | leningradskiy\n",
      "Processing Record 18 of Set 7 | nishihara\n",
      "Processing Record 19 of Set 7 | ixtapa\n",
      "Processing Record 20 of Set 7 | saleaula\n",
      "City not found. Skipping...\n",
      "Processing Record 21 of Set 7 | mandera\n",
      "Processing Record 22 of Set 7 | douglas\n",
      "Processing Record 23 of Set 7 | aliwal north\n",
      "Processing Record 24 of Set 7 | satuk\n",
      "Processing Record 25 of Set 7 | tuggurt\n",
      "City not found. Skipping...\n",
      "Processing Record 26 of Set 7 | piacabucu\n",
      "Processing Record 27 of Set 7 | man\n",
      "Processing Record 28 of Set 7 | mehamn\n",
      "Processing Record 29 of Set 7 | hvide sande\n",
      "Processing Record 30 of Set 7 | tarudant\n",
      "City not found. Skipping...\n",
      "Processing Record 31 of Set 7 | soroti\n",
      "Processing Record 32 of Set 7 | jujuy\n",
      "City not found. Skipping...\n",
      "Processing Record 33 of Set 7 | sao mateus\n",
      "Processing Record 34 of Set 7 | aykhal\n",
      "Processing Record 35 of Set 7 | burnie\n",
      "Processing Record 36 of Set 7 | toamasina\n",
      "Processing Record 37 of Set 7 | sentyabrskiy\n",
      "City not found. Skipping...\n",
      "Processing Record 38 of Set 7 | nizhnevartovsk\n",
      "Processing Record 39 of Set 7 | arauco\n",
      "Processing Record 40 of Set 7 | laramie\n",
      "Processing Record 41 of Set 7 | priiskovyy\n",
      "Processing Record 42 of Set 7 | miquelon\n",
      "Processing Record 43 of Set 7 | mutis\n",
      "Processing Record 44 of Set 7 | halalo\n",
      "City not found. Skipping...\n",
      "Processing Record 45 of Set 7 | road town\n",
      "Processing Record 46 of Set 7 | port hedland\n",
      "Processing Record 47 of Set 7 | nyaunglebin\n",
      "Processing Record 48 of Set 7 | alofi\n",
      "Processing Record 49 of Set 7 | lumeje\n",
      "Processing Record 50 of Set 7 | himora\n",
      "City not found. Skipping...\n",
      "Processing Record 1 of Set 8 | tambopata\n",
      "Processing Record 2 of Set 8 | dickinson\n",
      "Processing Record 3 of Set 8 | siniscola\n",
      "Processing Record 4 of Set 8 | codrington\n",
      "Processing Record 5 of Set 8 | saint anthony\n",
      "Processing Record 6 of Set 8 | tilichiki\n",
      "Processing Record 7 of Set 8 | karkaralinsk\n",
      "City not found. Skipping...\n",
      "Processing Record 8 of Set 8 | alugan\n",
      "Processing Record 9 of Set 8 | geraldton\n",
      "Processing Record 10 of Set 8 | samusu\n",
      "City not found. Skipping...\n",
      "Processing Record 11 of Set 8 | douentza\n",
      "Processing Record 12 of Set 8 | hihifo\n",
      "City not found. Skipping...\n",
      "Processing Record 13 of Set 8 | tiruvottiyur\n",
      "City not found. Skipping...\n",
      "Processing Record 14 of Set 8 | ostrov\n",
      "Processing Record 15 of Set 8 | morgan city\n",
      "Processing Record 16 of Set 8 | charleston\n",
      "Processing Record 17 of Set 8 | matagami\n",
      "Processing Record 18 of Set 8 | brae\n",
      "Processing Record 19 of Set 8 | eskasem\n"
     ]
    },
    {
     "name": "stdout",
     "output_type": "stream",
     "text": [
      "City not found. Skipping...\n",
      "Processing Record 20 of Set 8 | vila franca do campo\n",
      "Processing Record 21 of Set 8 | warqla\n",
      "City not found. Skipping...\n",
      "Processing Record 22 of Set 8 | seredka\n",
      "Processing Record 23 of Set 8 | westport\n",
      "Processing Record 24 of Set 8 | teruel\n",
      "Processing Record 25 of Set 8 | hereford\n",
      "Processing Record 26 of Set 8 | tadine\n",
      "Processing Record 27 of Set 8 | battonya\n",
      "Processing Record 28 of Set 8 | kodinsk\n",
      "Processing Record 29 of Set 8 | ganzhou\n",
      "Processing Record 30 of Set 8 | iida\n",
      "Processing Record 31 of Set 8 | ambodifototra\n",
      "City not found. Skipping...\n",
      "Processing Record 32 of Set 8 | khandyga\n",
      "Processing Record 33 of Set 8 | mucuri\n",
      "Processing Record 34 of Set 8 | beloha\n",
      "Processing Record 35 of Set 8 | bandarbeyla\n",
      "Processing Record 36 of Set 8 | matara\n",
      "Processing Record 37 of Set 8 | kazalinsk\n",
      "City not found. Skipping...\n",
      "Processing Record 38 of Set 8 | ondjiva\n",
      "Processing Record 39 of Set 8 | yalutorovsk\n",
      "Processing Record 40 of Set 8 | russell\n",
      "Processing Record 41 of Set 8 | ola\n",
      "Processing Record 42 of Set 8 | moissala\n",
      "Processing Record 43 of Set 8 | abnub\n",
      "Processing Record 44 of Set 8 | riyadh\n",
      "Processing Record 45 of Set 8 | formoso do araguaia\n",
      "City not found. Skipping...\n",
      "Processing Record 46 of Set 8 | hofn\n",
      "Processing Record 47 of Set 8 | yar-sale\n",
      "Processing Record 48 of Set 8 | nome\n",
      "Processing Record 49 of Set 8 | tevriz\n",
      "Processing Record 50 of Set 8 | namie\n",
      "Processing Record 1 of Set 9 | klaksvik\n",
      "Processing Record 2 of Set 9 | lakeway\n",
      "Processing Record 3 of Set 9 | galdar\n",
      "Processing Record 4 of Set 9 | dingtao\n",
      "Processing Record 5 of Set 9 | kamphaeng phet\n",
      "Processing Record 6 of Set 9 | sandwick\n",
      "Processing Record 7 of Set 9 | jieshi\n",
      "Processing Record 8 of Set 9 | sorland\n",
      "Processing Record 9 of Set 9 | valentin gomez farias\n",
      "Processing Record 10 of Set 9 | novi troyany\n",
      "Processing Record 11 of Set 9 | kaka\n",
      "Processing Record 12 of Set 9 | viligili\n",
      "City not found. Skipping...\n",
      "Processing Record 13 of Set 9 | matay\n",
      "Processing Record 14 of Set 9 | marystown\n",
      "Processing Record 15 of Set 9 | marsh harbour\n",
      "Processing Record 16 of Set 9 | kidal\n",
      "Processing Record 17 of Set 9 | torbay\n",
      "Processing Record 18 of Set 9 | awjilah\n",
      "Processing Record 19 of Set 9 | give\n",
      "Processing Record 20 of Set 9 | erenhot\n",
      "Processing Record 21 of Set 9 | great yarmouth\n",
      "Processing Record 22 of Set 9 | nicoya\n",
      "Processing Record 23 of Set 9 | pringsewu\n",
      "Processing Record 24 of Set 9 | namuac\n",
      "Processing Record 25 of Set 9 | santiago de chuco\n",
      "Processing Record 26 of Set 9 | tumut\n",
      "Processing Record 27 of Set 9 | san rafael del sur\n",
      "Processing Record 28 of Set 9 | shediac\n",
      "Processing Record 29 of Set 9 | sabang\n",
      "Processing Record 30 of Set 9 | farmington\n",
      "Processing Record 31 of Set 9 | te anau\n",
      "Processing Record 32 of Set 9 | lazaro cardenas\n",
      "Processing Record 33 of Set 9 | seoul\n",
      "Processing Record 34 of Set 9 | kizema\n",
      "Processing Record 35 of Set 9 | faya\n",
      "Processing Record 36 of Set 9 | aktau\n",
      "Processing Record 37 of Set 9 | hagi\n",
      "Processing Record 38 of Set 9 | shenkursk\n",
      "Processing Record 39 of Set 9 | soyo\n",
      "Processing Record 40 of Set 9 | la ronge\n",
      "Processing Record 41 of Set 9 | nyazepetrovsk\n",
      "Processing Record 42 of Set 9 | bairiki\n",
      "Processing Record 43 of Set 9 | vardo\n",
      "Processing Record 44 of Set 9 | mandalgovi\n",
      "Processing Record 45 of Set 9 | pacocha\n",
      "Processing Record 46 of Set 9 | diffa\n",
      "Processing Record 47 of Set 9 | ambanja\n",
      "Processing Record 48 of Set 9 | caravelas\n",
      "Processing Record 49 of Set 9 | jalu\n",
      "Processing Record 50 of Set 9 | terney\n",
      "Processing Record 1 of Set 10 | pangkalanbuun\n",
      "Processing Record 2 of Set 10 | vrangel\n",
      "Processing Record 3 of Set 10 | karaul\n",
      "City not found. Skipping...\n",
      "Processing Record 4 of Set 10 | watertown\n",
      "Processing Record 5 of Set 10 | bilma\n",
      "Processing Record 6 of Set 10 | durant\n",
      "Processing Record 7 of Set 10 | skibbereen\n",
      "Processing Record 8 of Set 10 | shingu\n",
      "Processing Record 9 of Set 10 | tsabong\n",
      "Processing Record 10 of Set 10 | namatanai\n",
      "Processing Record 11 of Set 10 | rosarito\n",
      "Processing Record 12 of Set 10 | belyy yar\n",
      "Processing Record 13 of Set 10 | bogorodskoye\n",
      "Processing Record 14 of Set 10 | morant bay\n",
      "Processing Record 15 of Set 10 | muriti\n",
      "Processing Record 16 of Set 10 | dekoa\n",
      "City not found. Skipping...\n",
      "Processing Record 17 of Set 10 | pandan\n",
      "Processing Record 18 of Set 10 | port macquarie\n",
      "Processing Record 19 of Set 10 | barcelona\n",
      "Processing Record 20 of Set 10 | mata\n",
      "Processing Record 21 of Set 10 | agadez\n",
      "Processing Record 22 of Set 10 | pangody\n",
      "Processing Record 23 of Set 10 | villa maria\n",
      "Processing Record 24 of Set 10 | dingle\n",
      "Processing Record 25 of Set 10 | khonuu\n",
      "City not found. Skipping...\n",
      "Processing Record 26 of Set 10 | waipawa\n",
      "Processing Record 27 of Set 10 | petropavlovsk-kamchatskiy\n",
      "Processing Record 28 of Set 10 | dicabisagan\n",
      "Processing Record 29 of Set 10 | manavalakurichi\n",
      "Processing Record 30 of Set 10 | allende\n",
      "Processing Record 31 of Set 10 | christchurch\n",
      "Processing Record 32 of Set 10 | kilindoni\n",
      "Processing Record 33 of Set 10 | pineville\n",
      "Processing Record 34 of Set 10 | omboue\n",
      "Processing Record 35 of Set 10 | roald\n",
      "Processing Record 36 of Set 10 | boa vista\n",
      "Processing Record 37 of Set 10 | komatipoort\n",
      "Processing Record 38 of Set 10 | burayevo\n",
      "Processing Record 39 of Set 10 | mbandaka\n",
      "Processing Record 40 of Set 10 | ritchie\n",
      "Processing Record 41 of Set 10 | ilulissat\n",
      "Processing Record 42 of Set 10 | rock springs\n",
      "Processing Record 43 of Set 10 | taltal\n",
      "Processing Record 44 of Set 10 | clarence town\n",
      "Processing Record 45 of Set 10 | strausberg\n",
      "Processing Record 46 of Set 10 | stabat\n",
      "Processing Record 47 of Set 10 | waynesboro\n",
      "Processing Record 48 of Set 10 | goderich\n",
      "Processing Record 49 of Set 10 | beira\n",
      "Processing Record 50 of Set 10 | prado\n",
      "Processing Record 1 of Set 11 | birjand\n",
      "Processing Record 2 of Set 11 | juybar\n",
      "Processing Record 3 of Set 11 | kruisfontein\n",
      "Processing Record 4 of Set 11 | choya\n",
      "Processing Record 5 of Set 11 | volosovo\n",
      "Processing Record 6 of Set 11 | suhum\n",
      "Processing Record 7 of Set 11 | dzhusaly\n",
      "City not found. Skipping...\n",
      "Processing Record 8 of Set 11 | nanchang\n",
      "Processing Record 9 of Set 11 | goure\n",
      "Processing Record 10 of Set 11 | dunedin\n",
      "Processing Record 11 of Set 11 | taree\n",
      "Processing Record 12 of Set 11 | samarai\n",
      "Processing Record 13 of Set 11 | kirakira\n",
      "Processing Record 14 of Set 11 | alyangula\n",
      "Processing Record 15 of Set 11 | bansgaon\n",
      "Processing Record 16 of Set 11 | asyut\n",
      "Processing Record 17 of Set 11 | cherskiy\n",
      "Processing Record 18 of Set 11 | kurtalan\n",
      "Processing Record 19 of Set 11 | hualmay\n",
      "Processing Record 20 of Set 11 | mama\n",
      "Processing Record 21 of Set 11 | bubaque\n",
      "Processing Record 22 of Set 11 | bazarnyye mataki\n",
      "Processing Record 23 of Set 11 | cochabamba\n",
      "Processing Record 24 of Set 11 | baruun-urt\n",
      "Processing Record 25 of Set 11 | hovd\n",
      "Processing Record 26 of Set 11 | galiwinku\n",
      "City not found. Skipping...\n",
      "Processing Record 27 of Set 11 | port lincoln\n",
      "Processing Record 28 of Set 11 | asekeyevo\n",
      "Processing Record 29 of Set 11 | kazanskoye\n",
      "Processing Record 30 of Set 11 | bayji\n",
      "Processing Record 31 of Set 11 | belaya gora\n",
      "Processing Record 32 of Set 11 | palpa\n",
      "Processing Record 33 of Set 11 | aitape\n",
      "Processing Record 34 of Set 11 | pyapon\n",
      "Processing Record 35 of Set 11 | kosh-agach\n",
      "Processing Record 36 of Set 11 | penzance\n",
      "Processing Record 37 of Set 11 | kondinskoye\n",
      "Processing Record 38 of Set 11 | teguldet\n",
      "Processing Record 39 of Set 11 | aloleng\n",
      "Processing Record 40 of Set 11 | eisenach\n",
      "Processing Record 41 of Set 11 | puerto escondido\n",
      "Processing Record 42 of Set 11 | grindavik\n",
      "Processing Record 43 of Set 11 | san cristobal\n",
      "Processing Record 44 of Set 11 | svetlaya\n",
      "Processing Record 45 of Set 11 | qaqortoq\n",
      "Processing Record 46 of Set 11 | zhumadian\n",
      "Processing Record 47 of Set 11 | jedburgh\n",
      "Processing Record 48 of Set 11 | isangel\n",
      "Processing Record 49 of Set 11 | livingston\n",
      "Processing Record 50 of Set 11 | pavlikeni\n",
      "Processing Record 1 of Set 12 | turbat\n",
      "Processing Record 2 of Set 12 | yabrud\n",
      "Processing Record 3 of Set 12 | nuuk\n",
      "Processing Record 4 of Set 12 | kazerun\n",
      "Processing Record 5 of Set 12 | kalmunai\n",
      "Processing Record 6 of Set 12 | koslan\n",
      "Processing Record 7 of Set 12 | saint-georges\n",
      "Processing Record 8 of Set 12 | tessalit\n",
      "Processing Record 9 of Set 12 | yanchukan\n",
      "City not found. Skipping...\n",
      "Processing Record 10 of Set 12 | vwawa\n"
     ]
    },
    {
     "name": "stdout",
     "output_type": "stream",
     "text": [
      "Processing Record 11 of Set 12 | maglavit\n",
      "Processing Record 12 of Set 12 | sai buri\n",
      "Processing Record 13 of Set 12 | novaya zaimka\n",
      "Processing Record 14 of Set 12 | suntar\n",
      "Processing Record 15 of Set 12 | montorio al vomano\n",
      "Processing Record 16 of Set 12 | egvekinot\n",
      "Processing Record 17 of Set 12 | vestmannaeyjar\n",
      "Processing Record 18 of Set 12 | troitsko-pechorsk\n",
      "Processing Record 19 of Set 12 | berea\n",
      "Processing Record 20 of Set 12 | finschhafen\n",
      "Processing Record 21 of Set 12 | severo-yeniseyskiy\n",
      "Processing Record 22 of Set 12 | pemberton\n",
      "Processing Record 23 of Set 12 | rognan\n",
      "Processing Record 24 of Set 12 | san carlos de bariloche\n",
      "Processing Record 25 of Set 12 | teya\n",
      "Processing Record 26 of Set 12 | kelheim\n",
      "Processing Record 27 of Set 12 | tashtyp\n",
      "Processing Record 28 of Set 12 | bara\n",
      "Processing Record 29 of Set 12 | santa maria\n",
      "Processing Record 30 of Set 12 | iranshahr\n",
      "Processing Record 31 of Set 12 | jalapa\n",
      "Processing Record 32 of Set 12 | riwaka\n",
      "Processing Record 33 of Set 12 | general roca\n",
      "Processing Record 34 of Set 12 | pskent\n",
      "City not found. Skipping...\n",
      "Processing Record 35 of Set 12 | lumut\n",
      "Processing Record 36 of Set 12 | leopoldsburg\n",
      "Processing Record 37 of Set 12 | susehri\n",
      "Processing Record 38 of Set 12 | alice springs\n",
      "Processing Record 39 of Set 12 | kabanjahe\n",
      "Processing Record 40 of Set 12 | kloulklubed\n",
      "Processing Record 41 of Set 12 | gueret\n",
      "Processing Record 42 of Set 12 | angra\n",
      "City not found. Skipping...\n",
      "Processing Record 43 of Set 12 | tefe\n",
      "Processing Record 44 of Set 12 | port hardy\n",
      "Processing Record 45 of Set 12 | sorvag\n",
      "City not found. Skipping...\n",
      "Processing Record 46 of Set 12 | nemuro\n",
      "Processing Record 47 of Set 12 | manzil tamim\n",
      "City not found. Skipping...\n",
      "Processing Record 48 of Set 12 | rundu\n",
      "Processing Record 49 of Set 12 | washim\n",
      "Processing Record 50 of Set 12 | rodeo\n",
      "Processing Record 1 of Set 13 | coihaique\n",
      "Processing Record 2 of Set 13 | lorengau\n",
      "Processing Record 3 of Set 13 | nara\n",
      "Processing Record 4 of Set 13 | yuzhno-yeniseyskiy\n",
      "City not found. Skipping...\n",
      "-----------------------------\n",
      "Data Retrieval Complete      \n",
      "-----------------------------\n"
     ]
    }
   ],
   "source": [
    "# Loop through all the cities in the list.\n",
    "for i, city in enumerate(cities):\n",
    "\n",
    "    # Group cities in sets of 50 for logging purposes.\n",
    "    if (i % 50 == 0 and i >= 50): \n",
    "        set_count += 1\n",
    "        record_count = 1\n",
    "        time.sleep(60)\n",
    "\n",
    "    # Create endpoint URL with each city.\n",
    "    city_url = url + \"&q=\" + city.replace(\" \",\"+\")\n",
    "\n",
    "    # Log the URL, record, and set numbers and the city.\n",
    "    print(f\"Processing Record {record_count} of Set {set_count} | {city}\")\n",
    "    # Add 1 to the record count.\n",
    "    record_count += 1\n",
    "    \n",
    "# Run an API request for each of the cities.\n",
    "    try:\n",
    "        # Parse the JSON and retrieve data.\n",
    "        city_weather = requests.get(city_url).json()\n",
    "        # Parse out the needed data.\n",
    "        city_lat = city_weather[\"coord\"][\"lat\"]\n",
    "        city_lng = city_weather[\"coord\"][\"lon\"]\n",
    "        city_max_temp = city_weather[\"main\"][\"temp_max\"]\n",
    "        city_humidity = city_weather[\"main\"][\"humidity\"]\n",
    "        city_clouds = city_weather[\"clouds\"][\"all\"]\n",
    "        city_wind = city_weather[\"wind\"][\"speed\"]\n",
    "        city_country = city_weather[\"sys\"][\"country\"]\n",
    "        # Convert the date to ISO standard.\n",
    "        city_date = datetime.utcfromtimestamp(city_weather[\"dt\"]).strftime('%Y-%m-%d %H:%M:%S')\n",
    "        # Append the city information into city_data list.\n",
    "        city_data.append({\"City\": city.title(),\n",
    "                          \"Lat\": city_lat,\n",
    "                          \"Lng\": city_lng,\n",
    "                          \"Max Temp\": city_max_temp,\n",
    "                          \"Humidity\": city_humidity,\n",
    "                          \"Cloudiness\": city_clouds,\n",
    "                          \"Wind Speed\": city_wind,\n",
    "                          \"Country\": city_country,\n",
    "                          \"Date\": city_date})\n",
    "\n",
    "# If an error is experienced, skip the city.\n",
    "    except:\n",
    "        print(\"City not found. Skipping...\")\n",
    "        pass\n",
    "\n",
    "# Indicate that Data Loading is complete.\n",
    "print(\"-----------------------------\")\n",
    "print(\"Data Retrieval Complete      \")\n",
    "print(\"-----------------------------\")"
   ]
  },
  {
   "cell_type": "markdown",
   "id": "2044926a",
   "metadata": {},
   "source": [
    "# Create a DataFrame of City Weather Data"
   ]
  },
  {
   "cell_type": "code",
   "execution_count": 45,
   "id": "ec895322",
   "metadata": {},
   "outputs": [
    {
     "data": {
      "text/html": [
       "<div>\n",
       "<style scoped>\n",
       "    .dataframe tbody tr th:only-of-type {\n",
       "        vertical-align: middle;\n",
       "    }\n",
       "\n",
       "    .dataframe tbody tr th {\n",
       "        vertical-align: top;\n",
       "    }\n",
       "\n",
       "    .dataframe thead th {\n",
       "        text-align: right;\n",
       "    }\n",
       "</style>\n",
       "<table border=\"1\" class=\"dataframe\">\n",
       "  <thead>\n",
       "    <tr style=\"text-align: right;\">\n",
       "      <th></th>\n",
       "      <th>City</th>\n",
       "      <th>Lat</th>\n",
       "      <th>Lng</th>\n",
       "      <th>Max Temp</th>\n",
       "      <th>Humidity</th>\n",
       "      <th>Cloudiness</th>\n",
       "      <th>Wind Speed</th>\n",
       "      <th>Country</th>\n",
       "      <th>Date</th>\n",
       "    </tr>\n",
       "  </thead>\n",
       "  <tbody>\n",
       "    <tr>\n",
       "      <th>0</th>\n",
       "      <td>Bermeo</td>\n",
       "      <td>43.4209</td>\n",
       "      <td>-2.7215</td>\n",
       "      <td>88.41</td>\n",
       "      <td>59</td>\n",
       "      <td>100</td>\n",
       "      <td>11.03</td>\n",
       "      <td>ES</td>\n",
       "      <td>2022-05-22 14:29:49</td>\n",
       "    </tr>\n",
       "    <tr>\n",
       "      <th>1</th>\n",
       "      <td>Punta Arenas</td>\n",
       "      <td>-53.1500</td>\n",
       "      <td>-70.9167</td>\n",
       "      <td>37.51</td>\n",
       "      <td>70</td>\n",
       "      <td>75</td>\n",
       "      <td>14.97</td>\n",
       "      <td>CL</td>\n",
       "      <td>2022-05-22 14:22:24</td>\n",
       "    </tr>\n",
       "    <tr>\n",
       "      <th>2</th>\n",
       "      <td>Thompson</td>\n",
       "      <td>55.7435</td>\n",
       "      <td>-97.8558</td>\n",
       "      <td>51.96</td>\n",
       "      <td>46</td>\n",
       "      <td>20</td>\n",
       "      <td>5.75</td>\n",
       "      <td>CA</td>\n",
       "      <td>2022-05-22 14:26:34</td>\n",
       "    </tr>\n",
       "    <tr>\n",
       "      <th>3</th>\n",
       "      <td>Lypnyazhka</td>\n",
       "      <td>48.4469</td>\n",
       "      <td>31.0761</td>\n",
       "      <td>60.85</td>\n",
       "      <td>57</td>\n",
       "      <td>76</td>\n",
       "      <td>20.18</td>\n",
       "      <td>UA</td>\n",
       "      <td>2022-05-22 14:29:49</td>\n",
       "    </tr>\n",
       "    <tr>\n",
       "      <th>4</th>\n",
       "      <td>Tuatapere</td>\n",
       "      <td>-46.1333</td>\n",
       "      <td>167.6833</td>\n",
       "      <td>46.36</td>\n",
       "      <td>83</td>\n",
       "      <td>98</td>\n",
       "      <td>8.46</td>\n",
       "      <td>NZ</td>\n",
       "      <td>2022-05-22 14:29:50</td>\n",
       "    </tr>\n",
       "    <tr>\n",
       "      <th>5</th>\n",
       "      <td>Shimoda</td>\n",
       "      <td>34.6667</td>\n",
       "      <td>138.9500</td>\n",
       "      <td>65.86</td>\n",
       "      <td>91</td>\n",
       "      <td>34</td>\n",
       "      <td>7.99</td>\n",
       "      <td>JP</td>\n",
       "      <td>2022-05-22 14:29:50</td>\n",
       "    </tr>\n",
       "    <tr>\n",
       "      <th>6</th>\n",
       "      <td>Talnakh</td>\n",
       "      <td>69.4865</td>\n",
       "      <td>88.3972</td>\n",
       "      <td>34.21</td>\n",
       "      <td>100</td>\n",
       "      <td>100</td>\n",
       "      <td>2.30</td>\n",
       "      <td>RU</td>\n",
       "      <td>2022-05-22 14:29:51</td>\n",
       "    </tr>\n",
       "    <tr>\n",
       "      <th>7</th>\n",
       "      <td>Albany</td>\n",
       "      <td>42.6001</td>\n",
       "      <td>-73.9662</td>\n",
       "      <td>83.26</td>\n",
       "      <td>65</td>\n",
       "      <td>49</td>\n",
       "      <td>5.99</td>\n",
       "      <td>US</td>\n",
       "      <td>2022-05-22 14:23:05</td>\n",
       "    </tr>\n",
       "    <tr>\n",
       "      <th>8</th>\n",
       "      <td>Mataura</td>\n",
       "      <td>-46.1927</td>\n",
       "      <td>168.8643</td>\n",
       "      <td>43.97</td>\n",
       "      <td>94</td>\n",
       "      <td>99</td>\n",
       "      <td>6.38</td>\n",
       "      <td>NZ</td>\n",
       "      <td>2022-05-22 14:23:04</td>\n",
       "    </tr>\n",
       "    <tr>\n",
       "      <th>9</th>\n",
       "      <td>Lebu</td>\n",
       "      <td>-37.6167</td>\n",
       "      <td>-73.6500</td>\n",
       "      <td>54.75</td>\n",
       "      <td>97</td>\n",
       "      <td>100</td>\n",
       "      <td>22.62</td>\n",
       "      <td>CL</td>\n",
       "      <td>2022-05-22 14:28:31</td>\n",
       "    </tr>\n",
       "  </tbody>\n",
       "</table>\n",
       "</div>"
      ],
      "text/plain": [
       "           City      Lat       Lng  Max Temp  Humidity  Cloudiness  \\\n",
       "0        Bermeo  43.4209   -2.7215     88.41        59         100   \n",
       "1  Punta Arenas -53.1500  -70.9167     37.51        70          75   \n",
       "2      Thompson  55.7435  -97.8558     51.96        46          20   \n",
       "3    Lypnyazhka  48.4469   31.0761     60.85        57          76   \n",
       "4     Tuatapere -46.1333  167.6833     46.36        83          98   \n",
       "5       Shimoda  34.6667  138.9500     65.86        91          34   \n",
       "6       Talnakh  69.4865   88.3972     34.21       100         100   \n",
       "7        Albany  42.6001  -73.9662     83.26        65          49   \n",
       "8       Mataura -46.1927  168.8643     43.97        94          99   \n",
       "9          Lebu -37.6167  -73.6500     54.75        97         100   \n",
       "\n",
       "   Wind Speed Country                 Date  \n",
       "0       11.03      ES  2022-05-22 14:29:49  \n",
       "1       14.97      CL  2022-05-22 14:22:24  \n",
       "2        5.75      CA  2022-05-22 14:26:34  \n",
       "3       20.18      UA  2022-05-22 14:29:49  \n",
       "4        8.46      NZ  2022-05-22 14:29:50  \n",
       "5        7.99      JP  2022-05-22 14:29:50  \n",
       "6        2.30      RU  2022-05-22 14:29:51  \n",
       "7        5.99      US  2022-05-22 14:23:05  \n",
       "8        6.38      NZ  2022-05-22 14:23:04  \n",
       "9       22.62      CL  2022-05-22 14:28:31  "
      ]
     },
     "execution_count": 45,
     "metadata": {},
     "output_type": "execute_result"
    }
   ],
   "source": [
    "# Convert the array of dictionaries to a Pandas DataFrame.\n",
    "city_data_df = pd.DataFrame(city_data)\n",
    "city_data_df.head(10)"
   ]
  },
  {
   "cell_type": "code",
   "execution_count": 49,
   "id": "a8a36c37",
   "metadata": {},
   "outputs": [
    {
     "data": {
      "text/html": [
       "<div>\n",
       "<style scoped>\n",
       "    .dataframe tbody tr th:only-of-type {\n",
       "        vertical-align: middle;\n",
       "    }\n",
       "\n",
       "    .dataframe tbody tr th {\n",
       "        vertical-align: top;\n",
       "    }\n",
       "\n",
       "    .dataframe thead th {\n",
       "        text-align: right;\n",
       "    }\n",
       "</style>\n",
       "<table border=\"1\" class=\"dataframe\">\n",
       "  <thead>\n",
       "    <tr style=\"text-align: right;\">\n",
       "      <th></th>\n",
       "      <th>City</th>\n",
       "      <th>Country</th>\n",
       "      <th>Date</th>\n",
       "      <th>Lat</th>\n",
       "      <th>Lng</th>\n",
       "      <th>Max Temp</th>\n",
       "      <th>Humidity</th>\n",
       "      <th>Cloudiness</th>\n",
       "      <th>Wind Speed</th>\n",
       "    </tr>\n",
       "  </thead>\n",
       "  <tbody>\n",
       "    <tr>\n",
       "      <th>0</th>\n",
       "      <td>Bermeo</td>\n",
       "      <td>ES</td>\n",
       "      <td>2022-05-22 14:29:49</td>\n",
       "      <td>43.4209</td>\n",
       "      <td>-2.7215</td>\n",
       "      <td>88.41</td>\n",
       "      <td>59</td>\n",
       "      <td>100</td>\n",
       "      <td>11.03</td>\n",
       "    </tr>\n",
       "    <tr>\n",
       "      <th>1</th>\n",
       "      <td>Punta Arenas</td>\n",
       "      <td>CL</td>\n",
       "      <td>2022-05-22 14:22:24</td>\n",
       "      <td>-53.1500</td>\n",
       "      <td>-70.9167</td>\n",
       "      <td>37.51</td>\n",
       "      <td>70</td>\n",
       "      <td>75</td>\n",
       "      <td>14.97</td>\n",
       "    </tr>\n",
       "    <tr>\n",
       "      <th>2</th>\n",
       "      <td>Thompson</td>\n",
       "      <td>CA</td>\n",
       "      <td>2022-05-22 14:26:34</td>\n",
       "      <td>55.7435</td>\n",
       "      <td>-97.8558</td>\n",
       "      <td>51.96</td>\n",
       "      <td>46</td>\n",
       "      <td>20</td>\n",
       "      <td>5.75</td>\n",
       "    </tr>\n",
       "    <tr>\n",
       "      <th>3</th>\n",
       "      <td>Lypnyazhka</td>\n",
       "      <td>UA</td>\n",
       "      <td>2022-05-22 14:29:49</td>\n",
       "      <td>48.4469</td>\n",
       "      <td>31.0761</td>\n",
       "      <td>60.85</td>\n",
       "      <td>57</td>\n",
       "      <td>76</td>\n",
       "      <td>20.18</td>\n",
       "    </tr>\n",
       "    <tr>\n",
       "      <th>4</th>\n",
       "      <td>Tuatapere</td>\n",
       "      <td>NZ</td>\n",
       "      <td>2022-05-22 14:29:50</td>\n",
       "      <td>-46.1333</td>\n",
       "      <td>167.6833</td>\n",
       "      <td>46.36</td>\n",
       "      <td>83</td>\n",
       "      <td>98</td>\n",
       "      <td>8.46</td>\n",
       "    </tr>\n",
       "    <tr>\n",
       "      <th>5</th>\n",
       "      <td>Shimoda</td>\n",
       "      <td>JP</td>\n",
       "      <td>2022-05-22 14:29:50</td>\n",
       "      <td>34.6667</td>\n",
       "      <td>138.9500</td>\n",
       "      <td>65.86</td>\n",
       "      <td>91</td>\n",
       "      <td>34</td>\n",
       "      <td>7.99</td>\n",
       "    </tr>\n",
       "    <tr>\n",
       "      <th>6</th>\n",
       "      <td>Talnakh</td>\n",
       "      <td>RU</td>\n",
       "      <td>2022-05-22 14:29:51</td>\n",
       "      <td>69.4865</td>\n",
       "      <td>88.3972</td>\n",
       "      <td>34.21</td>\n",
       "      <td>100</td>\n",
       "      <td>100</td>\n",
       "      <td>2.30</td>\n",
       "    </tr>\n",
       "    <tr>\n",
       "      <th>7</th>\n",
       "      <td>Albany</td>\n",
       "      <td>US</td>\n",
       "      <td>2022-05-22 14:23:05</td>\n",
       "      <td>42.6001</td>\n",
       "      <td>-73.9662</td>\n",
       "      <td>83.26</td>\n",
       "      <td>65</td>\n",
       "      <td>49</td>\n",
       "      <td>5.99</td>\n",
       "    </tr>\n",
       "    <tr>\n",
       "      <th>8</th>\n",
       "      <td>Mataura</td>\n",
       "      <td>NZ</td>\n",
       "      <td>2022-05-22 14:23:04</td>\n",
       "      <td>-46.1927</td>\n",
       "      <td>168.8643</td>\n",
       "      <td>43.97</td>\n",
       "      <td>94</td>\n",
       "      <td>99</td>\n",
       "      <td>6.38</td>\n",
       "    </tr>\n",
       "    <tr>\n",
       "      <th>9</th>\n",
       "      <td>Lebu</td>\n",
       "      <td>CL</td>\n",
       "      <td>2022-05-22 14:28:31</td>\n",
       "      <td>-37.6167</td>\n",
       "      <td>-73.6500</td>\n",
       "      <td>54.75</td>\n",
       "      <td>97</td>\n",
       "      <td>100</td>\n",
       "      <td>22.62</td>\n",
       "    </tr>\n",
       "  </tbody>\n",
       "</table>\n",
       "</div>"
      ],
      "text/plain": [
       "           City Country                 Date      Lat       Lng  Max Temp  \\\n",
       "0        Bermeo      ES  2022-05-22 14:29:49  43.4209   -2.7215     88.41   \n",
       "1  Punta Arenas      CL  2022-05-22 14:22:24 -53.1500  -70.9167     37.51   \n",
       "2      Thompson      CA  2022-05-22 14:26:34  55.7435  -97.8558     51.96   \n",
       "3    Lypnyazhka      UA  2022-05-22 14:29:49  48.4469   31.0761     60.85   \n",
       "4     Tuatapere      NZ  2022-05-22 14:29:50 -46.1333  167.6833     46.36   \n",
       "5       Shimoda      JP  2022-05-22 14:29:50  34.6667  138.9500     65.86   \n",
       "6       Talnakh      RU  2022-05-22 14:29:51  69.4865   88.3972     34.21   \n",
       "7        Albany      US  2022-05-22 14:23:05  42.6001  -73.9662     83.26   \n",
       "8       Mataura      NZ  2022-05-22 14:23:04 -46.1927  168.8643     43.97   \n",
       "9          Lebu      CL  2022-05-22 14:28:31 -37.6167  -73.6500     54.75   \n",
       "\n",
       "   Humidity  Cloudiness  Wind Speed  \n",
       "0        59         100       11.03  \n",
       "1        70          75       14.97  \n",
       "2        46          20        5.75  \n",
       "3        57          76       20.18  \n",
       "4        83          98        8.46  \n",
       "5        91          34        7.99  \n",
       "6       100         100        2.30  \n",
       "7        65          49        5.99  \n",
       "8        94          99        6.38  \n",
       "9        97         100       22.62  "
      ]
     },
     "execution_count": 49,
     "metadata": {},
     "output_type": "execute_result"
    }
   ],
   "source": [
    "new_col_order = [\"City\", \"Country\", \"Date\", \"Lat\", \"Lng\", \"Max Temp\", \"Humidity\", \"Cloudiness\", \"Wind Speed\"]\n",
    "city_data_df = city_data_df[new_col_order]\n",
    "\n",
    "city_data_df.head(10)"
   ]
  },
  {
   "cell_type": "code",
   "execution_count": 51,
   "id": "37763681",
   "metadata": {},
   "outputs": [],
   "source": [
    "# Create the output file (CSV) in the weather_data folder.\n",
    "output_data_file = \"weather_data/cities.csv\"\n",
    "\n",
    "# Export the City_Data into a CSV.\n",
    "city_data_df.to_csv(output_data_file, index_label=\"City_ID\")"
   ]
  },
  {
   "cell_type": "markdown",
   "id": "2511ffdc",
   "metadata": {},
   "source": [
    "# Get Data for Plotting"
   ]
  },
  {
   "cell_type": "code",
   "execution_count": 52,
   "id": "22693a31",
   "metadata": {},
   "outputs": [],
   "source": [
    "# Extract relevant fields from the DataFrame for plotting.\n",
    "lats = city_data_df[\"Lat\"]\n",
    "max_temps = city_data_df[\"Max Temp\"]\n",
    "humidity = city_data_df[\"Humidity\"]\n",
    "cloudiness = city_data_df[\"Cloudiness\"]\n",
    "wind_speed = city_data_df[\"Wind Speed\"]"
   ]
  },
  {
   "cell_type": "code",
   "execution_count": 56,
   "id": "125984ed",
   "metadata": {},
   "outputs": [
    {
     "data": {
      "text/plain": [
       "1653232011.0612116"
      ]
     },
     "execution_count": 56,
     "metadata": {},
     "output_type": "execute_result"
    }
   ],
   "source": [
    "# Import the time module.\n",
    "import time\n",
    "\n",
    "# Get today's date in seconds.\n",
    "today = time.time()\n",
    "today"
   ]
  },
  {
   "cell_type": "code",
   "execution_count": 57,
   "id": "2552924c",
   "metadata": {},
   "outputs": [
    {
     "data": {
      "text/plain": [
       "'05/22/22'"
      ]
     },
     "execution_count": 57,
     "metadata": {},
     "output_type": "execute_result"
    }
   ],
   "source": [
    "# Get today's date in mo/day/year format\n",
    "today_date = time.strftime(\"%x\")\n",
    "today_date"
   ]
  },
  {
   "cell_type": "code",
   "execution_count": 62,
   "id": "3dc549d7",
   "metadata": {},
   "outputs": [
    {
     "data": {
      "image/png": "[encoded data removed]",
      "text/plain": [
       "<Figure size 432x288 with 1 Axes>"
      ]
     },
     "metadata": {
      "needs_background": "light"
     },
     "output_type": "display_data"
    }
   ],
   "source": [
    "# Import time module\n",
    "import time\n",
    "\n",
    "# Build the scatter plot for latitude vs. max temperature.\n",
    "plt.scatter(lats,\n",
    "            max_temps,\n",
    "            edgecolor=\"black\", linewidths=1, marker=\"o\",\n",
    "            alpha=0.8, label=\"Cities\")\n",
    "\n",
    "# Incorporate the other graph properties.\n",
    "plt.title(f\"City Latitude vs. Max Temperature \"+ time.strftime(\"%x\"))\n",
    "plt.ylabel(\"Max Temperature (F)\")\n",
    "plt.xlabel(\"Latitude\")\n",
    "plt.grid(True)\n",
    "\n",
    "# Save the figure.\n",
    "plt.savefig(\"weather_data/Fig1.png\")\n",
    "\n",
    "# Show plot.\n",
    "plt.show()"
   ]
  },
  {
   "cell_type": "code",
   "execution_count": 63,
   "id": "c1de81b6",
   "metadata": {},
   "outputs": [
    {
     "data": {
      "image/png": "[encoded data removed]",
      "text/plain": [
       "<Figure size 432x288 with 1 Axes>"
      ]
     },
     "metadata": {
      "needs_background": "light"
     },
     "output_type": "display_data"
    }
   ],
   "source": [
    "# Build the scatter plots for latitude vs. humidity.\n",
    "plt.scatter(lats,\n",
    "            humidity,\n",
    "            edgecolor=\"black\", linewidths=1, marker=\"o\",\n",
    "            alpha=0.8, label=\"Cities\")\n",
    "\n",
    "# Incorporate the other graph properties.\n",
    "plt.title(f\"City Latitude vs. Humidity \"+ time.strftime(\"%x\"))\n",
    "plt.ylabel(\"Humidity (%)\")\n",
    "plt.xlabel(\"Latitude\")\n",
    "plt.grid(True)\n",
    "\n",
    "# Save the figure.\n",
    "plt.savefig(\"weather_data/Fig2.png\")\n",
    "\n",
    "# Show plot.\n",
    "plt.show()"
   ]
  },
  {
   "cell_type": "code",
   "execution_count": 64,
   "id": "4578a240",
   "metadata": {},
   "outputs": [
    {
     "data": {
      "image/png": "[encoded data removed]",
      "text/plain": [
       "<Figure size 432x288 with 1 Axes>"
      ]
     },
     "metadata": {
      "needs_background": "light"
     },
     "output_type": "display_data"
    }
   ],
   "source": [
    "# Build the scatter plots for latitude vs. cloudiness.\n",
    "plt.scatter(lats,\n",
    "            cloudiness,\n",
    "            edgecolor=\"black\", linewidths=1, marker=\"o\",\n",
    "            alpha=0.8, label=\"Cities\")\n",
    "\n",
    "# Incorporate the other graph properties.\n",
    "plt.title(f\"City Latitude vs. Cloudiness (%) \"+ time.strftime(\"%x\"))\n",
    "plt.ylabel(\"Cloudiness (%)\")\n",
    "plt.xlabel(\"Latitude\")\n",
    "plt.grid(True)\n",
    "\n",
    "# Save the figure.\n",
    "plt.savefig(\"weather_data/Fig3.png\")\n",
    "\n",
    "# Show plot.\n",
    "plt.show()"
   ]
  },
  {
   "cell_type": "code",
   "execution_count": 65,
   "id": "b54afad4",
   "metadata": {},
   "outputs": [
    {
     "data": {
      "image/png": "[encoded data removed]",
      "text/plain": [
       "<Figure size 432x288 with 1 Axes>"
      ]
     },
     "metadata": {
      "needs_background": "light"
     },
     "output_type": "display_data"
    }
   ],
   "source": [
    "# Build the scatter plots for latitude vs. wind speed.\n",
    "plt.scatter(lats,\n",
    "            wind_speed,\n",
    "            edgecolor=\"black\", linewidths=1, marker=\"o\",\n",
    "            alpha=0.8, label=\"Cities\")\n",
    "\n",
    "# Incorporate the other graph properties.\n",
    "plt.title(f\"City Latitude vs. Wind Speed \"+ time.strftime(\"%x\"))\n",
    "plt.ylabel(\"Wind Speed (mph)\")\n",
    "plt.xlabel(\"Latitude\")\n",
    "plt.grid(True)\n",
    "\n",
    "# Save the figure.\n",
    "plt.savefig(\"weather_data/Fig4.png\")\n",
    "\n",
    "# Show plot.\n",
    "plt.show()"
   ]
  },
  {
   "cell_type": "markdown",
   "id": "70c56495",
   "metadata": {},
   "source": [
    "# Linear Regression"
   ]
  },
  {
   "cell_type": "code",
   "execution_count": 75,
   "id": "48012cdb",
   "metadata": {},
   "outputs": [
    {
     "ename": "NameError",
     "evalue": "name 'x_values' is not defined",
     "output_type": "error",
     "traceback": [
      "\u001b[1;31m---------------------------------------------------------------------------\u001b[0m",
      "\u001b[1;31mNameError\u001b[0m                                 Traceback (most recent call last)",
      "\u001b[1;32m~\\AppData\\Local\\Temp\\ipykernel_21264\\2551385282.py\u001b[0m in \u001b[0;36m<module>\u001b[1;34m\u001b[0m\n\u001b[0;32m      1\u001b[0m \u001b[1;31m# Perform linear regression.\u001b[0m\u001b[1;33m\u001b[0m\u001b[1;33m\u001b[0m\u001b[1;33m\u001b[0m\u001b[0m\n\u001b[1;32m----> 2\u001b[1;33m \u001b[1;33m(\u001b[0m\u001b[0mslope\u001b[0m\u001b[1;33m,\u001b[0m \u001b[0mintercept\u001b[0m\u001b[1;33m,\u001b[0m \u001b[0mr_value\u001b[0m\u001b[1;33m,\u001b[0m \u001b[0mp_value\u001b[0m\u001b[1;33m,\u001b[0m \u001b[0mstd_err\u001b[0m\u001b[1;33m)\u001b[0m \u001b[1;33m=\u001b[0m \u001b[0mlinregress\u001b[0m\u001b[1;33m(\u001b[0m\u001b[0mx_values\u001b[0m\u001b[1;33m,\u001b[0m \u001b[0my_values\u001b[0m\u001b[1;33m)\u001b[0m\u001b[1;33m\u001b[0m\u001b[1;33m\u001b[0m\u001b[0m\n\u001b[0m\u001b[0;32m      3\u001b[0m \u001b[1;33m\u001b[0m\u001b[0m\n\u001b[0;32m      4\u001b[0m \u001b[1;31m# Calculate the regression line \"y values\" from the slope and intercept.\u001b[0m\u001b[1;33m\u001b[0m\u001b[1;33m\u001b[0m\u001b[1;33m\u001b[0m\u001b[0m\n\u001b[0;32m      5\u001b[0m \u001b[0mregress_values\u001b[0m \u001b[1;33m=\u001b[0m \u001b[0mx_values\u001b[0m \u001b[1;33m*\u001b[0m \u001b[0mslope\u001b[0m \u001b[1;33m+\u001b[0m \u001b[0mintercept\u001b[0m\u001b[1;33m\u001b[0m\u001b[1;33m\u001b[0m\u001b[0m\n",
      "\u001b[1;31mNameError\u001b[0m: name 'x_values' is not defined"
     ]
    }
   ],
   "source": [
    "# Perform linear regression.\n",
    "(slope, intercept, r_value, p_value, std_err) = linregress(x_values, y_values)\n",
    "\n",
    "# Calculate the regression line \"y values\" from the slope and intercept.\n",
    "regress_values = x_values * slope + intercept\n",
    "\n",
    "# Get the equation of the line.\n",
    "line_eq = \"y = \" + str(round(slope,2)) + \"x + \" + str(round(intercept,2))\n",
    "\n",
    "# Create a scatter plot of the x and y values.\n",
    "plt.scatter(x_values,y_values)\n",
    "# Plot the regression line with the x-values and the y coordinates based on the intercept and slope.\n",
    "plt.plot(x_values,regress_values,\"r\")\n",
    "# Annotate the text for the line equation and add its coordinates.\n",
    "plt.annotate(line_eq, (10,40), fontsize=15, color=\"red\")\n",
    "plt.title(title)\n",
    "plt.xlabel('Latitude')\n",
    "plt.ylabel('Temp')\n",
    "plt.show()"
   ]
  },
  {
   "cell_type": "code",
   "execution_count": 88,
   "id": "1e7b0363",
   "metadata": {},
   "outputs": [],
   "source": [
    "# Import linregress\n",
    "from scipy.stats import linregress\n",
    "\n",
    "# Create a function to create perform linear regression on the weather data\n",
    "# and plot a regression line and the equation with the data.\n",
    "def plot_linear_regression(x_values, y_values, title, y_label, text_coordinates):\n",
    "\n",
    "    # Run regression on hemisphere weather data.\n",
    "    (slope, intercept, r_value, p_value, std_err) = linregress(x_values, y_values)\n",
    "\n",
    "    # Calculate the regression line \"y values\" from the slope and intercept.\n",
    "    regress_values = x_values * slope + intercept\n",
    "    \n",
    "    # Get the equation of the line.\n",
    "    line_eq = \"y = \" + str(round(slope,2)) + \"x + \" + str(round(intercept,2))\n",
    "    \n",
    "    # Create a scatter plot and plot the regression line.\n",
    "    plt.scatter(x_values,y_values)\n",
    "    plt.plot(x_values,regress_values,\"r\")\n",
    "    \n",
    "    # Annotate the text for the line equation.\n",
    "    plt.annotate(line_eq, text_coordinates, fontsize=15, color=\"red\")\n",
    "    plt.title(title)\n",
    "    plt.xlabel('Latitude')\n",
    "    plt.ylabel(y_label)\n",
    "    plt.show()"
   ]
  },
  {
   "cell_type": "markdown",
   "id": "79555b69",
   "metadata": {},
   "source": [
    "# Northern Hemi Data"
   ]
  },
  {
   "cell_type": "code",
   "execution_count": 79,
   "id": "bb964a18",
   "metadata": {},
   "outputs": [
    {
     "data": {
      "text/plain": [
       "City                          Oga\n",
       "Country                        IT\n",
       "Date          2022-05-22 14:29:51\n",
       "Lat                       46.4631\n",
       "Lng                        10.347\n",
       "Max Temp                    70.81\n",
       "Humidity                       48\n",
       "Cloudiness                     95\n",
       "Wind Speed                   4.79\n",
       "Name: 13, dtype: object"
      ]
     },
     "execution_count": 79,
     "metadata": {},
     "output_type": "execute_result"
    }
   ],
   "source": [
    "index13 = city_data_df.loc[13]\n",
    "index13"
   ]
  },
  {
   "cell_type": "code",
   "execution_count": 82,
   "id": "b1acce1e",
   "metadata": {},
   "outputs": [
    {
     "data": {
      "text/html": [
       "<div>\n",
       "<style scoped>\n",
       "    .dataframe tbody tr th:only-of-type {\n",
       "        vertical-align: middle;\n",
       "    }\n",
       "\n",
       "    .dataframe tbody tr th {\n",
       "        vertical-align: top;\n",
       "    }\n",
       "\n",
       "    .dataframe thead th {\n",
       "        text-align: right;\n",
       "    }\n",
       "</style>\n",
       "<table border=\"1\" class=\"dataframe\">\n",
       "  <thead>\n",
       "    <tr style=\"text-align: right;\">\n",
       "      <th></th>\n",
       "      <th>City</th>\n",
       "      <th>Country</th>\n",
       "      <th>Date</th>\n",
       "      <th>Lat</th>\n",
       "      <th>Lng</th>\n",
       "      <th>Max Temp</th>\n",
       "      <th>Humidity</th>\n",
       "      <th>Cloudiness</th>\n",
       "      <th>Wind Speed</th>\n",
       "    </tr>\n",
       "  </thead>\n",
       "  <tbody>\n",
       "    <tr>\n",
       "      <th>0</th>\n",
       "      <td>Bermeo</td>\n",
       "      <td>ES</td>\n",
       "      <td>2022-05-22 14:29:49</td>\n",
       "      <td>43.4209</td>\n",
       "      <td>-2.7215</td>\n",
       "      <td>88.41</td>\n",
       "      <td>59</td>\n",
       "      <td>100</td>\n",
       "      <td>11.03</td>\n",
       "    </tr>\n",
       "    <tr>\n",
       "      <th>2</th>\n",
       "      <td>Thompson</td>\n",
       "      <td>CA</td>\n",
       "      <td>2022-05-22 14:26:34</td>\n",
       "      <td>55.7435</td>\n",
       "      <td>-97.8558</td>\n",
       "      <td>51.96</td>\n",
       "      <td>46</td>\n",
       "      <td>20</td>\n",
       "      <td>5.75</td>\n",
       "    </tr>\n",
       "    <tr>\n",
       "      <th>3</th>\n",
       "      <td>Lypnyazhka</td>\n",
       "      <td>UA</td>\n",
       "      <td>2022-05-22 14:29:49</td>\n",
       "      <td>48.4469</td>\n",
       "      <td>31.0761</td>\n",
       "      <td>60.85</td>\n",
       "      <td>57</td>\n",
       "      <td>76</td>\n",
       "      <td>20.18</td>\n",
       "    </tr>\n",
       "    <tr>\n",
       "      <th>5</th>\n",
       "      <td>Shimoda</td>\n",
       "      <td>JP</td>\n",
       "      <td>2022-05-22 14:29:50</td>\n",
       "      <td>34.6667</td>\n",
       "      <td>138.9500</td>\n",
       "      <td>65.86</td>\n",
       "      <td>91</td>\n",
       "      <td>34</td>\n",
       "      <td>7.99</td>\n",
       "    </tr>\n",
       "    <tr>\n",
       "      <th>6</th>\n",
       "      <td>Talnakh</td>\n",
       "      <td>RU</td>\n",
       "      <td>2022-05-22 14:29:51</td>\n",
       "      <td>69.4865</td>\n",
       "      <td>88.3972</td>\n",
       "      <td>34.21</td>\n",
       "      <td>100</td>\n",
       "      <td>100</td>\n",
       "      <td>2.30</td>\n",
       "    </tr>\n",
       "  </tbody>\n",
       "</table>\n",
       "</div>"
      ],
      "text/plain": [
       "         City Country                 Date      Lat       Lng  Max Temp  \\\n",
       "0      Bermeo      ES  2022-05-22 14:29:49  43.4209   -2.7215     88.41   \n",
       "2    Thompson      CA  2022-05-22 14:26:34  55.7435  -97.8558     51.96   \n",
       "3  Lypnyazhka      UA  2022-05-22 14:29:49  48.4469   31.0761     60.85   \n",
       "5     Shimoda      JP  2022-05-22 14:29:50  34.6667  138.9500     65.86   \n",
       "6     Talnakh      RU  2022-05-22 14:29:51  69.4865   88.3972     34.21   \n",
       "\n",
       "   Humidity  Cloudiness  Wind Speed  \n",
       "0        59         100       11.03  \n",
       "2        46          20        5.75  \n",
       "3        57          76       20.18  \n",
       "5        91          34        7.99  \n",
       "6       100         100        2.30  "
      ]
     },
     "execution_count": 82,
     "metadata": {},
     "output_type": "execute_result"
    }
   ],
   "source": [
    "city_data_df.loc[(city_data_df[\"Lat\"] >= 0)].head()"
   ]
  },
  {
   "cell_type": "code",
   "execution_count": 83,
   "id": "a2fb2282",
   "metadata": {},
   "outputs": [],
   "source": [
    "# Create Northern and Southern Hemisphere DataFrames.\n",
    "northern_hemi_df = city_data_df.loc[(city_data_df[\"Lat\"] >= 0)]\n",
    "southern_hemi_df = city_data_df.loc[(city_data_df[\"Lat\"] < 0)]"
   ]
  },
  {
   "cell_type": "code",
   "execution_count": 96,
   "id": "093bf40a",
   "metadata": {},
   "outputs": [
    {
     "data": {
      "image/png": "[encoded data removed]",
      "text/plain": [
       "<Figure size 432x288 with 1 Axes>"
      ]
     },
     "metadata": {
      "needs_background": "light"
     },
     "output_type": "display_data"
    }
   ],
   "source": [
    "# Linear regression on the Northern Hemisphere\n",
    "x_values = northern_hemi_df[\"Lat\"]\n",
    "y_values = northern_hemi_df[\"Max Temp\"]\n",
    "\n",
    "# Call the function.\n",
    "plot_linear_regression(x_values, y_values,\n",
    "                       'Linear Regression on the Northern Hemisphere \\\n",
    "                        for Maximum Temperature', 'Max Temp',(0,40))"
   ]
  },
  {
   "cell_type": "markdown",
   "id": "ff319688",
   "metadata": {},
   "source": [
    "# Southern Hemi Data"
   ]
  },
  {
   "cell_type": "code",
   "execution_count": 95,
   "id": "d0c0a4b9",
   "metadata": {},
   "outputs": [
    {
     "data": {
      "image/png": "[encoded data removed]",
      "text/plain": [
       "<Figure size 432x288 with 1 Axes>"
      ]
     },
     "metadata": {
      "needs_background": "light"
     },
     "output_type": "display_data"
    }
   ],
   "source": [
    "# Linear regression on the Southern Hemisphere\n",
    "x_values = southern_hemi_df[\"Lat\"]\n",
    "y_values = southern_hemi_df[\"Max Temp\"]\n",
    "\n",
    "# Call the function.\n",
    "plot_linear_regression(x_values, y_values,\n",
    "                       'Linear Regression on the Southern Hemisphere \\\n",
    "                        for Maximum Temperature', 'Max Temp',(-50,80))"
   ]
  },
  {
   "cell_type": "markdown",
   "id": "807b9aea",
   "metadata": {},
   "source": [
    "# Correlation between Lat and %Hum"
   ]
  },
  {
   "cell_type": "code",
   "execution_count": 89,
   "id": "3989b89a",
   "metadata": {},
   "outputs": [
    {
     "data": {
      "image/png": "[encoded data removed]",
      "text/plain": [
       "<Figure size 432x288 with 1 Axes>"
      ]
     },
     "metadata": {
      "needs_background": "light"
     },
     "output_type": "display_data"
    }
   ],
   "source": [
    "# Linear regression on the Northern Hemisphere\n",
    "x_values = northern_hemi_df[\"Lat\"]\n",
    "y_values = northern_hemi_df[\"Humidity\"]\n",
    "\n",
    "# Call the function.\n",
    "plot_linear_regression(x_values, y_values,\n",
    "                       'Linear Regression on the Northern Hemisphere \\\n",
    "                        for % Humidity', '% Humidity',(40,10))"
   ]
  },
  {
   "cell_type": "code",
   "execution_count": 90,
   "id": "88ac8636",
   "metadata": {},
   "outputs": [
    {
     "data": {
      "image/png": "[encoded data removed]",
      "text/plain": [
       "<Figure size 432x288 with 1 Axes>"
      ]
     },
     "metadata": {
      "needs_background": "light"
     },
     "output_type": "display_data"
    }
   ],
   "source": [
    "# Linear regression on the Southern Hemisphere\n",
    "x_values = southern_hemi_df[\"Lat\"]\n",
    "y_values = southern_hemi_df[\"Humidity\"]\n",
    "\n",
    "# Call the function.\n",
    "plot_linear_regression(x_values, y_values,\n",
    "                       'Linear Regression on the Southern Hemisphere \\\n",
    "                        for % Humidity', '% Humidity',(-50,15))"
   ]
  },
  {
   "cell_type": "markdown",
   "id": "1f414f34",
   "metadata": {},
   "source": [
    "# Correlation between Lat and %Cloud"
   ]
  },
  {
   "cell_type": "code",
   "execution_count": 91,
   "id": "d4fa3d1b",
   "metadata": {},
   "outputs": [
    {
     "data": {
      "image/png": "[encoded data removed]",
      "text/plain": [
       "<Figure size 432x288 with 1 Axes>"
      ]
     },
     "metadata": {
      "needs_background": "light"
     },
     "output_type": "display_data"
    }
   ],
   "source": [
    "# Linear regression on the Northern Hemisphere\n",
    "x_values = northern_hemi_df[\"Lat\"]\n",
    "y_values = northern_hemi_df[\"Cloudiness\"]\n",
    "\n",
    "# Call the function.\n",
    "plot_linear_regression(x_values, y_values,\n",
    "                       'Linear Regression on the Northern Hemisphere \\\n",
    "                        for % Cloudiness', '% Cloudiness',(40,10))"
   ]
  },
  {
   "cell_type": "code",
   "execution_count": 92,
   "id": "20e62c05",
   "metadata": {},
   "outputs": [
    {
     "data": {
      "image/png": "[encoded data removed]",
      "text/plain": [
       "<Figure size 432x288 with 1 Axes>"
      ]
     },
     "metadata": {
      "needs_background": "light"
     },
     "output_type": "display_data"
    }
   ],
   "source": [
    "# Linear regression on the Southern Hemisphere\n",
    "x_values = southern_hemi_df[\"Lat\"]\n",
    "y_values = southern_hemi_df[\"Cloudiness\"]\n",
    "\n",
    "# Call the function.\n",
    "plot_linear_regression(x_values, y_values,\n",
    "                       'Linear Regression on the Southern Hemisphere \\\n",
    "                        for % Cloudiness', '% Cloudiness',(-50,15))"
   ]
  },
  {
   "cell_type": "markdown",
   "id": "f8a70b94",
   "metadata": {},
   "source": [
    "# Correlation between Lat and Wind Speed"
   ]
  },
  {
   "cell_type": "code",
   "execution_count": 94,
   "id": "5324ed4a",
   "metadata": {},
   "outputs": [
    {
     "data": {
      "image/png": "[encoded data removed]",
      "text/plain": [
       "<Figure size 432x288 with 1 Axes>"
      ]
     },
     "metadata": {
      "needs_background": "light"
     },
     "output_type": "display_data"
    }
   ],
   "source": [
    "# Linear regression on the Northern Hemisphere\n",
    "x_values = northern_hemi_df[\"Lat\"]\n",
    "y_values = northern_hemi_df[\"Wind Speed\"]\n",
    "\n",
    "# Call the function.\n",
    "plot_linear_regression(x_values, y_values,\n",
    "                       'Linear Regression on the Northern Hemisphere \\\n",
    "                        for Wind Speed', 'Wind Speed',(40,35))"
   ]
  },
  {
   "cell_type": "code",
   "execution_count": 99,
   "id": "9bef1e28",
   "metadata": {},
   "outputs": [
    {
     "data": {
      "image/png": "[encoded data removed]",
      "text/plain": [
       "<Figure size 432x288 with 1 Axes>"
      ]
     },
     "metadata": {
      "needs_background": "light"
     },
     "output_type": "display_data"
    }
   ],
   "source": [
    "# Linear regression on the Southern Hemisphere\n",
    "x_values = southern_hemi_df[\"Lat\"]\n",
    "y_values = southern_hemi_df[\"Wind Speed\"]\n",
    "\n",
    "# Call the function.\n",
    "plot_linear_regression(x_values, y_values,\n",
    "                       'Linear Regression on the Southern Hemisphere \\\n",
    "                        for Wind Speed', 'Wind Speed',(-25, 20))"
   ]
  },
  {
   "cell_type": "code",
   "execution_count": null,
   "id": "93695815",
   "metadata": {},
   "outputs": [],
   "source": []
  }
 ],
 "metadata": {
  "kernelspec": {
   "display_name": "PythonData",
   "language": "python",
   "name": "pythondata"
  },
  "language_info": {
   "codemirror_mode": {
    "name": "ipython",
    "version": 3
   },
   "file_extension": ".py",
   "mimetype": "text/x-python",
   "name": "python",
   "nbconvert_exporter": "python",
   "pygments_lexer": "ipython3",
   "version": "3.7.11"
  }
 },
 "nbformat": 4,
 "nbformat_minor": 5
}
